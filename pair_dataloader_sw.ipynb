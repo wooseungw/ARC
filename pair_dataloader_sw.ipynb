{
 "cells": [
  {
   "cell_type": "code",
   "execution_count": 94,
   "metadata": {},
   "outputs": [],
   "source": [
    "import numpy as np\n",
    "import pandas as pd\n",
    "import torch\n",
    "from torch.utils.data import Dataset\n",
    "import torch.nn.functional as F\n",
    "import json\n",
    "import matplotlib.pyplot as plt\n",
    "\n",
    "\n",
    "def load_json(file_path):\n",
    "    with open(file_path) as f:\n",
    "        data = json.load(f)\n",
    "    return data\n",
    "\n",
    "class ARC_Dataset(Dataset):\n",
    "    def __init__(self, challenges, solution):\n",
    "        challenges = load_json(challenges)\n",
    "        solution = load_json(solution)\n",
    "        self.data = []\n",
    "\n",
    "        for key, value in challenges.items():\n",
    "            for i in range(len(value['test'])):\n",
    "                task_input = value['test'][i]['input']\n",
    "                task_output = solution[key][i]\n",
    "\n",
    "                example_input_list = [ex['input'] for ex in value['train']]\n",
    "                example_output_list = [ex['output'] for ex in value['train']]\n",
    "                num_examples = len(example_input_list)\n",
    "\n",
    "                # 모든 가능한 예제 조합 생성 (예제 3쌍씩)\n",
    "                for idx in range(0, num_examples, 3):\n",
    "                    ex_inputs = example_input_list[idx:idx+3]\n",
    "                    ex_outputs = example_output_list[idx:idx+3]\n",
    "\n",
    "                    # 예제가 3개보다 적으면 복제하여 3개로 만듦\n",
    "                    while len(ex_inputs) < 3:\n",
    "                        ex_inputs.append(example_input_list[idx % num_examples])\n",
    "                        ex_outputs.append(example_output_list[idx % num_examples])\n",
    "                        idx += 1\n",
    "\n",
    "                    self.data.append({\n",
    "                        'id': key,\n",
    "                        'task_input': task_input,\n",
    "                        'task_output': task_output,\n",
    "                        'example_inputs': ex_inputs,\n",
    "                        'example_outputs': ex_outputs\n",
    "                    })\n",
    "\n",
    "        # 리스트를 데이터프레임으로 변환\n",
    "        self.df = pd.DataFrame(self.data)\n",
    "\n",
    "    def __len__(self):\n",
    "        return len(self.df)\n",
    "    \n",
    "    def pad_to_30x30(self, tensor):\n",
    "        if tensor.dim() == 2:\n",
    "            tensor = tensor.unsqueeze(0)\n",
    "        c, h, w = tensor.shape\n",
    "        pad_h = max(0, 30 - h)\n",
    "        pad_w = max(0, 30 - w)\n",
    "        padding = (pad_w // 2, pad_w - pad_w // 2, pad_h // 2, pad_h - pad_h // 2)\n",
    "        tensor = F.pad(tensor, padding, mode='constant', value=0)\n",
    "        return tensor\n",
    "\n",
    "    def __getitem__(self, idx):\n",
    "        row = self.df.iloc[idx]\n",
    "\n",
    "        # 작업 입력과 출력 변환 및 패딩\n",
    "        task_input = self.pad_to_30x30(torch.tensor(row['task_input'], dtype=torch.float32) + 1)\n",
    "        task_output = self.pad_to_30x30(torch.tensor(row['task_output'], dtype=torch.float32) + 1)\n",
    "\n",
    "        # 예제 입력과 출력 변환 및 패딩\n",
    "        example_inputs = []\n",
    "        example_outputs = []\n",
    "        for ex_inp, ex_out in zip(row['example_inputs'], row['example_outputs']):\n",
    "            ex_inp_padded = self.pad_to_30x30(torch.tensor(ex_inp, dtype=torch.float32) + 1)\n",
    "            ex_out_padded = self.pad_to_30x30(torch.tensor(ex_out, dtype=torch.float32) + 1)\n",
    "            example_inputs.append(ex_inp_padded)\n",
    "            example_outputs.append(ex_out_padded)\n",
    "\n",
    "        # 예제 입력과 출력을 텐서로 스택\n",
    "        example_input = torch.stack(example_inputs)\n",
    "        example_output = torch.stack(example_outputs)\n",
    "\n",
    "        return task_input, task_output, example_input, example_output\n",
    "\n",
    "# 데이터셋 인스턴스 생성\n",
    "train_challenge = './kaggle/input/arc-prize-2024/arc-agi_training_challenges.json'\n",
    "train_solution = \"./kaggle/input/arc-prize-2024/arc-agi_training_solutions.json\"\n",
    "\n",
    "train_dataset = ARC_Dataset(train_challenge, train_solution)\n"
   ]
  },
  {
   "cell_type": "code",
   "execution_count": 90,
   "metadata": {},
   "outputs": [],
   "source": [
    "def one_hot_encoding(tensor):\n",
    "    tensor = F.one_hot(tensor.long(), num_classes=11)\n",
    "    tensor = tensor.permute(0, 3, 1, 2)\n",
    "    tensor = tensor.squeeze(0)        \n",
    "    return tensor"
   ]
  },
  {
   "cell_type": "code",
   "execution_count": 92,
   "metadata": {},
   "outputs": [
    {
     "name": "stdout",
     "output_type": "stream",
     "text": [
      "torch.Size([10, 1, 30, 30]) torch.Size([10, 1, 30, 30]) torch.Size([10, 3, 1, 30, 30]) torch.Size([10, 3, 1, 30, 30])\n"
     ]
    }
   ],
   "source": [
    "train_loader = DataLoader(train_dataset, batch_size=10, shuffle=True)\n",
    "\n",
    "ti, to, ei, eo = next(iter(train_loader))\n",
    "\n",
    "print(ti.shape, to.shape, ei.shape, eo.shape)"
   ]
  },
  {
   "cell_type": "code",
   "execution_count": 87,
   "metadata": {},
   "outputs": [
    {
     "name": "stdout",
     "output_type": "stream",
     "text": [
      "torch.Size([1, 30, 30])\n",
      "torch.Size([11, 30, 30])\n"
     ]
    }
   ],
   "source": [
    "ex = ei[0,0]\n",
    "print(ex.shape)\n",
    "ex = one_hot_encoding(ex)\n",
    "print(ex.shape)"
   ]
  },
  {
   "cell_type": "code",
   "execution_count": 95,
   "metadata": {},
   "outputs": [
    {
     "data": {
      "image/png": "[encoded data removed]",
      "text/plain": [
       "<Figure size 1000x500 with 8 Axes>"
      ]
     },
     "metadata": {},
     "output_type": "display_data"
    }
   ],
   "source": [
    "# 데이터셋에서 첫 번째 샘플을 가져옵니다.\n",
    "task_input, task_output, example_input, example_output = train_dataset[0]\n",
    "\n",
    "# 텐서를 NumPy 배열로 변환하고, 클래스 인덱스를 원래대로 복원하기 위해 1을 빼줍니다.\n",
    "task_input_np = task_input.squeeze().numpy() - 1\n",
    "task_output_np = task_output.squeeze().numpy() - 1\n",
    "example_input_np = example_input.squeeze().numpy() - 1\n",
    "example_output_np = example_output.squeeze().numpy() - 1\n",
    "\n",
    "# 시각화를 위해 컬러맵을 정의합니다.\n",
    "from matplotlib.colors import ListedColormap\n",
    "\n",
    "# ARC 데이터셋의 컬러맵 (10가지 색상)\n",
    "arc_colors = [\n",
    "    (0, 0, 0),         # 0: 검정\n",
    "    (255, 0, 0),       # 1: 빨강\n",
    "    (0, 255, 0),       # 2: 초록\n",
    "    (0, 0, 255),       # 3: 파랑\n",
    "    (255, 255, 0),     # 4: 노랑\n",
    "    (255, 0, 255),     # 5: 마젠타\n",
    "    (0, 255, 255),     # 6: 시안\n",
    "    (255, 165, 0),     # 7: 주황\n",
    "    (128, 0, 128),     # 8: 보라\n",
    "    (128, 128, 128),   # 9: 회색\n",
    "]\n",
    "\n",
    "# RGB 값을 [0,1] 범위로 변환\n",
    "arc_colors = [(r/255, g/255, b/255) for r, g, b in arc_colors]\n",
    "cmap = ListedColormap(arc_colors)\n",
    "\n",
    "# 시각화 함수 정의\n",
    "def plot_grid(grid, title):\n",
    "    plt.imshow(grid, cmap=cmap, interpolation='nearest', vmin=0, vmax=9)\n",
    "    plt.title(title)\n",
    "    plt.axis('off')\n",
    "\n",
    "# 플롯 크기 설정\n",
    "plt.figure(figsize=(10, 5))\n",
    "\n",
    "# 작업 입력과 출력 시각화\n",
    "plt.subplot(2, 4, 1)\n",
    "plot_grid(task_input_np, 'Task Input')\n",
    "\n",
    "plt.subplot(2, 4, 5)\n",
    "plot_grid(task_output_np, 'Task Output')\n",
    "\n",
    "# 예제 입력/출력 시각화\n",
    "for i in range(3):\n",
    "    plt.subplot(2, 4, i+2)\n",
    "    plot_grid(example_input_np[i], f'Example Input {i+1}')\n",
    "\n",
    "    plt.subplot(2, 4, i+6)\n",
    "    plot_grid(example_output_np[i], f'Example Output {i+1}')\n",
    "\n",
    "plt.tight_layout()\n",
    "plt.show()"
   ]
  }
 ],
 "metadata": {
  "kernelspec": {
   "display_name": "dust",
   "language": "python",
   "name": "python3"
  },
  "language_info": {
   "codemirror_mode": {
    "name": "ipython",
    "version": 3
   },
   "file_extension": ".py",
   "mimetype": "text/x-python",
   "name": "python",
   "nbconvert_exporter": "python",
   "pygments_lexer": "ipython3",
   "version": "3.12.2"
  }
 },
 "nbformat": 4,
 "nbformat_minor": 2
}
