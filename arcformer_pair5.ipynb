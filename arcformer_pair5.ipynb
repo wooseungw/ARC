{
 "cells": [
  {
   "cell_type": "code",
   "execution_count": 14,
   "metadata": {},
   "outputs": [],
   "source": [
    "import torch\n",
    "import torch.nn as nn\n",
    "from torch.utils.data import DataLoader\n",
    "from torch import optim\n",
    "import torch.nn.functional as F\n",
    "from tqdm import tqdm\n",
    "import matplotlib.pyplot as plt\n",
    "import math\n",
    "import numpy as np"
   ]
  },
  {
   "cell_type": "code",
   "execution_count": 15,
   "metadata": {},
   "outputs": [],
   "source": [
    "class LayerNorm(nn.Module):\n",
    "    def __init__(self, dim, eps=1e-5):\n",
    "        super().__init__()\n",
    "        self.eps = eps\n",
    "        self.g = nn.Parameter(torch.ones(1, dim, 1, 1))\n",
    "        self.b = nn.Parameter(torch.zeros(1, dim, 1, 1))\n",
    "\n",
    "    def forward(self, x):\n",
    "        std = torch.var(x, dim=1, unbiased=False, keepdim=True).sqrt()\n",
    "        mean = torch.mean(x, dim=1, keepdim=True)\n",
    "        return (x - mean) / (std + self.eps) * self.g + self.b\n",
    "\n",
    "class PreNorm(nn.Module):\n",
    "    def __init__(self, dim, fn):\n",
    "        super().__init__()\n",
    "        self.fn = fn\n",
    "        self.norm = LayerNorm(dim)\n",
    "\n",
    "    def forward(self, x):\n",
    "        return self.fn(self.norm(x))\n",
    "\n",
    "class DsConv2d(nn.Module):\n",
    "    def __init__(self, dim_in, dim_out, kernel_size, padding, stride = 1, bias = True):\n",
    "        super().__init__()\n",
    "        self.net = nn.Sequential(\n",
    "            nn.Conv2d(dim_in, dim_in, kernel_size = kernel_size, padding = padding, groups = dim_in, stride = stride, bias=bias),\n",
    "            nn.Conv2d(dim_in, dim_out, kernel_size = 1, bias = bias)\n",
    "        )\n",
    "    def forward(self, x):\n",
    "        return self.net(x)\n",
    "## 디코더\n",
    "class BasicConv(nn.Module):\n",
    "    def __init__(self, in_planes, out_planes, kernel_size, stride=1, padding=0, dilation=1, groups=1, relu=True, bn=True, bias=False):\n",
    "        super(BasicConv, self).__init__()\n",
    "        self.out_channels = out_planes\n",
    "        self.conv = nn.Conv2d(in_planes, out_planes, kernel_size=kernel_size, stride=stride, padding=padding, dilation=dilation, groups=groups, bias=bias)\n",
    "        self.bn = nn.BatchNorm2d(out_planes,eps=1e-5, momentum=0.01, affine=True) if bn else None\n",
    "        self.relu = nn.ReLU() if relu else None\n",
    "\n",
    "    def forward(self, x):\n",
    "        x = self.conv(x)\n",
    "        if self.bn is not None:\n",
    "            x = self.bn(x)\n",
    "        if self.relu is not None:\n",
    "            x = self.relu(x)\n",
    "        return x\n",
    "\n",
    "class Flatten(nn.Module):\n",
    "    def forward(self, x):\n",
    "        return x.view(x.size(0), -1)\n",
    "\n",
    "class ChannelGate(nn.Module):\n",
    "    def __init__(self, gate_channels, reduction_ratio=16, pool_types=['avg', 'max']):\n",
    "        super(ChannelGate, self).__init__()\n",
    "        self.gate_channels = gate_channels\n",
    "        self.mlp = nn.Sequential(\n",
    "            Flatten(),\n",
    "            nn.Linear(gate_channels, gate_channels // reduction_ratio),\n",
    "            nn.ReLU(),\n",
    "            nn.Linear(gate_channels // reduction_ratio, gate_channels)\n",
    "            )\n",
    "        self.pool_types = pool_types\n",
    "    def forward(self, x):\n",
    "        channel_att_sum = None\n",
    "        for pool_type in self.pool_types:\n",
    "            if pool_type=='avg':\n",
    "                avg_pool = F.avg_pool2d( x, (x.size(2), x.size(3)), stride=(x.size(2), x.size(3)))\n",
    "                channel_att_raw = self.mlp( avg_pool )\n",
    "            elif pool_type=='max':\n",
    "                max_pool = F.max_pool2d( x, (x.size(2), x.size(3)), stride=(x.size(2), x.size(3)))\n",
    "                channel_att_raw = self.mlp( max_pool )\n",
    "            elif pool_type=='lp':\n",
    "                lp_pool = F.lp_pool2d( x, 2, (x.size(2), x.size(3)), stride=(x.size(2), x.size(3)))\n",
    "                channel_att_raw = self.mlp( lp_pool )\n",
    "            elif pool_type=='lse':\n",
    "                # LSE pool only\n",
    "                lse_pool = logsumexp_2d(x)\n",
    "                channel_att_raw = self.mlp( lse_pool )\n",
    "\n",
    "            if channel_att_sum is None:\n",
    "                channel_att_sum = channel_att_raw\n",
    "            else:\n",
    "                channel_att_sum = channel_att_sum + channel_att_raw\n",
    "\n",
    "        scale = F.sigmoid( channel_att_sum ).unsqueeze(2).unsqueeze(3).expand_as(x)\n",
    "        return x * scale\n",
    "\n",
    "def logsumexp_2d(tensor):\n",
    "    tensor_flatten = tensor.view(tensor.size(0), tensor.size(1), -1)\n",
    "    s, _ = torch.max(tensor_flatten, dim=2, keepdim=True)\n",
    "    outputs = s + (tensor_flatten - s).exp().sum(dim=2, keepdim=True).log()\n",
    "    return outputs\n",
    "\n",
    "class ChannelPool(nn.Module):\n",
    "    def forward(self, x):\n",
    "        return torch.cat( (torch.max(x,1)[0].unsqueeze(1), torch.mean(x,1).unsqueeze(1)), dim=1 )\n",
    "\n",
    "class SpatialGate(nn.Module):\n",
    "    def __init__(self):\n",
    "        super(SpatialGate, self).__init__()\n",
    "        kernel_size = 7\n",
    "        self.compress = ChannelPool()\n",
    "        self.spatial = BasicConv(2, 1, kernel_size, stride=1, padding=(kernel_size-1) // 2, relu=False)\n",
    "    def forward(self, x):\n",
    "        x_compress = self.compress(x)\n",
    "        x_out = self.spatial(x_compress)\n",
    "        scale = F.sigmoid(x_out) # broadcasting\n",
    "        return x * scale\n",
    "\n",
    "class CBAM(nn.Module):\n",
    "    def __init__(self, gate_channels, reduction_ratio=16, pool_types=['avg', 'max'], no_spatial=False):\n",
    "        super(CBAM, self).__init__()\n",
    "        self.ChannelGate = ChannelGate(gate_channels, reduction_ratio, pool_types)\n",
    "        self.no_spatial=no_spatial\n",
    "        if not no_spatial:\n",
    "            self.SpatialGate = SpatialGate()\n",
    "    def forward(self, x):\n",
    "        x_out = self.ChannelGate(x)\n",
    "        if not self.no_spatial:\n",
    "            x_out = self.SpatialGate(x_out)\n",
    "        return x_out\n"
   ]
  },
  {
   "cell_type": "code",
   "execution_count": 16,
   "metadata": {},
   "outputs": [],
   "source": [
    "import torch\n",
    "from torch import nn, einsum\n",
    "import torch.nn.functional as F\n",
    "from functools import partial\n",
    "from einops import rearrange\n",
    "from math import sqrt\n",
    "\n",
    "def cast_tuple(val, depth):\n",
    "    return val if isinstance(val, tuple) else (val,) * depth\n",
    "\n",
    "class EfficientSelfAttention(nn.Module):\n",
    "    def __init__(\n",
    "        self,\n",
    "        *,\n",
    "        dim,\n",
    "        heads,\n",
    "        reduction_ratio\n",
    "    ):\n",
    "        super().__init__()\n",
    "        self.scale = (dim // heads) ** -0.5\n",
    "        self.heads = heads\n",
    "\n",
    "        self.to_q = nn.Conv2d(dim, dim, 1, bias = False)\n",
    "        self.to_kv = nn.Conv2d(dim, dim * 2, reduction_ratio, stride = reduction_ratio, bias = False)\n",
    "        self.to_out = nn.Conv2d(dim, dim, 1, bias = False)\n",
    "\n",
    "    def forward(self, x):\n",
    "        h, w = x.shape[-2:]\n",
    "        heads = self.heads\n",
    "\n",
    "        q, k, v = (self.to_q(x), *self.to_kv(x).chunk(2, dim = 1))\n",
    "        q, k, v = map(lambda t: rearrange(t, 'b (h c) x y -> (b h) (x y) c', h = heads), (q, k, v))\n",
    "\n",
    "        sim = einsum('b i d, b j d -> b i j', q, k) * self.scale\n",
    "        attn = sim.softmax(dim = -1)\n",
    "\n",
    "        out = einsum('b i j, b j d -> b i d', attn, v)\n",
    "        out = rearrange(out, '(b h) (x y) c -> b (h c) x y', h = heads, x = h, y = w)\n",
    "        return self.to_out(out)\n",
    "\n",
    "\n",
    "class MixFeedForward(nn.Module):\n",
    "    def __init__(\n",
    "        self,\n",
    "        *,\n",
    "        dim,\n",
    "        expansion_factor\n",
    "    ):\n",
    "        super().__init__()\n",
    "        hidden_dim = dim * expansion_factor\n",
    "        self.net = nn.Sequential(\n",
    "            nn.Conv2d(dim, hidden_dim, 1),\n",
    "            DsConv2d(hidden_dim, hidden_dim, 3, padding = 1),\n",
    "            nn.GELU(),\n",
    "            nn.Conv2d(hidden_dim, dim, 1)\n",
    "        )\n",
    "\n",
    "    def forward(self, x):\n",
    "        return self.net(x)\n",
    "\n",
    "## 컨볼루션 임베딩\n",
    "class Embedding(nn.Module):\n",
    "    def __init__(self, dim_in,dim_out, kernel_size, stride, padding):\n",
    "        super(Embedding, self).__init__()\n",
    "        self.embedding = nn.Conv2d(dim_in, \n",
    "                                   dim_out, \n",
    "                                   kernel_size=kernel_size, \n",
    "                                   stride=stride, \n",
    "                                   padding=padding)\n",
    "        \n",
    "    def forward(self, x):\n",
    "        return self.embedding(x)\n",
    "    \n",
    "'''\n",
    "5. MiT (Mixer Transformer)\n",
    "이미지를 여러 스테이지로 처리합니다. 각 스테이지는 이미지를 패치로 나누고, 패치를 임베딩한 후, 여러 개의 Transformer 레이어를 적용합니다.\n",
    "이 과정은 이미지의 다양한 해상도에서 특징을 추출합니다. \n",
    "'''    \n",
    "class MiT(nn.Module):\n",
    "    def __init__(\n",
    "        self,\n",
    "        *,\n",
    "        channels,\n",
    "        dims,\n",
    "        heads,\n",
    "        ff_expansion,\n",
    "        reduction_ratio,\n",
    "        num_layers,\n",
    "        stage_kernel_stride_pad = ((7, 4, 3),  \n",
    "                                   (3, 2, 1), \n",
    "                                   (3, 2, 1), \n",
    "                                   (3, 2, 1))\n",
    "    ):\n",
    "        super().__init__()\n",
    "\n",
    "\n",
    "        dims = (channels, *dims)\n",
    "        dim_pairs = list(zip(dims[:-1], dims[1:]))\n",
    "\n",
    "        self.stages = nn.ModuleList([])\n",
    "\n",
    "        for (dim_in, dim_out), (kernel, stride, padding), num_layers, ff_expansion, heads, reduction_ratio in zip(\n",
    "            dim_pairs, stage_kernel_stride_pad, num_layers, ff_expansion, heads, reduction_ratio):\n",
    "            #여기서 너비와 높이가 같은 정사각형 패치를 사용합니다.\n",
    "            get_overlap_patches = nn.Unfold(kernel, stride = stride, padding = padding)\n",
    "            overlap_patch_embed = nn.Conv2d(dim_in * kernel ** 2, dim_out, 1)\n",
    "\n",
    "            layers = nn.ModuleList([])\n",
    "\n",
    "            for _ in range(num_layers):\n",
    "                layers.append(nn.ModuleList([\n",
    "                    PreNorm(dim_out, EfficientSelfAttention(dim = dim_out, heads = heads, reduction_ratio = reduction_ratio)),\n",
    "                    PreNorm(dim_out, MixFeedForward(dim = dim_out, expansion_factor = ff_expansion)),\n",
    "                ]))\n",
    "\n",
    "            self.stages.append(nn.ModuleList([\n",
    "                get_overlap_patches,\n",
    "                overlap_patch_embed,\n",
    "                layers\n",
    "            ]))\n",
    "\n",
    "    def forward(\n",
    "        self,\n",
    "        x,\n",
    "        return_layer_outputs = False\n",
    "    ):\n",
    "        h, w = x.shape[-2:]\n",
    "        \n",
    "        \n",
    "        layer_outputs = []\n",
    "        for (get_overlap_patches, overlap_embed, layers) in self.stages:\n",
    "            x = get_overlap_patches(x)\n",
    "            \n",
    "            num_patches = x.shape[-1]\n",
    "            ratio = int(sqrt((h * w) / num_patches))\n",
    "            \n",
    "            x = rearrange(x, 'b c (h w) -> b c h w', h = h // ratio)\n",
    "\n",
    "            x = overlap_embed(x)\n",
    "            for (attn, ff) in layers:\n",
    "                x = attn(x) + x\n",
    "                x = ff(x) + x\n",
    "\n",
    "            layer_outputs.append(x)\n",
    "\n",
    "        ret = x if not return_layer_outputs else layer_outputs\n",
    "        return ret\n"
   ]
  },
  {
   "cell_type": "code",
   "execution_count": 17,
   "metadata": {},
   "outputs": [],
   "source": [
    "# class EfficientCrossAttention(nn.Module):\n",
    "#     def __init__(\n",
    "#         self,\n",
    "#         *,\n",
    "#         dim,\n",
    "#         heads,\n",
    "#         reduction_ratio\n",
    "#     ):\n",
    "#         super().__init__()\n",
    "#         self.scale = (dim // heads) ** -0.5\n",
    "#         self.heads = heads\n",
    "\n",
    "#         self.to_q = nn.Conv2d(dim, dim, 1, bias = False)\n",
    "#         self.to_kv = nn.Conv2d(dim, dim * 2, reduction_ratio, stride = reduction_ratio, bias = False)\n",
    "#         self.to_out = nn.Conv2d(dim, dim, 1, bias = False)\n",
    "\n",
    "#     def forward(self, x1, x2):\n",
    "#         h, w = x1.shape[-2:]\n",
    "#         heads = self.heads\n",
    "\n",
    "#         q, k, v = (self.to_q(x1), *self.to_kv(x2).chunk(2, dim = 1))\n",
    "#         q, k, v = map(lambda t: rearrange(t, 'b (h c) x y -> (b h) (x y) c', h = heads), (q, k, v))\n",
    "\n",
    "#         sim = einsum('b i d, b j d -> b i j', q, k) * self.scale\n",
    "#         attn = sim.softmax(dim = -1)\n",
    "\n",
    "#         out = einsum('b i j, b j d -> b i d', attn, v)\n",
    "#         out = rearrange(out, '(b h) (x y) c -> b (h c) x y', h = heads, x = h, y = w)\n",
    "#         return self.to_out(out)\n",
    "\n",
    "# class McT(nn.Module):\n",
    "#     def __init__(\n",
    "#         self,\n",
    "#         *,\n",
    "#         dims = 256,\n",
    "#         heads = 4,\n",
    "#         ff_expansion =4,\n",
    "#         reduction_ratio=2,\n",
    "#         num_layers=4,\n",
    "#     ):\n",
    "#         super().__init__()\n",
    "        \n",
    "#         self.stages = nn.ModuleList([])\n",
    "        \n",
    "#         for _ in range(num_layers):\n",
    "#             layers = nn.ModuleList([])\n",
    "#             layers.append(nn.ModuleList([\n",
    "#                 EfficientCrossAttention(dim = dims, heads = heads, reduction_ratio = reduction_ratio),\n",
    "#                 LayerNorm(dims),\n",
    "#                 MixFeedForward(dim = dims, expansion_factor = ff_expansion),\n",
    "#                 LayerNorm(dims),\n",
    "#             ]))\n",
    "#             self.stages.append(layers)\n",
    "        \n",
    "            \n",
    "#     def forward(self, x1, x2):\n",
    "#         for layers in self.stages:\n",
    "#             for attn,norm1, ff,norm2 in layers:\n",
    "#                 x1 = attn(x1, x2) + x1\n",
    "#                 x1 = norm1(x1)\n",
    "#                 x1 = ff(x1) + x1\n",
    "#                 x1 = norm2(x1)\n",
    "#         return x1\n",
    "\n",
    "# x1 = torch.randn(1, 256, 32, 32)\n",
    "# x2 = torch.randn(1, 256, 32, 32)\n",
    "# model = McT()\n",
    "# x = model(x1, x2)\n",
    "# x.shape"
   ]
  },
  {
   "cell_type": "code",
   "execution_count": 18,
   "metadata": {},
   "outputs": [
    {
     "name": "stdout",
     "output_type": "stream",
     "text": [
      "256\n",
      "torch.Size([1, 128, 32, 32])\n",
      "torch.Size([1, 128, 32, 32])\n"
     ]
    }
   ],
   "source": [
    "import torch\n",
    "x = torch.randn(1, 256, 32, 32)\n",
    "c ,h, w= x.shape[-3:]\n",
    "print(c)\n",
    "x1 = x[:, :c//2, :, :]\n",
    "print(x1.shape)\n",
    "x2 = x[:, c//2:, :, :]\n",
    "print(x2.shape)"
   ]
  },
  {
   "cell_type": "code",
   "execution_count": 19,
   "metadata": {},
   "outputs": [],
   "source": [
    "# 모델 생성 및 출력\n",
    "model_args = {\n",
    "    'dims': (32, 64, 128, 256),\n",
    "    'heads': 4,\n",
    "    'ff_expansion': 4,\n",
    "    'reduction_ratio': (4,2,2,2),\n",
    "    'num_layers': (1,2,3,4),\n",
    "    'channels': 11,\n",
    "    'num_classes': 11,\n",
    "    'kernel_stride_paddings': ((3, 1, 1),(3, 1, 1),(3, 2, 1),(3, 2, 1))\n",
    "    }"
   ]
  },
  {
   "cell_type": "code",
   "execution_count": 26,
   "metadata": {},
   "outputs": [],
   "source": [
    "class Head(nn.Module):\n",
    "    def __init__(self, input_dim = 256 , num_classes=11):\n",
    "        super().__init__()\n",
    "        self.layers = nn.Sequential(\n",
    "            nn.Conv2d(input_dim , (input_dim//3)*2, kernel_size=1),  \n",
    "            nn.GELU(),\n",
    "            nn.Dropout(0.1),\n",
    "            nn.Conv2d((input_dim//3)*2 , input_dim//3, kernel_size=1),  \n",
    "            nn.Conv2d(input_dim//3, num_classes, kernel_size=1)\n",
    "        )\n",
    "        \n",
    "    def forward(self, x):\n",
    "        return self.layers(x)\n",
    "\n",
    "class ReduceWithNorm(nn.Module):\n",
    "    def __init__(self, in_channels, out_channels):\n",
    "        super(ReduceWithNorm, self).__init__()\n",
    "        # 1x1 Convolution to reduce channel size (compression)\n",
    "        self.conv1 = nn.Conv2d(in_channels, out_channels, kernel_size=1)\n",
    "        self.bn1 = nn.BatchNorm2d(out_channels)  # Batch Normalization\n",
    "\n",
    "        # 3x3 Convolution to extract spatial information\n",
    "        self.conv2 = nn.Conv2d(out_channels, out_channels, kernel_size=3, padding=1)\n",
    "        self.bn2 = nn.BatchNorm2d(out_channels)  # Batch Normalization\n",
    "\n",
    "        # 1x1 Convolution to restore channel size\n",
    "        self.conv3 = nn.Conv2d(out_channels, out_channels, kernel_size=1)\n",
    "        self.bn3 = nn.BatchNorm2d(out_channels)  # Batch Normalization\n",
    "        \n",
    "        self.relu = nn.ReLU(inplace=True)\n",
    "\n",
    "    def forward(self, x):\n",
    "        x = self.relu(self.bn1(self.conv1(x)))  # Compress channel size + Normalize\n",
    "        x = self.relu(self.bn2(self.conv2(x)))  # Process spatial information + Normalize\n",
    "        x = self.bn3(self.conv3(x))  # Restore original channel size + Normalize\n",
    "        return self.relu(x)\n",
    "\n",
    "class ARC_Net(nn.Module):\n",
    "    def __init__(\n",
    "        self,\n",
    "        *,\n",
    "        dims=(32, 64, 160, 256),\n",
    "        heads=(1, 2, 5, 8),\n",
    "        ff_expansion=(8, 8, 4, 4),\n",
    "        reduction_ratio=(8, 4, 2, 1),\n",
    "        num_layers=2,\n",
    "        channels=11,\n",
    "        num_classes=11,\n",
    "        kernel_stride_paddings = ((1, 1, 0),(3, 2, 1), (3, 2, 1), (3, 2, 1))\n",
    "    ):\n",
    "        super().__init__()\n",
    "        self.channels = channels\n",
    "        \n",
    "        len_mit = len(kernel_stride_paddings)-1\n",
    "        \n",
    "        decoder_dim = dims[-1] * (len_mit)\n",
    "        \n",
    "        dims, heads, ff_expansion, reduction_ratio, num_layers = map(\n",
    "            partial(cast_tuple, depth=len(kernel_stride_paddings)), (dims, heads, ff_expansion, reduction_ratio, num_layers))\n",
    "\n",
    "        self.mit = MiT(\n",
    "            channels=channels,\n",
    "            dims=dims,\n",
    "            heads=heads,\n",
    "            ff_expansion=ff_expansion,\n",
    "            reduction_ratio=reduction_ratio,\n",
    "            num_layers=num_layers,\n",
    "            stage_kernel_stride_pad=kernel_stride_paddings\n",
    "        )\n",
    "\n",
    "        self.to_fused = nn.ModuleList([nn.Sequential(\n",
    "            nn.Conv2d(dim, dims[-1], 1),\n",
    "            nn.Upsample(scale_factor=2 ** (i-1))\n",
    "        ) for i, dim in enumerate(dims)])\n",
    "\n",
    "        self.gelu = nn.GELU()\n",
    "        self.dropout = nn.Dropout(0.1)\n",
    "        \n",
    "        self.cbam = CBAM(gate_channels = decoder_dim*2)  \n",
    "        self.reduce = ReduceWithNorm(decoder_dim*2, decoder_dim)\n",
    "        \n",
    "        self.clue = CBAM(gate_channels = decoder_dim*3)\n",
    "        self.reduce_clue = ReduceWithNorm(decoder_dim*3, decoder_dim)\n",
    "        \n",
    "        self.to_segmentation = Head(decoder_dim*2 , num_classes)\n",
    "        \n",
    "    def _fusion(self, x):\n",
    "        x = self.mit(x, return_layer_outputs=True)\n",
    "        # 드랍아웃 \n",
    "        x = [self.gelu(x) for x in x]\n",
    "        x = [self.dropout(x) for x in x]\n",
    "        fused = []\n",
    "        for output, to_fused in zip(x[1:], self.to_fused[1:]):\n",
    "            x = to_fused(output)  # Conv2d 적용\n",
    "            # 업샘플링하여 공간 크기를 맞춥니다.\n",
    "            fused.append(x)\n",
    "        fused = torch.cat(fused, dim=1)\n",
    "        \n",
    "        return fused    \n",
    "    \n",
    "    def forward(self, x, ex_inputs, ex_outputs):\n",
    "        x = self._fusion(x) # [b,1,H,W] -> [b,dim_0,H,W],...,[b,dim_n, H//(n+1), W//(n+1)] \n",
    "                            # -> [b,dim_n, H, W],...,[b,dim_n, H, W] -> [b, dim_n * 2, H, W]\n",
    "                            # [b, 256*4, 32, 32]\n",
    "                            \n",
    "        # 예제 입력과 출력을 채널 차원으로 분할\n",
    "        n_examples = ex_inputs.size(1)//self.channels  \n",
    "        \n",
    "        # 예제 수만큼 반복하면서 예제 입력과 출력을 처리\n",
    "        fused = []\n",
    "        for i in range(n_examples):\n",
    "            ex_i = ex_inputs[:, i*self.channels:(i+1)*self.channels, :, :]  # [batch_size, 1, H, W]\n",
    "            ex_o = ex_outputs[:, i*self.channels:(i+1)*self.channels, :, :]  # [batch_size, 1, H, W]\n",
    "            \n",
    "            ex_i = self._fusion(ex_i)\n",
    "            ex_o = self._fusion(ex_o)\n",
    "            \n",
    "            ex_f = torch.cat([ex_i, ex_o], dim=1)\n",
    "            ex_f = self.cbam(ex_f)\n",
    "            ex_f = self.reduce(ex_f)\n",
    "            \n",
    "            fused.append(ex_f)\n",
    "        \n",
    "        fused = torch.cat(fused, dim=1)\n",
    "        \n",
    "        fused = self.clue(fused)\n",
    "        fused = self.reduce_clue(fused)\n",
    "        \n",
    "        x = torch.cat([x, fused], dim=1)\n",
    "        \n",
    "        output = self.to_segmentation(x)\n",
    "        \n",
    "        return output"
   ]
  },
  {
   "cell_type": "code",
   "execution_count": 28,
   "metadata": {},
   "outputs": [
    {
     "name": "stdout",
     "output_type": "stream",
     "text": [
      "Using mps device\n",
      "3\n",
      "768\n",
      "torch.Size([10, 768, 32, 32])\n",
      "torch.Size([10, 1536, 32, 32])\n",
      "torch.Size([10, 11, 32, 32])\n"
     ]
    }
   ],
   "source": [
    "# CUDA 사용 가능 여부 확인\n",
    "device = 'mps' if torch.backends.mps.is_available() else 'cpu'\n",
    "device = 'cuda' if torch.cuda.is_available() else device\n",
    "print(f'Using {device} device')\n",
    "model = ARC_Net(**model_args).to(device)\n",
    "# 입력 텐서 생성\n",
    "x = torch.randn(10, 11, 32, 32).to(device)\n",
    "e_i, e_o = torch.randn(10, 33, 32, 32).to(device), torch.randn(10, 33, 32, 32).to(device)\n",
    "print(model(x,e_i,e_o).shape)"
   ]
  },
  {
   "cell_type": "code",
   "execution_count": 29,
   "metadata": {},
   "outputs": [
    {
     "name": "stdout",
     "output_type": "stream",
     "text": [
      "Using mps device\n",
      "3\n",
      "768\n",
      "torch.Size([1, 768, 32, 32])\n",
      "torch.Size([1, 1536, 32, 32])\n"
     ]
    },
    {
     "data": {
      "text/plain": [
       "========================================================================================================================\n",
       "Layer (type:depth-idx)                                                 Output Shape              Param #\n",
       "========================================================================================================================\n",
       "ARC_Net                                                                [1, 11, 32, 32]           8,448\n",
       "├─MiT: 1-1                                                             [1, 32, 32, 32]           --\n",
       "│    └─ModuleList: 2-47                                                --                        (recursive)\n",
       "│    │    └─ModuleList: 3-69                                           --                        (recursive)\n",
       "│    │    └─ModuleList: 3-70                                           --                        (recursive)\n",
       "│    │    └─ModuleList: 3-71                                           --                        (recursive)\n",
       "│    │    └─ModuleList: 3-72                                           --                        (recursive)\n",
       "├─GELU: 1-2                                                            [1, 32, 32, 32]           --\n",
       "├─GELU: 1-3                                                            [1, 64, 32, 32]           --\n",
       "├─GELU: 1-4                                                            [1, 128, 16, 16]          --\n",
       "├─GELU: 1-5                                                            [1, 256, 8, 8]            --\n",
       "├─Dropout: 1-6                                                         [1, 32, 32, 32]           --\n",
       "├─Dropout: 1-7                                                         [1, 64, 32, 32]           --\n",
       "├─Dropout: 1-8                                                         [1, 128, 16, 16]          --\n",
       "├─Dropout: 1-9                                                         [1, 256, 8, 8]            --\n",
       "├─ModuleList: 1-74                                                     --                        (recursive)\n",
       "│    └─Sequential: 2-2                                                 [1, 256, 32, 32]          --\n",
       "│    │    └─Conv2d: 3-5                                                [1, 256, 32, 32]          16,640\n",
       "│    │    └─Upsample: 3-6                                              [1, 256, 32, 32]          --\n",
       "│    └─Sequential: 2-3                                                 [1, 256, 32, 32]          --\n",
       "│    │    └─Conv2d: 3-7                                                [1, 256, 16, 16]          33,024\n",
       "│    │    └─Upsample: 3-8                                              [1, 256, 32, 32]          --\n",
       "│    └─Sequential: 2-4                                                 [1, 256, 32, 32]          --\n",
       "│    │    └─Conv2d: 3-9                                                [1, 256, 8, 8]            65,792\n",
       "│    │    └─Upsample: 3-10                                             [1, 256, 32, 32]          --\n",
       "├─MiT: 1-11                                                            [1, 32, 32, 32]           (recursive)\n",
       "│    └─ModuleList: 2-47                                                --                        (recursive)\n",
       "│    │    └─ModuleList: 3-69                                           --                        (recursive)\n",
       "│    │    └─ModuleList: 3-70                                           --                        (recursive)\n",
       "│    │    └─ModuleList: 3-71                                           --                        (recursive)\n",
       "│    │    └─ModuleList: 3-72                                           --                        (recursive)\n",
       "├─GELU: 1-12                                                           [1, 32, 32, 32]           --\n",
       "├─GELU: 1-13                                                           [1, 64, 32, 32]           --\n",
       "├─GELU: 1-14                                                           [1, 128, 16, 16]          --\n",
       "├─GELU: 1-15                                                           [1, 256, 8, 8]            --\n",
       "├─Dropout: 1-16                                                        [1, 32, 32, 32]           --\n",
       "├─Dropout: 1-17                                                        [1, 64, 32, 32]           --\n",
       "├─Dropout: 1-18                                                        [1, 128, 16, 16]          --\n",
       "├─Dropout: 1-19                                                        [1, 256, 8, 8]            --\n",
       "├─ModuleList: 1-74                                                     --                        (recursive)\n",
       "│    └─Sequential: 2-6                                                 [1, 256, 32, 32]          (recursive)\n",
       "│    │    └─Conv2d: 3-15                                               [1, 256, 32, 32]          (recursive)\n",
       "│    │    └─Upsample: 3-16                                             [1, 256, 32, 32]          --\n",
       "│    └─Sequential: 2-7                                                 [1, 256, 32, 32]          (recursive)\n",
       "│    │    └─Conv2d: 3-17                                               [1, 256, 16, 16]          (recursive)\n",
       "│    │    └─Upsample: 3-18                                             [1, 256, 32, 32]          --\n",
       "│    └─Sequential: 2-8                                                 [1, 256, 32, 32]          (recursive)\n",
       "│    │    └─Conv2d: 3-19                                               [1, 256, 8, 8]            (recursive)\n",
       "│    │    └─Upsample: 3-20                                             [1, 256, 32, 32]          --\n",
       "├─MiT: 1-21                                                            [1, 32, 32, 32]           (recursive)\n",
       "│    └─ModuleList: 2-47                                                --                        (recursive)\n",
       "│    │    └─ModuleList: 3-69                                           --                        (recursive)\n",
       "│    │    └─ModuleList: 3-70                                           --                        (recursive)\n",
       "│    │    └─ModuleList: 3-71                                           --                        (recursive)\n",
       "│    │    └─ModuleList: 3-72                                           --                        (recursive)\n",
       "├─GELU: 1-22                                                           [1, 32, 32, 32]           --\n",
       "├─GELU: 1-23                                                           [1, 64, 32, 32]           --\n",
       "├─GELU: 1-24                                                           [1, 128, 16, 16]          --\n",
       "├─GELU: 1-25                                                           [1, 256, 8, 8]            --\n",
       "├─Dropout: 1-26                                                        [1, 32, 32, 32]           --\n",
       "├─Dropout: 1-27                                                        [1, 64, 32, 32]           --\n",
       "├─Dropout: 1-28                                                        [1, 128, 16, 16]          --\n",
       "├─Dropout: 1-29                                                        [1, 256, 8, 8]            --\n",
       "├─ModuleList: 1-74                                                     --                        (recursive)\n",
       "│    └─Sequential: 2-10                                                [1, 256, 32, 32]          (recursive)\n",
       "│    │    └─Conv2d: 3-25                                               [1, 256, 32, 32]          (recursive)\n",
       "│    │    └─Upsample: 3-26                                             [1, 256, 32, 32]          --\n",
       "│    └─Sequential: 2-11                                                [1, 256, 32, 32]          (recursive)\n",
       "│    │    └─Conv2d: 3-27                                               [1, 256, 16, 16]          (recursive)\n",
       "│    │    └─Upsample: 3-28                                             [1, 256, 32, 32]          --\n",
       "│    └─Sequential: 2-12                                                [1, 256, 32, 32]          (recursive)\n",
       "│    │    └─Conv2d: 3-29                                               [1, 256, 8, 8]            (recursive)\n",
       "│    │    └─Upsample: 3-30                                             [1, 256, 32, 32]          --\n",
       "├─CBAM: 1-31                                                           [1, 1536, 32, 32]         --\n",
       "│    └─ChannelGate: 2-13                                               [1, 1536, 32, 32]         --\n",
       "│    │    └─Sequential: 3-31                                           [1, 1536]                 296,544\n",
       "│    │    └─Sequential: 3-32                                           [1, 1536]                 (recursive)\n",
       "│    └─SpatialGate: 2-14                                               [1, 1536, 32, 32]         --\n",
       "│    │    └─ChannelPool: 3-33                                          [1, 2, 32, 32]            --\n",
       "│    │    └─BasicConv: 3-34                                            [1, 1, 32, 32]            100\n",
       "├─ReduceWithNorm: 1-32                                                 [1, 768, 32, 32]          --\n",
       "│    └─Conv2d: 2-15                                                    [1, 768, 32, 32]          1,180,416\n",
       "│    └─BatchNorm2d: 2-16                                               [1, 768, 32, 32]          1,536\n",
       "│    └─ReLU: 2-17                                                      [1, 768, 32, 32]          --\n",
       "│    └─Conv2d: 2-18                                                    [1, 768, 32, 32]          5,309,184\n",
       "│    └─BatchNorm2d: 2-19                                               [1, 768, 32, 32]          1,536\n",
       "│    └─ReLU: 2-20                                                      [1, 768, 32, 32]          --\n",
       "│    └─Conv2d: 2-21                                                    [1, 768, 32, 32]          590,592\n",
       "│    └─BatchNorm2d: 2-22                                               [1, 768, 32, 32]          1,536\n",
       "│    └─ReLU: 2-23                                                      [1, 768, 32, 32]          --\n",
       "├─MiT: 1-33                                                            [1, 32, 32, 32]           (recursive)\n",
       "│    └─ModuleList: 2-47                                                --                        (recursive)\n",
       "│    │    └─ModuleList: 3-69                                           --                        (recursive)\n",
       "│    │    └─ModuleList: 3-70                                           --                        (recursive)\n",
       "│    │    └─ModuleList: 3-71                                           --                        (recursive)\n",
       "│    │    └─ModuleList: 3-72                                           --                        (recursive)\n",
       "├─GELU: 1-34                                                           [1, 32, 32, 32]           --\n",
       "├─GELU: 1-35                                                           [1, 64, 32, 32]           --\n",
       "├─GELU: 1-36                                                           [1, 128, 16, 16]          --\n",
       "├─GELU: 1-37                                                           [1, 256, 8, 8]            --\n",
       "├─Dropout: 1-38                                                        [1, 32, 32, 32]           --\n",
       "├─Dropout: 1-39                                                        [1, 64, 32, 32]           --\n",
       "├─Dropout: 1-40                                                        [1, 128, 16, 16]          --\n",
       "├─Dropout: 1-41                                                        [1, 256, 8, 8]            --\n",
       "├─ModuleList: 1-74                                                     --                        (recursive)\n",
       "│    └─Sequential: 2-25                                                [1, 256, 32, 32]          (recursive)\n",
       "│    │    └─Conv2d: 3-39                                               [1, 256, 32, 32]          (recursive)\n",
       "│    │    └─Upsample: 3-40                                             [1, 256, 32, 32]          --\n",
       "│    └─Sequential: 2-26                                                [1, 256, 32, 32]          (recursive)\n",
       "│    │    └─Conv2d: 3-41                                               [1, 256, 16, 16]          (recursive)\n",
       "│    │    └─Upsample: 3-42                                             [1, 256, 32, 32]          --\n",
       "│    └─Sequential: 2-27                                                [1, 256, 32, 32]          (recursive)\n",
       "│    │    └─Conv2d: 3-43                                               [1, 256, 8, 8]            (recursive)\n",
       "│    │    └─Upsample: 3-44                                             [1, 256, 32, 32]          --\n",
       "├─MiT: 1-43                                                            [1, 32, 32, 32]           (recursive)\n",
       "│    └─ModuleList: 2-47                                                --                        (recursive)\n",
       "│    │    └─ModuleList: 3-69                                           --                        (recursive)\n",
       "│    │    └─ModuleList: 3-70                                           --                        (recursive)\n",
       "│    │    └─ModuleList: 3-71                                           --                        (recursive)\n",
       "│    │    └─ModuleList: 3-72                                           --                        (recursive)\n",
       "├─GELU: 1-44                                                           [1, 32, 32, 32]           --\n",
       "├─GELU: 1-45                                                           [1, 64, 32, 32]           --\n",
       "├─GELU: 1-46                                                           [1, 128, 16, 16]          --\n",
       "├─GELU: 1-47                                                           [1, 256, 8, 8]            --\n",
       "├─Dropout: 1-48                                                        [1, 32, 32, 32]           --\n",
       "├─Dropout: 1-49                                                        [1, 64, 32, 32]           --\n",
       "├─Dropout: 1-50                                                        [1, 128, 16, 16]          --\n",
       "├─Dropout: 1-51                                                        [1, 256, 8, 8]            --\n",
       "├─ModuleList: 1-74                                                     --                        (recursive)\n",
       "│    └─Sequential: 2-29                                                [1, 256, 32, 32]          (recursive)\n",
       "│    │    └─Conv2d: 3-49                                               [1, 256, 32, 32]          (recursive)\n",
       "│    │    └─Upsample: 3-50                                             [1, 256, 32, 32]          --\n",
       "│    └─Sequential: 2-30                                                [1, 256, 32, 32]          (recursive)\n",
       "│    │    └─Conv2d: 3-51                                               [1, 256, 16, 16]          (recursive)\n",
       "│    │    └─Upsample: 3-52                                             [1, 256, 32, 32]          --\n",
       "│    └─Sequential: 2-31                                                [1, 256, 32, 32]          (recursive)\n",
       "│    │    └─Conv2d: 3-53                                               [1, 256, 8, 8]            (recursive)\n",
       "│    │    └─Upsample: 3-54                                             [1, 256, 32, 32]          --\n",
       "├─CBAM: 1-53                                                           [1, 1536, 32, 32]         (recursive)\n",
       "│    └─ChannelGate: 2-32                                               [1, 1536, 32, 32]         (recursive)\n",
       "│    │    └─Sequential: 3-55                                           [1, 1536]                 (recursive)\n",
       "│    │    └─Sequential: 3-56                                           [1, 1536]                 (recursive)\n",
       "│    └─SpatialGate: 2-33                                               [1, 1536, 32, 32]         (recursive)\n",
       "│    │    └─ChannelPool: 3-57                                          [1, 2, 32, 32]            --\n",
       "│    │    └─BasicConv: 3-58                                            [1, 1, 32, 32]            (recursive)\n",
       "├─ReduceWithNorm: 1-54                                                 [1, 768, 32, 32]          (recursive)\n",
       "│    └─Conv2d: 2-34                                                    [1, 768, 32, 32]          (recursive)\n",
       "│    └─BatchNorm2d: 2-35                                               [1, 768, 32, 32]          (recursive)\n",
       "│    └─ReLU: 2-36                                                      [1, 768, 32, 32]          --\n",
       "│    └─Conv2d: 2-37                                                    [1, 768, 32, 32]          (recursive)\n",
       "│    └─BatchNorm2d: 2-38                                               [1, 768, 32, 32]          (recursive)\n",
       "│    └─ReLU: 2-39                                                      [1, 768, 32, 32]          --\n",
       "│    └─Conv2d: 2-40                                                    [1, 768, 32, 32]          (recursive)\n",
       "│    └─BatchNorm2d: 2-41                                               [1, 768, 32, 32]          (recursive)\n",
       "│    └─ReLU: 2-42                                                      [1, 768, 32, 32]          --\n",
       "├─MiT: 1-55                                                            [1, 32, 32, 32]           (recursive)\n",
       "│    └─ModuleList: 2-47                                                --                        (recursive)\n",
       "│    │    └─ModuleList: 3-69                                           --                        (recursive)\n",
       "│    │    └─ModuleList: 3-70                                           --                        (recursive)\n",
       "│    │    └─ModuleList: 3-71                                           --                        (recursive)\n",
       "│    │    └─ModuleList: 3-72                                           --                        (recursive)\n",
       "├─GELU: 1-56                                                           [1, 32, 32, 32]           --\n",
       "├─GELU: 1-57                                                           [1, 64, 32, 32]           --\n",
       "├─GELU: 1-58                                                           [1, 128, 16, 16]          --\n",
       "├─GELU: 1-59                                                           [1, 256, 8, 8]            --\n",
       "├─Dropout: 1-60                                                        [1, 32, 32, 32]           --\n",
       "├─Dropout: 1-61                                                        [1, 64, 32, 32]           --\n",
       "├─Dropout: 1-62                                                        [1, 128, 16, 16]          --\n",
       "├─Dropout: 1-63                                                        [1, 256, 8, 8]            --\n",
       "├─ModuleList: 1-74                                                     --                        (recursive)\n",
       "│    └─Sequential: 2-44                                                [1, 256, 32, 32]          (recursive)\n",
       "│    │    └─Conv2d: 3-63                                               [1, 256, 32, 32]          (recursive)\n",
       "│    │    └─Upsample: 3-64                                             [1, 256, 32, 32]          --\n",
       "│    └─Sequential: 2-45                                                [1, 256, 32, 32]          (recursive)\n",
       "│    │    └─Conv2d: 3-65                                               [1, 256, 16, 16]          (recursive)\n",
       "│    │    └─Upsample: 3-66                                             [1, 256, 32, 32]          --\n",
       "│    └─Sequential: 2-46                                                [1, 256, 32, 32]          (recursive)\n",
       "│    │    └─Conv2d: 3-67                                               [1, 256, 8, 8]            (recursive)\n",
       "│    │    └─Upsample: 3-68                                             [1, 256, 32, 32]          --\n",
       "├─MiT: 1-65                                                            [1, 32, 32, 32]           (recursive)\n",
       "│    └─ModuleList: 2-47                                                --                        (recursive)\n",
       "│    │    └─ModuleList: 3-69                                           --                        (recursive)\n",
       "│    │    └─ModuleList: 3-70                                           --                        (recursive)\n",
       "│    │    └─ModuleList: 3-71                                           --                        (recursive)\n",
       "│    │    └─ModuleList: 3-72                                           --                        (recursive)\n",
       "├─GELU: 1-66                                                           [1, 32, 32, 32]           --\n",
       "├─GELU: 1-67                                                           [1, 64, 32, 32]           --\n",
       "├─GELU: 1-68                                                           [1, 128, 16, 16]          --\n",
       "├─GELU: 1-69                                                           [1, 256, 8, 8]            --\n",
       "├─Dropout: 1-70                                                        [1, 32, 32, 32]           --\n",
       "├─Dropout: 1-71                                                        [1, 64, 32, 32]           --\n",
       "├─Dropout: 1-72                                                        [1, 128, 16, 16]          --\n",
       "├─Dropout: 1-73                                                        [1, 256, 8, 8]            --\n",
       "├─ModuleList: 1-74                                                     --                        (recursive)\n",
       "│    └─Sequential: 2-48                                                [1, 256, 32, 32]          (recursive)\n",
       "│    │    └─Conv2d: 3-73                                               [1, 256, 32, 32]          (recursive)\n",
       "│    │    └─Upsample: 3-74                                             [1, 256, 32, 32]          --\n",
       "│    └─Sequential: 2-49                                                [1, 256, 32, 32]          (recursive)\n",
       "│    │    └─Conv2d: 3-75                                               [1, 256, 16, 16]          (recursive)\n",
       "│    │    └─Upsample: 3-76                                             [1, 256, 32, 32]          --\n",
       "│    └─Sequential: 2-50                                                [1, 256, 32, 32]          (recursive)\n",
       "│    │    └─Conv2d: 3-77                                               [1, 256, 8, 8]            (recursive)\n",
       "│    │    └─Upsample: 3-78                                             [1, 256, 32, 32]          --\n",
       "├─CBAM: 1-75                                                           [1, 1536, 32, 32]         (recursive)\n",
       "│    └─ChannelGate: 2-51                                               [1, 1536, 32, 32]         (recursive)\n",
       "│    │    └─Sequential: 3-79                                           [1, 1536]                 (recursive)\n",
       "│    │    └─Sequential: 3-80                                           [1, 1536]                 (recursive)\n",
       "│    └─SpatialGate: 2-52                                               [1, 1536, 32, 32]         (recursive)\n",
       "│    │    └─ChannelPool: 3-81                                          [1, 2, 32, 32]            --\n",
       "│    │    └─BasicConv: 3-82                                            [1, 1, 32, 32]            (recursive)\n",
       "├─ReduceWithNorm: 1-76                                                 [1, 768, 32, 32]          (recursive)\n",
       "│    └─Conv2d: 2-53                                                    [1, 768, 32, 32]          (recursive)\n",
       "│    └─BatchNorm2d: 2-54                                               [1, 768, 32, 32]          (recursive)\n",
       "│    └─ReLU: 2-55                                                      [1, 768, 32, 32]          --\n",
       "│    └─Conv2d: 2-56                                                    [1, 768, 32, 32]          (recursive)\n",
       "│    └─BatchNorm2d: 2-57                                               [1, 768, 32, 32]          (recursive)\n",
       "│    └─ReLU: 2-58                                                      [1, 768, 32, 32]          --\n",
       "│    └─Conv2d: 2-59                                                    [1, 768, 32, 32]          (recursive)\n",
       "│    └─BatchNorm2d: 2-60                                               [1, 768, 32, 32]          (recursive)\n",
       "│    └─ReLU: 2-61                                                      [1, 768, 32, 32]          --\n",
       "├─CBAM: 1-77                                                           [1, 2304, 32, 32]         --\n",
       "│    └─ChannelGate: 2-62                                               [1, 2304, 32, 32]         --\n",
       "│    │    └─Sequential: 3-83                                           [1, 2304]                 666,000\n",
       "│    │    └─Sequential: 3-84                                           [1, 2304]                 (recursive)\n",
       "│    └─SpatialGate: 2-63                                               [1, 2304, 32, 32]         --\n",
       "│    │    └─ChannelPool: 3-85                                          [1, 2, 32, 32]            --\n",
       "│    │    └─BasicConv: 3-86                                            [1, 1, 32, 32]            100\n",
       "├─ReduceWithNorm: 1-78                                                 [1, 768, 32, 32]          --\n",
       "│    └─Conv2d: 2-64                                                    [1, 768, 32, 32]          1,770,240\n",
       "│    └─BatchNorm2d: 2-65                                               [1, 768, 32, 32]          1,536\n",
       "│    └─ReLU: 2-66                                                      [1, 768, 32, 32]          --\n",
       "│    └─Conv2d: 2-67                                                    [1, 768, 32, 32]          5,309,184\n",
       "│    └─BatchNorm2d: 2-68                                               [1, 768, 32, 32]          1,536\n",
       "│    └─ReLU: 2-69                                                      [1, 768, 32, 32]          --\n",
       "│    └─Conv2d: 2-70                                                    [1, 768, 32, 32]          590,592\n",
       "│    └─BatchNorm2d: 2-71                                               [1, 768, 32, 32]          1,536\n",
       "│    └─ReLU: 2-72                                                      [1, 768, 32, 32]          --\n",
       "├─Head: 1-79                                                           [1, 11, 32, 32]           --\n",
       "│    └─Sequential: 2-73                                                [1, 11, 32, 32]           --\n",
       "│    │    └─Conv2d: 3-87                                               [1, 1024, 32, 32]         1,573,888\n",
       "│    │    └─GELU: 3-88                                                 [1, 1024, 32, 32]         --\n",
       "│    │    └─Dropout: 3-89                                              [1, 1024, 32, 32]         --\n",
       "│    │    └─Conv2d: 3-90                                               [1, 512, 32, 32]          524,800\n",
       "│    │    └─Conv2d: 3-91                                               [1, 11, 32, 32]           5,643\n",
       "========================================================================================================================\n",
       "Total params: 29,346,211\n",
       "Trainable params: 29,346,211\n",
       "Non-trainable params: 0\n",
       "Total mult-adds (Units.GIGABYTES): 40.11\n",
       "========================================================================================================================\n",
       "Input size (MB): 0.32\n",
       "Forward/backward pass size (MB): 511.81\n",
       "Params size (MB): 117.35\n",
       "Estimated Total Size (MB): 629.48\n",
       "========================================================================================================================"
      ]
     },
     "execution_count": 29,
     "metadata": {},
     "output_type": "execute_result"
    }
   ],
   "source": [
    "from thop import profile\n",
    "from thop import clever_format\n",
    "\n",
    "# CUDA 사용 가능 여부 확인\n",
    "device = 'mps' if torch.backends.mps.is_available() else 'cpu'\n",
    "device = 'cuda' if torch.cuda.is_available() else device\n",
    "print(f'Using {device} device')\n",
    "outer_model = ARC_Net(**model_args).to(device)\n",
    "\n",
    "from torchinfo import summary\n",
    "\n",
    "summary(outer_model, input_size=((1, 11, 32, 32), (1, 33, 32, 32), (1, 33, 32, 32)))"
   ]
  },
  {
   "cell_type": "code",
   "execution_count": 10,
   "metadata": {},
   "outputs": [],
   "source": [
    "# tensor = torch.zeros(1, 30, 30)\n",
    "# tensor = F.one_hot(tensor.long(), num_classes=11)\n",
    "# print(tensor.shape)\n",
    "# tensor = tensor.permute(0, 3, 1, 2)\n",
    "# print(tensor.shape)\n",
    "# tensor = tensor.squeeze(0)    \n",
    "# print(tensor.shape)\n",
    "# print(tensor.dtype)\n",
    "# tensor = tensor.to(torch.float32)  # 수정된 부분\n",
    "# print(tensor.dtype)\n",
    "# tensor.shape\n"
   ]
  },
  {
   "cell_type": "code",
   "execution_count": 11,
   "metadata": {},
   "outputs": [
    {
     "name": "stdout",
     "output_type": "stream",
     "text": [
      "torch.Size([10, 11, 32, 32]) torch.Size([10, 1, 32, 32]) torch.Size([10, 33, 32, 32]) torch.Size([10, 33, 32, 32])\n",
      "torch.float32 torch.float32 torch.float32 torch.float32\n"
     ]
    }
   ],
   "source": [
    "import numpy as np\n",
    "import os\n",
    "import torch.optim as optim\n",
    "from torch import nn\n",
    "from copy import deepcopy\n",
    "import json\n",
    "import pandas as pd\n",
    "import torch\n",
    "from torch.utils.data import Dataset, DataLoader\n",
    "import torch.nn.functional as F\n",
    "import random\n",
    "from itertools import combinations\n",
    "\n",
    "def load_json(file_path):\n",
    "    with open(file_path) as f:\n",
    "        data = json.load(f)\n",
    "    return data\n",
    "import random\n",
    "from itertools import combinations\n",
    "\n",
    "def one_hot_encoding(tensor):\n",
    "    tensor = F.one_hot(tensor.long(), num_classes=11)\n",
    "    tensor = tensor.permute(0, 3, 1, 2)\n",
    "    tensor = tensor.squeeze(0)\n",
    "    # 여기서 명시적으로 dtype을 float32로 설정합니다\n",
    "    tensor = tensor.to(torch.float32)  # 수정된 부분\n",
    "    return tensor\n",
    "\n",
    "\n",
    "class ARC_Dataset(Dataset):\n",
    "    def __init__(self, challenges, solution, task_data_num=1, example_data_num=3, max_combinations=10):\n",
    "        challenges = load_json(challenges)\n",
    "        solution = load_json(solution)\n",
    "        self.data = []\n",
    "        self.task_data_num = task_data_num\n",
    "        self.example_data_num = example_data_num\n",
    "        self.max_combinations = max_combinations\n",
    "\n",
    "        for key, value in challenges.items():\n",
    "            for i in range(len(value['test'])):\n",
    "                task_input = value['test'][i]['input']\n",
    "                task_output = solution[key][i]\n",
    "                example_list = value['train'].copy()\n",
    "\n",
    "                n_examples = len(example_list)  # 원래 예제의 개수\n",
    "\n",
    "                # 예제 수가 example_data_num보다 적으면 현재 작업의 예제를 복제하여 채움\n",
    "                if n_examples < self.example_data_num:\n",
    "                    while len(example_list) < self.example_data_num:\n",
    "                        example_list.append(random.choice(example_list))\n",
    "\n",
    "                    # 조합은 예제 리스트 자체로 설정\n",
    "                    ex_combinations = [tuple(example_list)]\n",
    "                else:\n",
    "                    # 예제의 조합 생성\n",
    "                    ex_combinations = list(combinations(example_list, self.example_data_num))\n",
    "\n",
    "                    # 조합의 수를 제한\n",
    "                    if len(ex_combinations) > self.max_combinations:\n",
    "                        ex_combinations = random.sample(ex_combinations, self.max_combinations)\n",
    "\n",
    "                for ex_combo in ex_combinations:\n",
    "                    ex_input = [ex['input'] for ex in ex_combo]\n",
    "                    ex_output = [ex['output'] for ex in ex_combo]\n",
    "\n",
    "                    # 데이터에 추가하면서 원래 예제의 개수도 포함\n",
    "                    self.data.append({\n",
    "                        'id': key,\n",
    "                        'input': task_input,\n",
    "                        'output': task_output,\n",
    "                        'ex_input': ex_input,\n",
    "                        'ex_output': ex_output,\n",
    "                        'num_original_examples': n_examples  # 원래 예제 개수 추가\n",
    "                    })\n",
    "\n",
    "        # 리스트를 데이터프레임으로 변환\n",
    "        self.df = pd.DataFrame(self.data)\n",
    "        \n",
    "    def __len__(self):\n",
    "        return len(self.df)\n",
    "    \n",
    "    def pad_to_32x32(self, tensor):\n",
    "        if tensor.dim() == 2:\n",
    "            tensor = tensor.unsqueeze(0)\n",
    "        c, h, w = tensor.shape\n",
    "        pad_h = max(0, 32 - h)\n",
    "        pad_w = max(0, 32 - w)\n",
    "        \n",
    "        # 좌우 및 상하 패딩을 반반씩 나눠서 적용\n",
    "        padding = (pad_w // 2, pad_w - pad_w // 2, pad_h // 2, pad_h - pad_h // 2)\n",
    "        tensor = F.pad(tensor, padding, mode='constant', value=0)\n",
    "        \n",
    "        return tensor\n",
    "\n",
    "    def mapping_input(self, tensor):\n",
    "        mapping = {\n",
    "            1: random.randint(1, 10),\n",
    "            2: random.randint(11, 20),\n",
    "            3: random.randint(21, 30),\n",
    "            4: random.randint(31, 40),\n",
    "            5: random.randint(41, 50),\n",
    "            6: random.randint(51, 60),\n",
    "            7: random.randint(61, 70),\n",
    "            8: random.randint(71, 80),\n",
    "            9: random.randint(81, 90),\n",
    "            10: random.randint(91, 100)\n",
    "        }\n",
    "        temp_tensor = tensor.clone()\n",
    "        for k in mapping:\n",
    "            temp_tensor[temp_tensor == k] = -k  # 임시로 기존 값에 음수를 취해 중복을 피함\n",
    "\n",
    "        # 최종 매핑 적용\n",
    "        for k, v in mapping.items():\n",
    "            temp_tensor[temp_tensor == -k] = v\n",
    "        return temp_tensor\n",
    "\n",
    "    def __getitem__(self, idx):\n",
    "        task = self.df.iloc[idx]\n",
    "        \n",
    "        # task_input과 task_output 변환 및 패딩 추가\n",
    "        task_input = self.pad_to_32x32((torch.tensor(task['input'], dtype=torch.float32) + 1)) # [1, 32, 32]\n",
    "        task_output = self.pad_to_32x32((torch.tensor(task['output'], dtype=torch.float32) + 1)) # [1, 32, 32]\n",
    "        task_input = one_hot_encoding(task_input)\n",
    "        \n",
    "        # 입력 채널 차원 추가\n",
    "        if task_input.dim() == 2:\n",
    "            task_input = task_input.unsqueeze(0)  # [1, H, W]\n",
    "        if task_output.dim() == 2:\n",
    "            task_output = task_output.unsqueeze(0)  # [1, H, W]\n",
    "        \n",
    "        # 예제 입력과 출력 변환 및 패딩 추가\n",
    "        example_input = []\n",
    "        example_output = []\n",
    "        for ex_in, ex_out in zip(task['ex_input'], task['ex_output']):\n",
    "            ex_in_tensor = self.pad_to_32x32(torch.tensor(ex_in, dtype=torch.float32) + 1)\n",
    "            ex_out_tensor = self.pad_to_32x32(torch.tensor(ex_out, dtype=torch.float32) + 1)\n",
    "            ex_in_tensor = one_hot_encoding(ex_in_tensor)\n",
    "            ex_out_tensor = one_hot_encoding(ex_out_tensor)\n",
    "            \n",
    "            # 입력 채널 차원 추가\n",
    "            if ex_in_tensor.dim() == 2:\n",
    "                ex_in_tensor = ex_in_tensor.unsqueeze(0)  # [1, H, W]\n",
    "            if ex_out_tensor.dim() == 2:\n",
    "                ex_out_tensor = ex_out_tensor.unsqueeze(0)  # [1, H, W]\n",
    "            \n",
    "            example_input.append(ex_in_tensor)\n",
    "            example_output.append(ex_out_tensor)\n",
    "        \n",
    "        # 예제 입력과 출력을 채널 차원으로 결합\n",
    "        ex_inputs = torch.cat(example_input, dim=0)  # [n_examples * channels, H, W]\n",
    "        ex_outputs = torch.cat(example_output, dim=0)  # [n_examples * channels, H, W]\n",
    "        \n",
    "        return task_input, task_output, ex_inputs, ex_outputs\n",
    "\n",
    "# 사용 예제\n",
    "train_challenge = './kaggle/input/arc-prize-2024/arc-agi_training_challenges.json'\n",
    "train_solution = \"./kaggle/input/arc-prize-2024/arc-agi_training_solutions.json\"\n",
    "\n",
    "train_dataset = ARC_Dataset(train_challenge, train_solution)\n",
    "train_loader = DataLoader(train_dataset, batch_size=10, shuffle=True)\n",
    "\n",
    "ti, to, ei, eo = next(iter(train_loader))\n",
    "print(ti.shape, to.shape, ei.shape, eo.shape)\n",
    "print(ti.dtype, to.dtype, ei.dtype, eo.dtype)"
   ]
  },
  {
   "cell_type": "code",
   "execution_count": 12,
   "metadata": {},
   "outputs": [],
   "source": [
    "# 배치별로 처리되는 정확도 계산 함수 (ignore_index 없이)\n",
    "def calculate_accuracy(predictions, targets):\n",
    "    # 예측값을 argmax로 [batch_size, H, W] 형태로 변환\n",
    "    pred_classes = predictions.argmax(dim=1).long()  # [batch_size, H, W]\n",
    "    \n",
    "    # 타겟 값을 [batch_size, H, W]로 변환 (필요 시 squeeze)\n",
    "    targets = targets.squeeze(1)  # [batch_size, H, W]\n",
    "\n",
    "    # 픽셀 단위로 맞은 부분 계산\n",
    "    correct_pixels = (pred_classes == targets)  # [batch_size, H, W]\n",
    "    \n",
    "    # 맞은 픽셀 수 계산\n",
    "    correct_pixel_count = correct_pixels.sum().item()  # 맞은 픽셀 수\n",
    "    total_pixel_count = targets.numel()  # 전체 픽셀 수\n",
    "\n",
    "    # 각 이미지별로 모든 픽셀이 맞는지 확인\n",
    "    correct_images = correct_pixels.view(targets.size(0), -1).all(dim=1)  # 각 이미지별로 모든 픽셀이 맞는지 확인\n",
    "    correct_image_count = correct_images.sum().item()  # 맞은 이미지 수\n",
    "    total_image_count = targets.size(0)  # 전체 이미지 수\n",
    "    \n",
    "    return correct_image_count, total_image_count, correct_pixel_count, total_pixel_count\n",
    "\n",
    "import matplotlib.pyplot as plt\n",
    "from matplotlib.colors import ListedColormap\n",
    "import wandb\n",
    "\n",
    "def visualize_predictions(inputs, targets, predictions, condition=False):\n",
    "    if condition:\n",
    "        # 입력 이미지와 예측 결과를 CPU로 이동\n",
    "        inputs = inputs.cpu().numpy()\n",
    "        targets = targets.cpu().numpy()\n",
    "        predictions = predictions.detach().cpu().numpy()  # detach()로 그래디언트 추적 중단\n",
    "\n",
    "        # 시각화할 샘플의 수 (최대 3개의 샘플)\n",
    "        num_images = min(3, inputs.shape[0])\n",
    "\n",
    "        # 컬러 맵 정의 (0~10 값을 위한 11개의 색상)\n",
    "        color_list = ['black', 'blue', 'red', 'green', 'yellow', 'purple', \n",
    "                      'orange', 'pink', 'gray', 'brown', 'cyan']\n",
    "        cmap = ListedColormap(color_list)\n",
    "\n",
    "        # 시각화를 위한 플롯 생성 (각 줄에 입력, 타겟, 예측 이미지를 표시)\n",
    "        fig, axes = plt.subplots(num_images, 3, figsize=(12, 4 * num_images))\n",
    "\n",
    "        for i in range(num_images):\n",
    "            # 입력 이미지 처리\n",
    "            input_image = inputs.argmax(axis=1)[i]  # shape: (H, W)\n",
    "            if input_image.ndim == 3 and input_image.shape[0] == 1:\n",
    "                input_image = input_image.squeeze(0)  # 단일 채널 이미지 (H, W)\n",
    "\n",
    "            # 타겟 이미지 처리\n",
    "            target_image = targets[i].squeeze(0)  # shape: (H, W)\n",
    "            target_image = target_image.astype(int)\n",
    "\n",
    "            # 예측 이미지 처리\n",
    "            prediction_image = predictions.argmax(axis=1)[i]  # shape: (H, W)\n",
    "            prediction_image = prediction_image.astype(int)\n",
    "\n",
    "            # 입력 이미지 표시\n",
    "            axes[i, 0].imshow(input_image, cmap=cmap, vmin=0, vmax=10)\n",
    "            axes[i, 0].set_title(f'Input Image {i+1}')\n",
    "            axes[i, 0].axis('off')\n",
    "\n",
    "            # 타겟 이미지 표시\n",
    "            axes[i, 1].imshow(target_image, cmap=cmap, vmin=0, vmax=10)\n",
    "            axes[i, 1].set_title(f'Ground Truth {i+1}')\n",
    "            axes[i, 1].axis('off')\n",
    "\n",
    "            # 예측 이미지 표시\n",
    "            axes[i, 2].imshow(prediction_image, cmap=cmap, vmin=0, vmax=10)\n",
    "            axes[i, 2].set_title(f'Prediction {i+1}')\n",
    "            axes[i, 2].axis('off')\n",
    "\n",
    "        plt.tight_layout()  # 레이아웃을 자동으로 조정\n",
    "        \n",
    "        # WandB에 이미지 업로드\n",
    "        wandb.log({\"Predictions\": wandb.Image(plt)})\n",
    "        \n",
    "        # 범례를 플롯 내에 표시\n",
    "        patches = [plt.Line2D([0], [0], marker='o', color='w', markerfacecolor=color_list[j], markersize=10, label=str(j)) for j in range(11)]\n",
    "        plt.legend(handles=patches, bbox_to_anchor=(1.05, 0.5), loc='center left', borderaxespad=0.)\n",
    "\n",
    "        plt.show()\n",
    "\n",
    "\n"
   ]
  },
  {
   "cell_type": "code",
   "execution_count": 13,
   "metadata": {},
   "outputs": [
    {
     "name": "stdout",
     "output_type": "stream",
     "text": [
      "torch.Size([4, 11, 32, 32]) torch.float32\n",
      "torch.Size([4, 32, 32]) torch.int64\n",
      "============\n",
      "torch.Size([4, 32, 32]) torch.int64\n",
      "Correct samples: 1/4\n",
      "Correct pixels: 1313/4096\n"
     ]
    }
   ],
   "source": [
    "# 예시 테스트 코드\n",
    "batch_size = 4\n",
    "height = 32\n",
    "width = 32\n",
    "num_classes = 11  # 11개의 클래스를 가정\n",
    "ignore_index = 0\n",
    "# 임의의 예측값 생성 (logits 형태로, [batch_size, num_classes, H, W]의 크기)\n",
    "predictions = torch.randn(batch_size, num_classes, height, width)\n",
    "print(predictions.shape, predictions.dtype)\n",
    "predictions = predictions.argmax(dim=1)\n",
    "\n",
    "print(predictions.shape, predictions.dtype)\n",
    "print(\"============\")\n",
    "# 임의의 타겟값 생성 (정수값으로, [batch_size, 1, H, W]의 크기)\n",
    "targets = torch.randint(0, num_classes, (batch_size, 1, height, width))\n",
    "targets = targets.squeeze(1)  # [batch_size, H, W]\n",
    "print(targets.shape, targets.dtype)\n",
    "\n",
    "if ignore_index is not None:\n",
    "    mask = (targets != ignore_index)\n",
    "else:\n",
    "    mask = torch.ones_like(targets, dtype=torch.bool)\n",
    "    \n",
    "# 첫 번째와 두 번째 샘플의 예측값을 타겟값과 완전히 동일하게 설정\n",
    "predictions[0] = targets[0]\n",
    "# predictions[1] = targets[1]\n",
    "\n",
    "# 배치별로 완전히 동일한 행렬 확인\n",
    "correct_samples = (predictions == targets).all(dim=(1, 2)).sum().item()\n",
    "total_samples = targets.size(0)\n",
    "\n",
    "# 정확도 계산\n",
    "correct_pixels = (predictions == targets).sum().item()\n",
    "total_pixels = targets.numel()\n",
    "\n",
    "print(f'Correct samples: {correct_samples}/{total_samples}')\n",
    "print(f'Correct pixels: {correct_pixels}/{total_pixels}')"
   ]
  },
  {
   "cell_type": "code",
   "execution_count": 14,
   "metadata": {},
   "outputs": [
    {
     "name": "stdout",
     "output_type": "stream",
     "text": [
      "torch.Size([4, 11, 32, 32]) torch.float32\n",
      "torch.Size([4, 1, 32, 32]) torch.int64\n",
      "이미지 단위 정확도: 2/4\n",
      "픽셀 단위 정확도: 2231/4096\n"
     ]
    }
   ],
   "source": [
    "# 예시 테스트 코드\n",
    "batch_size = 4\n",
    "height = 32\n",
    "width = 32\n",
    "num_classes = 11  # 11개의 클래스를 가정\n",
    "\n",
    "# 임의의 예측값 생성 (logits 형태로, [batch_size, num_classes, H, W]의 크기)\n",
    "predictions = torch.randn(batch_size, num_classes, height, width)\n",
    "print(predictions.shape, predictions.dtype)\n",
    "\n",
    "# 임의의 타겟값 생성 (정수값으로, [batch_size, 1, H, W]의 크기)\n",
    "targets = torch.randint(0, num_classes, (batch_size, 1, height, width))\n",
    "print(targets.shape, targets.dtype)\n",
    "# 첫 번째와 두 번째 샘플의 예측값을 타겟값과 완전히 동일하게 설정\n",
    "for i in range(2):  # 첫 번째와 두 번째 샘플을 타겟과 맞춤\n",
    "    predictions[i] = torch.zeros_like(predictions[i])  # logits을 0으로 초기화\n",
    "    for c in range(num_classes):\n",
    "        predictions[i, c] = (targets[i].squeeze(0) == c).float() * 1000.0  # 타겟과 동일하게 맞춤\n",
    "\n",
    "# 정확도 계산 함수 호출\n",
    "correct_samples, total_samples, correct_pixels, total_pixels = calculate_accuracy(predictions, targets)\n",
    "\n",
    "# 결과 출력\n",
    "print(f\"이미지 단위 정확도: {correct_samples}/{total_samples}\")\n",
    "print(f\"픽셀 단위 정확도: {correct_pixels}/{total_pixels}\")\n"
   ]
  },
  {
   "cell_type": "code",
   "execution_count": 15,
   "metadata": {},
   "outputs": [
    {
     "name": "stderr",
     "output_type": "stream",
     "text": [
      "Failed to detect the name of this notebook, you can set it manually with the WANDB_NOTEBOOK_NAME environment variable to enable code saving.\n",
      "\u001b[34m\u001b[1mwandb\u001b[0m: Currently logged in as: \u001b[33mwoow070840\u001b[0m (\u001b[33mwaooang\u001b[0m). Use \u001b[1m`wandb login --relogin`\u001b[0m to force relogin\n"
     ]
    },
    {
     "data": {
      "text/html": [
       "wandb version 0.18.1 is available!  To upgrade, please run:\n",
       " $ pip install wandb --upgrade"
      ],
      "text/plain": [
       "<IPython.core.display.HTML object>"
      ]
     },
     "metadata": {},
     "output_type": "display_data"
    },
    {
     "data": {
      "text/html": [
       "Tracking run with wandb version 0.16.6"
      ],
      "text/plain": [
       "<IPython.core.display.HTML object>"
      ]
     },
     "metadata": {},
     "output_type": "display_data"
    },
    {
     "data": {
      "text/html": [
       "Run data is saved locally in <code>c:\\Workspace\\ARC\\wandb\\run-20240924_125926-oeba5zjq</code>"
      ],
      "text/plain": [
       "<IPython.core.display.HTML object>"
      ]
     },
     "metadata": {},
     "output_type": "display_data"
    },
    {
     "data": {
      "text/html": [
       "Syncing run <strong><a href='https://wandb.ai/waooang/arc-agi-training/runs/oeba5zjq' target=\"_blank\">driven-voice-18</a></strong> to <a href='https://wandb.ai/waooang/arc-agi-training' target=\"_blank\">Weights & Biases</a> (<a href='https://wandb.me/run' target=\"_blank\">docs</a>)<br/>"
      ],
      "text/plain": [
       "<IPython.core.display.HTML object>"
      ]
     },
     "metadata": {},
     "output_type": "display_data"
    },
    {
     "data": {
      "text/html": [
       " View project at <a href='https://wandb.ai/waooang/arc-agi-training' target=\"_blank\">https://wandb.ai/waooang/arc-agi-training</a>"
      ],
      "text/plain": [
       "<IPython.core.display.HTML object>"
      ]
     },
     "metadata": {},
     "output_type": "display_data"
    },
    {
     "data": {
      "text/html": [
       " View run at <a href='https://wandb.ai/waooang/arc-agi-training/runs/oeba5zjq' target=\"_blank\">https://wandb.ai/waooang/arc-agi-training/runs/oeba5zjq</a>"
      ],
      "text/plain": [
       "<IPython.core.display.HTML object>"
      ]
     },
     "metadata": {},
     "output_type": "display_data"
    },
    {
     "name": "stdout",
     "output_type": "stream",
     "text": [
      "Using cuda device\n"
     ]
    },
    {
     "name": "stderr",
     "output_type": "stream",
     "text": [
      "                                                                          \r"
     ]
    },
    {
     "name": "stdout",
     "output_type": "stream",
     "text": [
      "Epoch [1/1000] Complete | Average Loss: 2.008947 | Training Sample Accuracy: 0.0000% | Training Pixel Accuracy: 5.62%\n"
     ]
    },
    {
     "name": "stderr",
     "output_type": "stream",
     "text": [
      "                                                                     \r"
     ]
    },
    {
     "name": "stdout",
     "output_type": "stream",
     "text": [
      "Test Average Loss: 1.927044 | Test Sample Accuracy: 0.0000% | Test Pixel Accuracy: 8.34%\n"
     ]
    },
    {
     "name": "stderr",
     "output_type": "stream",
     "text": [
      "                                                                          \r"
     ]
    },
    {
     "name": "stdout",
     "output_type": "stream",
     "text": [
      "Epoch [2/1000] Complete | Average Loss: 1.924438 | Training Sample Accuracy: 0.0000% | Training Pixel Accuracy: 5.88%\n"
     ]
    },
    {
     "name": "stderr",
     "output_type": "stream",
     "text": [
      "                                                                     \r"
     ]
    },
    {
     "name": "stdout",
     "output_type": "stream",
     "text": [
      "Test Average Loss: 1.930935 | Test Sample Accuracy: 0.0000% | Test Pixel Accuracy: 8.34%\n"
     ]
    },
    {
     "name": "stderr",
     "output_type": "stream",
     "text": [
      "                                                                          \r"
     ]
    },
    {
     "name": "stdout",
     "output_type": "stream",
     "text": [
      "Epoch [3/1000] Complete | Average Loss: 1.914107 | Training Sample Accuracy: 0.0000% | Training Pixel Accuracy: 5.88%\n"
     ]
    },
    {
     "name": "stderr",
     "output_type": "stream",
     "text": [
      "                                                                     \r"
     ]
    },
    {
     "name": "stdout",
     "output_type": "stream",
     "text": [
      "Test Average Loss: 1.988376 | Test Sample Accuracy: 0.0000% | Test Pixel Accuracy: 8.34%\n"
     ]
    },
    {
     "name": "stderr",
     "output_type": "stream",
     "text": [
      "                                                                          \r"
     ]
    },
    {
     "name": "stdout",
     "output_type": "stream",
     "text": [
      "Epoch [4/1000] Complete | Average Loss: 1.972331 | Training Sample Accuracy: 0.0000% | Training Pixel Accuracy: 20.65%\n"
     ]
    },
    {
     "name": "stderr",
     "output_type": "stream",
     "text": [
      "                                                                     \r"
     ]
    },
    {
     "name": "stdout",
     "output_type": "stream",
     "text": [
      "Test Average Loss: 1.820379 | Test Sample Accuracy: 0.0000% | Test Pixel Accuracy: 8.34%\n"
     ]
    },
    {
     "name": "stderr",
     "output_type": "stream",
     "text": [
      "                                                                          \r"
     ]
    },
    {
     "name": "stdout",
     "output_type": "stream",
     "text": [
      "Epoch [5/1000] Complete | Average Loss: 1.873898 | Training Sample Accuracy: 0.0000% | Training Pixel Accuracy: 20.78%\n"
     ]
    },
    {
     "name": "stderr",
     "output_type": "stream",
     "text": [
      "                                                                     \r"
     ]
    },
    {
     "name": "stdout",
     "output_type": "stream",
     "text": [
      "Test Average Loss: 1.844550 | Test Sample Accuracy: 0.0000% | Test Pixel Accuracy: 8.34%\n"
     ]
    },
    {
     "name": "stderr",
     "output_type": "stream",
     "text": [
      "                                                                          \r"
     ]
    },
    {
     "name": "stdout",
     "output_type": "stream",
     "text": [
      "Epoch [6/1000] Complete | Average Loss: 1.877067 | Training Sample Accuracy: 0.0000% | Training Pixel Accuracy: 5.99%\n"
     ]
    },
    {
     "name": "stderr",
     "output_type": "stream",
     "text": [
      "                                                                     \r"
     ]
    },
    {
     "name": "stdout",
     "output_type": "stream",
     "text": [
      "Test Average Loss: 1.829547 | Test Sample Accuracy: 0.0000% | Test Pixel Accuracy: 8.80%\n"
     ]
    },
    {
     "name": "stderr",
     "output_type": "stream",
     "text": [
      "                                                                          \r"
     ]
    },
    {
     "name": "stdout",
     "output_type": "stream",
     "text": [
      "Epoch [7/1000] Complete | Average Loss: 1.810353 | Training Sample Accuracy: 0.0000% | Training Pixel Accuracy: 5.98%\n"
     ]
    },
    {
     "name": "stderr",
     "output_type": "stream",
     "text": [
      "                                                                     \r"
     ]
    },
    {
     "name": "stdout",
     "output_type": "stream",
     "text": [
      "Test Average Loss: 1.874617 | Test Sample Accuracy: 0.0000% | Test Pixel Accuracy: 8.66%\n"
     ]
    },
    {
     "name": "stderr",
     "output_type": "stream",
     "text": [
      "                                                                          \r"
     ]
    },
    {
     "name": "stdout",
     "output_type": "stream",
     "text": [
      "Epoch [8/1000] Complete | Average Loss: 1.852559 | Training Sample Accuracy: 0.0000% | Training Pixel Accuracy: 5.88%\n"
     ]
    },
    {
     "name": "stderr",
     "output_type": "stream",
     "text": [
      "                                                                     \r"
     ]
    },
    {
     "name": "stdout",
     "output_type": "stream",
     "text": [
      "Test Average Loss: 1.806745 | Test Sample Accuracy: 0.0000% | Test Pixel Accuracy: 8.76%\n"
     ]
    },
    {
     "name": "stderr",
     "output_type": "stream",
     "text": [
      "                                                                          \r"
     ]
    },
    {
     "name": "stdout",
     "output_type": "stream",
     "text": [
      "Epoch [9/1000] Complete | Average Loss: 1.827656 | Training Sample Accuracy: 0.0000% | Training Pixel Accuracy: 5.87%\n"
     ]
    },
    {
     "name": "stderr",
     "output_type": "stream",
     "text": [
      "                                                                     \r"
     ]
    },
    {
     "name": "stdout",
     "output_type": "stream",
     "text": [
      "Test Average Loss: 1.833891 | Test Sample Accuracy: 0.0000% | Test Pixel Accuracy: 8.75%\n"
     ]
    },
    {
     "name": "stderr",
     "output_type": "stream",
     "text": [
      "                                                                           \r"
     ]
    },
    {
     "name": "stdout",
     "output_type": "stream",
     "text": [
      "Epoch [10/1000] Complete | Average Loss: 1.839616 | Training Sample Accuracy: 0.0000% | Training Pixel Accuracy: 5.95%\n"
     ]
    },
    {
     "name": "stderr",
     "output_type": "stream",
     "text": [
      "                                                                     \r"
     ]
    },
    {
     "name": "stdout",
     "output_type": "stream",
     "text": [
      "Test Average Loss: 1.861506 | Test Sample Accuracy: 0.0000% | Test Pixel Accuracy: 8.54%\n"
     ]
    },
    {
     "name": "stderr",
     "output_type": "stream",
     "text": [
      "                                                                           \r"
     ]
    },
    {
     "name": "stdout",
     "output_type": "stream",
     "text": [
      "Epoch [11/1000] Complete | Average Loss: 1.833103 | Training Sample Accuracy: 0.0000% | Training Pixel Accuracy: 6.00%\n"
     ]
    },
    {
     "name": "stderr",
     "output_type": "stream",
     "text": [
      "                                                                     \r"
     ]
    },
    {
     "name": "stdout",
     "output_type": "stream",
     "text": [
      "Test Average Loss: 1.881557 | Test Sample Accuracy: 0.0000% | Test Pixel Accuracy: 8.78%\n"
     ]
    },
    {
     "name": "stderr",
     "output_type": "stream",
     "text": [
      "                                                                           \r"
     ]
    },
    {
     "name": "stdout",
     "output_type": "stream",
     "text": [
      "Epoch [12/1000] Complete | Average Loss: 1.823018 | Training Sample Accuracy: 0.0000% | Training Pixel Accuracy: 5.90%\n"
     ]
    },
    {
     "name": "stderr",
     "output_type": "stream",
     "text": [
      "                                                                     \r"
     ]
    },
    {
     "name": "stdout",
     "output_type": "stream",
     "text": [
      "Test Average Loss: 1.870239 | Test Sample Accuracy: 0.0000% | Test Pixel Accuracy: 8.34%\n"
     ]
    },
    {
     "name": "stderr",
     "output_type": "stream",
     "text": [
      "                                                                           \r"
     ]
    },
    {
     "name": "stdout",
     "output_type": "stream",
     "text": [
      "Epoch [13/1000] Complete | Average Loss: 1.835786 | Training Sample Accuracy: 0.0000% | Training Pixel Accuracy: 5.89%\n"
     ]
    },
    {
     "name": "stderr",
     "output_type": "stream",
     "text": [
      "                                                                     \r"
     ]
    },
    {
     "name": "stdout",
     "output_type": "stream",
     "text": [
      "Test Average Loss: 1.821461 | Test Sample Accuracy: 0.0000% | Test Pixel Accuracy: 8.73%\n"
     ]
    },
    {
     "name": "stderr",
     "output_type": "stream",
     "text": [
      "                                                                           \r"
     ]
    },
    {
     "name": "stdout",
     "output_type": "stream",
     "text": [
      "Epoch [14/1000] Complete | Average Loss: 1.806542 | Training Sample Accuracy: 0.0000% | Training Pixel Accuracy: 5.99%\n"
     ]
    },
    {
     "name": "stderr",
     "output_type": "stream",
     "text": [
      "                                                                     \r"
     ]
    },
    {
     "name": "stdout",
     "output_type": "stream",
     "text": [
      "Test Average Loss: 1.817384 | Test Sample Accuracy: 0.0000% | Test Pixel Accuracy: 8.77%\n"
     ]
    },
    {
     "name": "stderr",
     "output_type": "stream",
     "text": [
      "                                                                           \r"
     ]
    },
    {
     "name": "stdout",
     "output_type": "stream",
     "text": [
      "Epoch [15/1000] Complete | Average Loss: 1.825906 | Training Sample Accuracy: 0.0000% | Training Pixel Accuracy: 5.95%\n"
     ]
    },
    {
     "name": "stderr",
     "output_type": "stream",
     "text": [
      "                                                                     \r"
     ]
    },
    {
     "name": "stdout",
     "output_type": "stream",
     "text": [
      "Test Average Loss: 1.829854 | Test Sample Accuracy: 0.0000% | Test Pixel Accuracy: 8.73%\n"
     ]
    },
    {
     "name": "stderr",
     "output_type": "stream",
     "text": [
      "                                                                           \r"
     ]
    },
    {
     "name": "stdout",
     "output_type": "stream",
     "text": [
      "Epoch [16/1000] Complete | Average Loss: 1.870880 | Training Sample Accuracy: 0.0000% | Training Pixel Accuracy: 5.91%\n"
     ]
    },
    {
     "name": "stderr",
     "output_type": "stream",
     "text": [
      "                                                                     \r"
     ]
    },
    {
     "name": "stdout",
     "output_type": "stream",
     "text": [
      "Test Average Loss: 1.892289 | Test Sample Accuracy: 0.0000% | Test Pixel Accuracy: 8.43%\n"
     ]
    },
    {
     "name": "stderr",
     "output_type": "stream",
     "text": [
      "                                                                           \r"
     ]
    },
    {
     "name": "stdout",
     "output_type": "stream",
     "text": [
      "Epoch [17/1000] Complete | Average Loss: 1.856765 | Training Sample Accuracy: 0.0000% | Training Pixel Accuracy: 5.81%\n"
     ]
    },
    {
     "name": "stderr",
     "output_type": "stream",
     "text": [
      "                                                                     \r"
     ]
    },
    {
     "name": "stdout",
     "output_type": "stream",
     "text": [
      "Test Average Loss: 1.852690 | Test Sample Accuracy: 0.0000% | Test Pixel Accuracy: 8.34%\n"
     ]
    },
    {
     "name": "stderr",
     "output_type": "stream",
     "text": [
      "                                                                           \r"
     ]
    },
    {
     "name": "stdout",
     "output_type": "stream",
     "text": [
      "Epoch [18/1000] Complete | Average Loss: 1.836237 | Training Sample Accuracy: 0.0000% | Training Pixel Accuracy: 6.70%\n"
     ]
    },
    {
     "name": "stderr",
     "output_type": "stream",
     "text": [
      "                                                                     \r"
     ]
    },
    {
     "name": "stdout",
     "output_type": "stream",
     "text": [
      "Test Average Loss: 1.868852 | Test Sample Accuracy: 0.0000% | Test Pixel Accuracy: 11.82%\n"
     ]
    },
    {
     "name": "stderr",
     "output_type": "stream",
     "text": [
      "                                                                           \r"
     ]
    },
    {
     "name": "stdout",
     "output_type": "stream",
     "text": [
      "Epoch [19/1000] Complete | Average Loss: 1.827484 | Training Sample Accuracy: 0.0000% | Training Pixel Accuracy: 16.25%\n"
     ]
    },
    {
     "name": "stderr",
     "output_type": "stream",
     "text": [
      "                                                                     \r"
     ]
    },
    {
     "name": "stdout",
     "output_type": "stream",
     "text": [
      "Test Average Loss: 1.836955 | Test Sample Accuracy: 0.0000% | Test Pixel Accuracy: 20.95%\n"
     ]
    },
    {
     "name": "stderr",
     "output_type": "stream",
     "text": [
      "                                                                           \r"
     ]
    },
    {
     "name": "stdout",
     "output_type": "stream",
     "text": [
      "Epoch [20/1000] Complete | Average Loss: 1.839955 | Training Sample Accuracy: 0.0000% | Training Pixel Accuracy: 14.23%\n"
     ]
    },
    {
     "name": "stderr",
     "output_type": "stream",
     "text": [
      "                                                                     \r"
     ]
    },
    {
     "name": "stdout",
     "output_type": "stream",
     "text": [
      "Test Average Loss: 1.834772 | Test Sample Accuracy: 0.0000% | Test Pixel Accuracy: 8.73%\n"
     ]
    },
    {
     "name": "stderr",
     "output_type": "stream",
     "text": [
      "                                                                           \r"
     ]
    },
    {
     "name": "stdout",
     "output_type": "stream",
     "text": [
      "Epoch [21/1000] Complete | Average Loss: 1.815731 | Training Sample Accuracy: 0.0000% | Training Pixel Accuracy: 12.50%\n"
     ]
    },
    {
     "name": "stderr",
     "output_type": "stream",
     "text": [
      "                                                                     \r"
     ]
    },
    {
     "name": "stdout",
     "output_type": "stream",
     "text": [
      "Test Average Loss: 1.811339 | Test Sample Accuracy: 0.0000% | Test Pixel Accuracy: 20.95%\n"
     ]
    },
    {
     "name": "stderr",
     "output_type": "stream",
     "text": [
      "                                                                           \r"
     ]
    },
    {
     "name": "stdout",
     "output_type": "stream",
     "text": [
      "Epoch [22/1000] Complete | Average Loss: 1.808450 | Training Sample Accuracy: 0.0000% | Training Pixel Accuracy: 18.14%\n"
     ]
    },
    {
     "name": "stderr",
     "output_type": "stream",
     "text": [
      "                                                                     \r"
     ]
    },
    {
     "name": "stdout",
     "output_type": "stream",
     "text": [
      "Test Average Loss: 1.828959 | Test Sample Accuracy: 0.0000% | Test Pixel Accuracy: 20.79%\n"
     ]
    },
    {
     "name": "stderr",
     "output_type": "stream",
     "text": [
      "                                                                           \r"
     ]
    },
    {
     "name": "stdout",
     "output_type": "stream",
     "text": [
      "Epoch [23/1000] Complete | Average Loss: 1.791483 | Training Sample Accuracy: 0.0000% | Training Pixel Accuracy: 17.96%\n"
     ]
    },
    {
     "name": "stderr",
     "output_type": "stream",
     "text": [
      "                                                                     \r"
     ]
    },
    {
     "name": "stdout",
     "output_type": "stream",
     "text": [
      "Test Average Loss: 1.812674 | Test Sample Accuracy: 0.0000% | Test Pixel Accuracy: 20.48%\n"
     ]
    },
    {
     "name": "stderr",
     "output_type": "stream",
     "text": [
      "                                                                           \r"
     ]
    },
    {
     "name": "stdout",
     "output_type": "stream",
     "text": [
      "Epoch [24/1000] Complete | Average Loss: 1.790065 | Training Sample Accuracy: 0.0000% | Training Pixel Accuracy: 17.86%\n"
     ]
    },
    {
     "name": "stderr",
     "output_type": "stream",
     "text": [
      "                                                                     \r"
     ]
    },
    {
     "name": "stdout",
     "output_type": "stream",
     "text": [
      "Test Average Loss: 1.820334 | Test Sample Accuracy: 0.0000% | Test Pixel Accuracy: 20.53%\n"
     ]
    },
    {
     "name": "stderr",
     "output_type": "stream",
     "text": [
      "                                                                           \r"
     ]
    },
    {
     "name": "stdout",
     "output_type": "stream",
     "text": [
      "Epoch [25/1000] Complete | Average Loss: 1.814486 | Training Sample Accuracy: 0.0000% | Training Pixel Accuracy: 16.73%\n"
     ]
    },
    {
     "name": "stderr",
     "output_type": "stream",
     "text": [
      "                                                                     \r"
     ]
    },
    {
     "name": "stdout",
     "output_type": "stream",
     "text": [
      "Test Average Loss: 1.870022 | Test Sample Accuracy: 0.0000% | Test Pixel Accuracy: 20.52%\n"
     ]
    },
    {
     "name": "stderr",
     "output_type": "stream",
     "text": [
      "                                                                           \r"
     ]
    },
    {
     "name": "stdout",
     "output_type": "stream",
     "text": [
      "Epoch [26/1000] Complete | Average Loss: 1.815208 | Training Sample Accuracy: 0.0000% | Training Pixel Accuracy: 17.87%\n"
     ]
    },
    {
     "name": "stderr",
     "output_type": "stream",
     "text": [
      "                                                                     \r"
     ]
    },
    {
     "name": "stdout",
     "output_type": "stream",
     "text": [
      "Test Average Loss: 1.809060 | Test Sample Accuracy: 0.0000% | Test Pixel Accuracy: 20.50%\n"
     ]
    },
    {
     "name": "stderr",
     "output_type": "stream",
     "text": [
      "                                                                           \r"
     ]
    },
    {
     "name": "stdout",
     "output_type": "stream",
     "text": [
      "Epoch [27/1000] Complete | Average Loss: 1.801343 | Training Sample Accuracy: 0.0000% | Training Pixel Accuracy: 17.58%\n"
     ]
    },
    {
     "name": "stderr",
     "output_type": "stream",
     "text": [
      "                                                                     \r"
     ]
    },
    {
     "name": "stdout",
     "output_type": "stream",
     "text": [
      "Test Average Loss: 1.839841 | Test Sample Accuracy: 0.0000% | Test Pixel Accuracy: 20.53%\n"
     ]
    },
    {
     "name": "stderr",
     "output_type": "stream",
     "text": [
      "                                                                           \r"
     ]
    },
    {
     "name": "stdout",
     "output_type": "stream",
     "text": [
      "Epoch [28/1000] Complete | Average Loss: 1.843158 | Training Sample Accuracy: 0.0000% | Training Pixel Accuracy: 18.04%\n"
     ]
    },
    {
     "name": "stderr",
     "output_type": "stream",
     "text": [
      "                                                                     \r"
     ]
    },
    {
     "name": "stdout",
     "output_type": "stream",
     "text": [
      "Test Average Loss: 1.848651 | Test Sample Accuracy: 0.0000% | Test Pixel Accuracy: 20.53%\n"
     ]
    },
    {
     "name": "stderr",
     "output_type": "stream",
     "text": [
      "                                                                           \r"
     ]
    },
    {
     "name": "stdout",
     "output_type": "stream",
     "text": [
      "Epoch [29/1000] Complete | Average Loss: 1.847595 | Training Sample Accuracy: 0.0000% | Training Pixel Accuracy: 17.98%\n"
     ]
    },
    {
     "name": "stderr",
     "output_type": "stream",
     "text": [
      "                                                                     \r"
     ]
    },
    {
     "name": "stdout",
     "output_type": "stream",
     "text": [
      "Test Average Loss: 1.874144 | Test Sample Accuracy: 0.0000% | Test Pixel Accuracy: 20.49%\n"
     ]
    },
    {
     "name": "stderr",
     "output_type": "stream",
     "text": [
      "                                                                           \r"
     ]
    },
    {
     "name": "stdout",
     "output_type": "stream",
     "text": [
      "Epoch [30/1000] Complete | Average Loss: 1.865461 | Training Sample Accuracy: 0.0000% | Training Pixel Accuracy: 18.01%\n"
     ]
    },
    {
     "name": "stderr",
     "output_type": "stream",
     "text": [
      "                                                                     \r"
     ]
    },
    {
     "name": "stdout",
     "output_type": "stream",
     "text": [
      "Test Average Loss: 1.863022 | Test Sample Accuracy: 0.0000% | Test Pixel Accuracy: 20.39%\n"
     ]
    },
    {
     "name": "stderr",
     "output_type": "stream",
     "text": [
      "                                                                           \r"
     ]
    },
    {
     "name": "stdout",
     "output_type": "stream",
     "text": [
      "Epoch [31/1000] Complete | Average Loss: 1.836231 | Training Sample Accuracy: 0.0000% | Training Pixel Accuracy: 18.02%\n"
     ]
    },
    {
     "name": "stderr",
     "output_type": "stream",
     "text": [
      "                                                                     \r"
     ]
    },
    {
     "name": "stdout",
     "output_type": "stream",
     "text": [
      "Test Average Loss: 1.884828 | Test Sample Accuracy: 0.0000% | Test Pixel Accuracy: 20.43%\n"
     ]
    },
    {
     "name": "stderr",
     "output_type": "stream",
     "text": [
      "                                                                           \r"
     ]
    },
    {
     "name": "stdout",
     "output_type": "stream",
     "text": [
      "Epoch [32/1000] Complete | Average Loss: 1.860116 | Training Sample Accuracy: 0.0000% | Training Pixel Accuracy: 17.46%\n"
     ]
    },
    {
     "name": "stderr",
     "output_type": "stream",
     "text": [
      "                                                                     \r"
     ]
    },
    {
     "name": "stdout",
     "output_type": "stream",
     "text": [
      "Test Average Loss: 1.879401 | Test Sample Accuracy: 0.0000% | Test Pixel Accuracy: 19.98%\n"
     ]
    },
    {
     "name": "stderr",
     "output_type": "stream",
     "text": [
      "                                                                           \r"
     ]
    },
    {
     "name": "stdout",
     "output_type": "stream",
     "text": [
      "Epoch [33/1000] Complete | Average Loss: 1.865287 | Training Sample Accuracy: 0.0000% | Training Pixel Accuracy: 17.80%\n"
     ]
    },
    {
     "name": "stderr",
     "output_type": "stream",
     "text": [
      "                                                                     \r"
     ]
    },
    {
     "name": "stdout",
     "output_type": "stream",
     "text": [
      "Test Average Loss: 1.865446 | Test Sample Accuracy: 0.0000% | Test Pixel Accuracy: 20.39%\n"
     ]
    },
    {
     "name": "stderr",
     "output_type": "stream",
     "text": [
      "                                                                           \r"
     ]
    },
    {
     "name": "stdout",
     "output_type": "stream",
     "text": [
      "Epoch [34/1000] Complete | Average Loss: 1.858966 | Training Sample Accuracy: 0.0000% | Training Pixel Accuracy: 17.93%\n"
     ]
    },
    {
     "name": "stderr",
     "output_type": "stream",
     "text": [
      "                                                                     \r"
     ]
    },
    {
     "name": "stdout",
     "output_type": "stream",
     "text": [
      "Test Average Loss: 1.886610 | Test Sample Accuracy: 0.0000% | Test Pixel Accuracy: 20.44%\n"
     ]
    },
    {
     "name": "stderr",
     "output_type": "stream",
     "text": [
      "                                                                           \r"
     ]
    },
    {
     "name": "stdout",
     "output_type": "stream",
     "text": [
      "Epoch [35/1000] Complete | Average Loss: 1.846254 | Training Sample Accuracy: 0.0000% | Training Pixel Accuracy: 17.90%\n"
     ]
    },
    {
     "name": "stderr",
     "output_type": "stream",
     "text": [
      "                                                                     \r"
     ]
    },
    {
     "name": "stdout",
     "output_type": "stream",
     "text": [
      "Test Average Loss: 1.881652 | Test Sample Accuracy: 0.0000% | Test Pixel Accuracy: 20.44%\n"
     ]
    },
    {
     "name": "stderr",
     "output_type": "stream",
     "text": [
      "                                                                           \r"
     ]
    },
    {
     "name": "stdout",
     "output_type": "stream",
     "text": [
      "Epoch [36/1000] Complete | Average Loss: 1.880957 | Training Sample Accuracy: 0.0000% | Training Pixel Accuracy: 16.30%\n"
     ]
    },
    {
     "name": "stderr",
     "output_type": "stream",
     "text": [
      "                                                                     \r"
     ]
    },
    {
     "name": "stdout",
     "output_type": "stream",
     "text": [
      "Test Average Loss: 1.952956 | Test Sample Accuracy: 0.0000% | Test Pixel Accuracy: 8.55%\n"
     ]
    },
    {
     "name": "stderr",
     "output_type": "stream",
     "text": [
      "                                                                           \r"
     ]
    },
    {
     "name": "stdout",
     "output_type": "stream",
     "text": [
      "Epoch [37/1000] Complete | Average Loss: 1.914210 | Training Sample Accuracy: 0.0000% | Training Pixel Accuracy: 5.90%\n"
     ]
    },
    {
     "name": "stderr",
     "output_type": "stream",
     "text": [
      "                                                                     \r"
     ]
    },
    {
     "name": "stdout",
     "output_type": "stream",
     "text": [
      "Test Average Loss: 1.915909 | Test Sample Accuracy: 0.0000% | Test Pixel Accuracy: 8.34%\n"
     ]
    },
    {
     "name": "stderr",
     "output_type": "stream",
     "text": [
      "                                                                           \r"
     ]
    },
    {
     "name": "stdout",
     "output_type": "stream",
     "text": [
      "Epoch [38/1000] Complete | Average Loss: 1.904318 | Training Sample Accuracy: 0.0000% | Training Pixel Accuracy: 5.88%\n"
     ]
    },
    {
     "name": "stderr",
     "output_type": "stream",
     "text": [
      "                                                                     \r"
     ]
    },
    {
     "name": "stdout",
     "output_type": "stream",
     "text": [
      "Test Average Loss: 1.904216 | Test Sample Accuracy: 0.0000% | Test Pixel Accuracy: 8.34%\n"
     ]
    },
    {
     "name": "stderr",
     "output_type": "stream",
     "text": [
      "                                                                           \r"
     ]
    },
    {
     "name": "stdout",
     "output_type": "stream",
     "text": [
      "Epoch [39/1000] Complete | Average Loss: 1.894670 | Training Sample Accuracy: 0.0000% | Training Pixel Accuracy: 5.88%\n"
     ]
    },
    {
     "name": "stderr",
     "output_type": "stream",
     "text": [
      "                                                                     \r"
     ]
    },
    {
     "name": "stdout",
     "output_type": "stream",
     "text": [
      "Test Average Loss: 1.904546 | Test Sample Accuracy: 0.0000% | Test Pixel Accuracy: 8.34%\n"
     ]
    },
    {
     "name": "stderr",
     "output_type": "stream",
     "text": [
      "                                                                           \r"
     ]
    },
    {
     "name": "stdout",
     "output_type": "stream",
     "text": [
      "Epoch [40/1000] Complete | Average Loss: 1.906104 | Training Sample Accuracy: 0.0000% | Training Pixel Accuracy: 5.88%\n"
     ]
    },
    {
     "name": "stderr",
     "output_type": "stream",
     "text": [
      "                                                                     \r"
     ]
    },
    {
     "name": "stdout",
     "output_type": "stream",
     "text": [
      "Test Average Loss: 1.899725 | Test Sample Accuracy: 0.0000% | Test Pixel Accuracy: 8.34%\n"
     ]
    },
    {
     "name": "stderr",
     "output_type": "stream",
     "text": [
      "                                                                           \r"
     ]
    },
    {
     "name": "stdout",
     "output_type": "stream",
     "text": [
      "Epoch [41/1000] Complete | Average Loss: 1.898278 | Training Sample Accuracy: 0.0000% | Training Pixel Accuracy: 5.88%\n"
     ]
    },
    {
     "name": "stderr",
     "output_type": "stream",
     "text": [
      "                                                                     \r"
     ]
    },
    {
     "name": "stdout",
     "output_type": "stream",
     "text": [
      "Test Average Loss: 1.908301 | Test Sample Accuracy: 0.0000% | Test Pixel Accuracy: 8.34%\n"
     ]
    },
    {
     "name": "stderr",
     "output_type": "stream",
     "text": [
      "                                                                           \r"
     ]
    },
    {
     "name": "stdout",
     "output_type": "stream",
     "text": [
      "Epoch [42/1000] Complete | Average Loss: 1.896360 | Training Sample Accuracy: 0.0000% | Training Pixel Accuracy: 5.88%\n"
     ]
    },
    {
     "name": "stderr",
     "output_type": "stream",
     "text": [
      "                                                                     \r"
     ]
    },
    {
     "name": "stdout",
     "output_type": "stream",
     "text": [
      "Test Average Loss: 1.905260 | Test Sample Accuracy: 0.0000% | Test Pixel Accuracy: 8.34%\n"
     ]
    },
    {
     "name": "stderr",
     "output_type": "stream",
     "text": [
      "                                                                           \r"
     ]
    },
    {
     "name": "stdout",
     "output_type": "stream",
     "text": [
      "Epoch [43/1000] Complete | Average Loss: 1.881593 | Training Sample Accuracy: 0.0000% | Training Pixel Accuracy: 5.88%\n"
     ]
    },
    {
     "name": "stderr",
     "output_type": "stream",
     "text": [
      "                                                                     \r"
     ]
    },
    {
     "name": "stdout",
     "output_type": "stream",
     "text": [
      "Test Average Loss: 1.903795 | Test Sample Accuracy: 0.0000% | Test Pixel Accuracy: 8.34%\n"
     ]
    },
    {
     "name": "stderr",
     "output_type": "stream",
     "text": [
      "                                                                           \r"
     ]
    },
    {
     "name": "stdout",
     "output_type": "stream",
     "text": [
      "Epoch [44/1000] Complete | Average Loss: 1.874716 | Training Sample Accuracy: 0.0000% | Training Pixel Accuracy: 5.88%\n"
     ]
    },
    {
     "name": "stderr",
     "output_type": "stream",
     "text": [
      "                                                                     \r"
     ]
    },
    {
     "name": "stdout",
     "output_type": "stream",
     "text": [
      "Test Average Loss: 1.903968 | Test Sample Accuracy: 0.0000% | Test Pixel Accuracy: 8.34%\n"
     ]
    },
    {
     "name": "stderr",
     "output_type": "stream",
     "text": [
      "                                                                           \r"
     ]
    },
    {
     "name": "stdout",
     "output_type": "stream",
     "text": [
      "Epoch [45/1000] Complete | Average Loss: 1.892458 | Training Sample Accuracy: 0.0000% | Training Pixel Accuracy: 5.88%\n"
     ]
    },
    {
     "name": "stderr",
     "output_type": "stream",
     "text": [
      "                                                                     \r"
     ]
    },
    {
     "name": "stdout",
     "output_type": "stream",
     "text": [
      "Test Average Loss: 1.899011 | Test Sample Accuracy: 0.0000% | Test Pixel Accuracy: 8.34%\n"
     ]
    },
    {
     "name": "stderr",
     "output_type": "stream",
     "text": [
      "                                                                           \r"
     ]
    },
    {
     "name": "stdout",
     "output_type": "stream",
     "text": [
      "Epoch [46/1000] Complete | Average Loss: 1.894136 | Training Sample Accuracy: 0.0000% | Training Pixel Accuracy: 5.88%\n"
     ]
    },
    {
     "name": "stderr",
     "output_type": "stream",
     "text": [
      "                                                                     \r"
     ]
    },
    {
     "name": "stdout",
     "output_type": "stream",
     "text": [
      "Test Average Loss: 1.903557 | Test Sample Accuracy: 0.0000% | Test Pixel Accuracy: 8.34%\n"
     ]
    },
    {
     "name": "stderr",
     "output_type": "stream",
     "text": [
      "                                                                           \r"
     ]
    },
    {
     "name": "stdout",
     "output_type": "stream",
     "text": [
      "Epoch [47/1000] Complete | Average Loss: 1.891799 | Training Sample Accuracy: 0.0000% | Training Pixel Accuracy: 5.88%\n"
     ]
    },
    {
     "name": "stderr",
     "output_type": "stream",
     "text": [
      "                                                                     \r"
     ]
    },
    {
     "name": "stdout",
     "output_type": "stream",
     "text": [
      "Test Average Loss: 1.909965 | Test Sample Accuracy: 0.0000% | Test Pixel Accuracy: 8.34%\n"
     ]
    },
    {
     "name": "stderr",
     "output_type": "stream",
     "text": [
      "                                                                           \r"
     ]
    },
    {
     "name": "stdout",
     "output_type": "stream",
     "text": [
      "Epoch [48/1000] Complete | Average Loss: 1.898392 | Training Sample Accuracy: 0.0000% | Training Pixel Accuracy: 5.88%\n"
     ]
    },
    {
     "name": "stderr",
     "output_type": "stream",
     "text": [
      "                                                                     \r"
     ]
    },
    {
     "name": "stdout",
     "output_type": "stream",
     "text": [
      "Test Average Loss: 1.902315 | Test Sample Accuracy: 0.0000% | Test Pixel Accuracy: 8.34%\n"
     ]
    },
    {
     "name": "stderr",
     "output_type": "stream",
     "text": [
      "                                                                           \r"
     ]
    },
    {
     "name": "stdout",
     "output_type": "stream",
     "text": [
      "Epoch [49/1000] Complete | Average Loss: 1.896959 | Training Sample Accuracy: 0.0000% | Training Pixel Accuracy: 5.88%\n"
     ]
    },
    {
     "name": "stderr",
     "output_type": "stream",
     "text": [
      "                                                                     \r"
     ]
    },
    {
     "name": "stdout",
     "output_type": "stream",
     "text": [
      "Test Average Loss: 1.901494 | Test Sample Accuracy: 0.0000% | Test Pixel Accuracy: 8.34%\n"
     ]
    },
    {
     "name": "stderr",
     "output_type": "stream",
     "text": [
      "                                                                           \r"
     ]
    },
    {
     "name": "stdout",
     "output_type": "stream",
     "text": [
      "Epoch [50/1000] Complete | Average Loss: 1.875867 | Training Sample Accuracy: 0.0000% | Training Pixel Accuracy: 6.32%\n"
     ]
    },
    {
     "data": {
      "image/png": "[encoded data removed]",
      "text/plain": [
       "<Figure size 1200x1200 with 9 Axes>"
      ]
     },
     "metadata": {},
     "output_type": "display_data"
    },
    {
     "name": "stderr",
     "output_type": "stream",
     "text": [
      "                                                                     \r"
     ]
    },
    {
     "name": "stdout",
     "output_type": "stream",
     "text": [
      "Test Average Loss: 1.901553 | Test Sample Accuracy: 0.0000% | Test Pixel Accuracy: 17.51%\n"
     ]
    },
    {
     "data": {
      "image/png": "[encoded data removed]",
      "text/plain": [
       "<Figure size 1200x1200 with 9 Axes>"
      ]
     },
     "metadata": {},
     "output_type": "display_data"
    },
    {
     "name": "stderr",
     "output_type": "stream",
     "text": [
      "                                                                           \r"
     ]
    },
    {
     "name": "stdout",
     "output_type": "stream",
     "text": [
      "Epoch [51/1000] Complete | Average Loss: 1.870562 | Training Sample Accuracy: 0.0000% | Training Pixel Accuracy: 16.68%\n"
     ]
    },
    {
     "name": "stderr",
     "output_type": "stream",
     "text": [
      "                                                                     \r"
     ]
    },
    {
     "name": "stdout",
     "output_type": "stream",
     "text": [
      "Test Average Loss: 1.878783 | Test Sample Accuracy: 0.0000% | Test Pixel Accuracy: 20.45%\n"
     ]
    },
    {
     "name": "stderr",
     "output_type": "stream",
     "text": [
      "                                                                           \r"
     ]
    },
    {
     "name": "stdout",
     "output_type": "stream",
     "text": [
      "Epoch [52/1000] Complete | Average Loss: 1.900649 | Training Sample Accuracy: 0.0000% | Training Pixel Accuracy: 14.05%\n"
     ]
    },
    {
     "name": "stderr",
     "output_type": "stream",
     "text": [
      "                                                                     \r"
     ]
    },
    {
     "name": "stdout",
     "output_type": "stream",
     "text": [
      "Test Average Loss: 1.888954 | Test Sample Accuracy: 0.0000% | Test Pixel Accuracy: 17.37%\n"
     ]
    },
    {
     "name": "stderr",
     "output_type": "stream",
     "text": [
      "                                                                           \r"
     ]
    },
    {
     "name": "stdout",
     "output_type": "stream",
     "text": [
      "Epoch [53/1000] Complete | Average Loss: 1.859289 | Training Sample Accuracy: 0.0000% | Training Pixel Accuracy: 17.48%\n"
     ]
    },
    {
     "name": "stderr",
     "output_type": "stream",
     "text": [
      "                                                                     \r"
     ]
    },
    {
     "name": "stdout",
     "output_type": "stream",
     "text": [
      "Test Average Loss: 1.870631 | Test Sample Accuracy: 0.0000% | Test Pixel Accuracy: 20.45%\n"
     ]
    },
    {
     "name": "stderr",
     "output_type": "stream",
     "text": [
      "                                                                           \r"
     ]
    },
    {
     "name": "stdout",
     "output_type": "stream",
     "text": [
      "Epoch [54/1000] Complete | Average Loss: 1.796673 | Training Sample Accuracy: 0.0000% | Training Pixel Accuracy: 24.52%\n"
     ]
    },
    {
     "name": "stderr",
     "output_type": "stream",
     "text": [
      "                                                                     \r"
     ]
    },
    {
     "name": "stdout",
     "output_type": "stream",
     "text": [
      "Test Average Loss: 1.815790 | Test Sample Accuracy: 0.0000% | Test Pixel Accuracy: 24.13%\n"
     ]
    },
    {
     "name": "stderr",
     "output_type": "stream",
     "text": [
      "                                                                           \r"
     ]
    },
    {
     "name": "stdout",
     "output_type": "stream",
     "text": [
      "Epoch [55/1000] Complete | Average Loss: 1.822242 | Training Sample Accuracy: 0.0000% | Training Pixel Accuracy: 34.05%\n"
     ]
    },
    {
     "name": "stderr",
     "output_type": "stream",
     "text": [
      "                                                                     \r"
     ]
    },
    {
     "name": "stdout",
     "output_type": "stream",
     "text": [
      "Test Average Loss: 1.870921 | Test Sample Accuracy: 0.0000% | Test Pixel Accuracy: 48.81%\n"
     ]
    },
    {
     "name": "stderr",
     "output_type": "stream",
     "text": [
      "                                                                           \r"
     ]
    },
    {
     "name": "stdout",
     "output_type": "stream",
     "text": [
      "Epoch [56/1000] Complete | Average Loss: 1.888527 | Training Sample Accuracy: 0.0000% | Training Pixel Accuracy: 20.61%\n"
     ]
    },
    {
     "name": "stderr",
     "output_type": "stream",
     "text": [
      "                                                                     \r"
     ]
    },
    {
     "name": "stdout",
     "output_type": "stream",
     "text": [
      "Test Average Loss: 1.921166 | Test Sample Accuracy: 0.0000% | Test Pixel Accuracy: 17.52%\n"
     ]
    },
    {
     "name": "stderr",
     "output_type": "stream",
     "text": [
      "                                                                           \r"
     ]
    },
    {
     "name": "stdout",
     "output_type": "stream",
     "text": [
      "Epoch [57/1000] Complete | Average Loss: 1.883210 | Training Sample Accuracy: 0.0000% | Training Pixel Accuracy: 17.27%\n"
     ]
    },
    {
     "name": "stderr",
     "output_type": "stream",
     "text": [
      "                                                                     \r"
     ]
    },
    {
     "name": "stdout",
     "output_type": "stream",
     "text": [
      "Test Average Loss: 1.879075 | Test Sample Accuracy: 0.0000% | Test Pixel Accuracy: 20.45%\n"
     ]
    },
    {
     "name": "stderr",
     "output_type": "stream",
     "text": [
      "                                                                           \r"
     ]
    },
    {
     "name": "stdout",
     "output_type": "stream",
     "text": [
      "Epoch [58/1000] Complete | Average Loss: 1.864357 | Training Sample Accuracy: 0.0000% | Training Pixel Accuracy: 17.99%\n"
     ]
    },
    {
     "name": "stderr",
     "output_type": "stream",
     "text": [
      "                                                                     \r"
     ]
    },
    {
     "name": "stdout",
     "output_type": "stream",
     "text": [
      "Test Average Loss: 1.883254 | Test Sample Accuracy: 0.0000% | Test Pixel Accuracy: 20.45%\n"
     ]
    },
    {
     "name": "stderr",
     "output_type": "stream",
     "text": [
      "                                                                           \r"
     ]
    },
    {
     "name": "stdout",
     "output_type": "stream",
     "text": [
      "Epoch [59/1000] Complete | Average Loss: 1.889494 | Training Sample Accuracy: 0.0000% | Training Pixel Accuracy: 17.94%\n"
     ]
    },
    {
     "name": "stderr",
     "output_type": "stream",
     "text": [
      "                                                                     \r"
     ]
    },
    {
     "name": "stdout",
     "output_type": "stream",
     "text": [
      "Test Average Loss: 1.875704 | Test Sample Accuracy: 0.0000% | Test Pixel Accuracy: 20.35%\n"
     ]
    },
    {
     "name": "stderr",
     "output_type": "stream",
     "text": [
      "                                                                           \r"
     ]
    },
    {
     "name": "stdout",
     "output_type": "stream",
     "text": [
      "Epoch [60/1000] Complete | Average Loss: 1.860601 | Training Sample Accuracy: 0.0000% | Training Pixel Accuracy: 17.99%\n"
     ]
    },
    {
     "name": "stderr",
     "output_type": "stream",
     "text": [
      "                                                                     \r"
     ]
    },
    {
     "name": "stdout",
     "output_type": "stream",
     "text": [
      "Test Average Loss: 1.877868 | Test Sample Accuracy: 0.0000% | Test Pixel Accuracy: 20.45%\n"
     ]
    },
    {
     "name": "stderr",
     "output_type": "stream",
     "text": [
      "                                                                           \r"
     ]
    },
    {
     "name": "stdout",
     "output_type": "stream",
     "text": [
      "Epoch [61/1000] Complete | Average Loss: 1.856373 | Training Sample Accuracy: 0.0000% | Training Pixel Accuracy: 17.99%\n"
     ]
    },
    {
     "name": "stderr",
     "output_type": "stream",
     "text": [
      "                                                                     \r"
     ]
    },
    {
     "name": "stdout",
     "output_type": "stream",
     "text": [
      "Test Average Loss: 1.878610 | Test Sample Accuracy: 0.0000% | Test Pixel Accuracy: 20.45%\n"
     ]
    },
    {
     "name": "stderr",
     "output_type": "stream",
     "text": [
      "                                                                           \r"
     ]
    },
    {
     "name": "stdout",
     "output_type": "stream",
     "text": [
      "Epoch [62/1000] Complete | Average Loss: 1.871736 | Training Sample Accuracy: 0.0000% | Training Pixel Accuracy: 17.99%\n"
     ]
    },
    {
     "name": "stderr",
     "output_type": "stream",
     "text": [
      "                                                                     \r"
     ]
    },
    {
     "name": "stdout",
     "output_type": "stream",
     "text": [
      "Test Average Loss: 1.879676 | Test Sample Accuracy: 0.0000% | Test Pixel Accuracy: 20.35%\n"
     ]
    },
    {
     "name": "stderr",
     "output_type": "stream",
     "text": [
      "                                                                           \r"
     ]
    },
    {
     "name": "stdout",
     "output_type": "stream",
     "text": [
      "Epoch [63/1000] Complete | Average Loss: 1.876556 | Training Sample Accuracy: 0.0000% | Training Pixel Accuracy: 17.99%\n"
     ]
    },
    {
     "name": "stderr",
     "output_type": "stream",
     "text": [
      "                                                                     \r"
     ]
    },
    {
     "name": "stdout",
     "output_type": "stream",
     "text": [
      "Test Average Loss: 1.879844 | Test Sample Accuracy: 0.0000% | Test Pixel Accuracy: 20.36%\n"
     ]
    },
    {
     "name": "stderr",
     "output_type": "stream",
     "text": [
      "                                                                           \r"
     ]
    },
    {
     "name": "stdout",
     "output_type": "stream",
     "text": [
      "Epoch [64/1000] Complete | Average Loss: 1.866226 | Training Sample Accuracy: 0.0000% | Training Pixel Accuracy: 17.99%\n"
     ]
    },
    {
     "name": "stderr",
     "output_type": "stream",
     "text": [
      "                                                                     \r"
     ]
    },
    {
     "name": "stdout",
     "output_type": "stream",
     "text": [
      "Test Average Loss: 1.882590 | Test Sample Accuracy: 0.0000% | Test Pixel Accuracy: 20.36%\n"
     ]
    },
    {
     "name": "stderr",
     "output_type": "stream",
     "text": [
      "                                                                           \r"
     ]
    },
    {
     "name": "stdout",
     "output_type": "stream",
     "text": [
      "Epoch [65/1000] Complete | Average Loss: 1.857305 | Training Sample Accuracy: 0.0000% | Training Pixel Accuracy: 17.99%\n"
     ]
    },
    {
     "name": "stderr",
     "output_type": "stream",
     "text": [
      "                                                                     \r"
     ]
    },
    {
     "name": "stdout",
     "output_type": "stream",
     "text": [
      "Test Average Loss: 1.878520 | Test Sample Accuracy: 0.0000% | Test Pixel Accuracy: 19.98%\n"
     ]
    },
    {
     "name": "stderr",
     "output_type": "stream",
     "text": [
      "                                                                           \r"
     ]
    },
    {
     "name": "stdout",
     "output_type": "stream",
     "text": [
      "Epoch [66/1000] Complete | Average Loss: 1.886193 | Training Sample Accuracy: 0.0000% | Training Pixel Accuracy: 15.35%\n"
     ]
    },
    {
     "name": "stderr",
     "output_type": "stream",
     "text": [
      "                                                                     \r"
     ]
    },
    {
     "name": "stdout",
     "output_type": "stream",
     "text": [
      "Test Average Loss: 1.884698 | Test Sample Accuracy: 0.0000% | Test Pixel Accuracy: 14.88%\n"
     ]
    },
    {
     "name": "stderr",
     "output_type": "stream",
     "text": [
      "                                                                           \r"
     ]
    },
    {
     "name": "stdout",
     "output_type": "stream",
     "text": [
      "Epoch [67/1000] Complete | Average Loss: 1.892769 | Training Sample Accuracy: 0.0000% | Training Pixel Accuracy: 10.88%\n"
     ]
    },
    {
     "name": "stderr",
     "output_type": "stream",
     "text": [
      "                                                                     \r"
     ]
    },
    {
     "name": "stdout",
     "output_type": "stream",
     "text": [
      "Test Average Loss: 1.902664 | Test Sample Accuracy: 0.0000% | Test Pixel Accuracy: 8.34%\n"
     ]
    },
    {
     "name": "stderr",
     "output_type": "stream",
     "text": [
      "                                                                           \r"
     ]
    },
    {
     "name": "stdout",
     "output_type": "stream",
     "text": [
      "Epoch [68/1000] Complete | Average Loss: 1.877033 | Training Sample Accuracy: 0.0000% | Training Pixel Accuracy: 5.96%\n"
     ]
    },
    {
     "name": "stderr",
     "output_type": "stream",
     "text": [
      "                                                                     \r"
     ]
    },
    {
     "name": "stdout",
     "output_type": "stream",
     "text": [
      "Test Average Loss: 1.898879 | Test Sample Accuracy: 0.0000% | Test Pixel Accuracy: 8.44%\n"
     ]
    },
    {
     "name": "stderr",
     "output_type": "stream",
     "text": [
      "                                                                           \r"
     ]
    },
    {
     "name": "stdout",
     "output_type": "stream",
     "text": [
      "Epoch [69/1000] Complete | Average Loss: 1.887264 | Training Sample Accuracy: 0.0000% | Training Pixel Accuracy: 5.97%\n"
     ]
    },
    {
     "name": "stderr",
     "output_type": "stream",
     "text": [
      "                                                                     \r"
     ]
    },
    {
     "name": "stdout",
     "output_type": "stream",
     "text": [
      "Test Average Loss: 1.902638 | Test Sample Accuracy: 0.0000% | Test Pixel Accuracy: 8.44%\n"
     ]
    },
    {
     "name": "stderr",
     "output_type": "stream",
     "text": [
      "                                                                           \r"
     ]
    },
    {
     "name": "stdout",
     "output_type": "stream",
     "text": [
      "Epoch [70/1000] Complete | Average Loss: 1.893826 | Training Sample Accuracy: 0.0000% | Training Pixel Accuracy: 5.97%\n"
     ]
    },
    {
     "name": "stderr",
     "output_type": "stream",
     "text": [
      "                                                                     \r"
     ]
    },
    {
     "name": "stdout",
     "output_type": "stream",
     "text": [
      "Test Average Loss: 1.903212 | Test Sample Accuracy: 0.0000% | Test Pixel Accuracy: 8.44%\n"
     ]
    },
    {
     "name": "stderr",
     "output_type": "stream",
     "text": [
      "                                                                           \r"
     ]
    },
    {
     "name": "stdout",
     "output_type": "stream",
     "text": [
      "Epoch [71/1000] Complete | Average Loss: 1.887059 | Training Sample Accuracy: 0.0000% | Training Pixel Accuracy: 5.98%\n"
     ]
    },
    {
     "name": "stderr",
     "output_type": "stream",
     "text": [
      "                                                                     \r"
     ]
    },
    {
     "name": "stdout",
     "output_type": "stream",
     "text": [
      "Test Average Loss: 1.900861 | Test Sample Accuracy: 0.0000% | Test Pixel Accuracy: 8.44%\n"
     ]
    },
    {
     "name": "stderr",
     "output_type": "stream",
     "text": [
      "                                                                           \r"
     ]
    },
    {
     "name": "stdout",
     "output_type": "stream",
     "text": [
      "Epoch [72/1000] Complete | Average Loss: 1.891591 | Training Sample Accuracy: 0.0000% | Training Pixel Accuracy: 5.98%\n"
     ]
    },
    {
     "name": "stderr",
     "output_type": "stream",
     "text": [
      "                                                                     \r"
     ]
    },
    {
     "name": "stdout",
     "output_type": "stream",
     "text": [
      "Test Average Loss: 1.901953 | Test Sample Accuracy: 0.0000% | Test Pixel Accuracy: 8.44%\n"
     ]
    },
    {
     "name": "stderr",
     "output_type": "stream",
     "text": [
      "                                                                           \r"
     ]
    },
    {
     "name": "stdout",
     "output_type": "stream",
     "text": [
      "Epoch [73/1000] Complete | Average Loss: 1.900261 | Training Sample Accuracy: 0.0000% | Training Pixel Accuracy: 5.98%\n"
     ]
    },
    {
     "name": "stderr",
     "output_type": "stream",
     "text": [
      "                                                                     \r"
     ]
    },
    {
     "name": "stdout",
     "output_type": "stream",
     "text": [
      "Test Average Loss: 1.904001 | Test Sample Accuracy: 0.0000% | Test Pixel Accuracy: 8.44%\n"
     ]
    },
    {
     "name": "stderr",
     "output_type": "stream",
     "text": [
      "                                                                           \r"
     ]
    },
    {
     "name": "stdout",
     "output_type": "stream",
     "text": [
      "Epoch [74/1000] Complete | Average Loss: 1.901561 | Training Sample Accuracy: 0.0000% | Training Pixel Accuracy: 5.98%\n"
     ]
    },
    {
     "name": "stderr",
     "output_type": "stream",
     "text": [
      "                                                                     \r"
     ]
    },
    {
     "name": "stdout",
     "output_type": "stream",
     "text": [
      "Test Average Loss: 1.901283 | Test Sample Accuracy: 0.0000% | Test Pixel Accuracy: 8.44%\n"
     ]
    },
    {
     "name": "stderr",
     "output_type": "stream",
     "text": [
      "                                                                           \r"
     ]
    },
    {
     "name": "stdout",
     "output_type": "stream",
     "text": [
      "Epoch [75/1000] Complete | Average Loss: 1.906037 | Training Sample Accuracy: 0.0000% | Training Pixel Accuracy: 5.98%\n"
     ]
    },
    {
     "name": "stderr",
     "output_type": "stream",
     "text": [
      "                                                                     \r"
     ]
    },
    {
     "name": "stdout",
     "output_type": "stream",
     "text": [
      "Test Average Loss: 1.901161 | Test Sample Accuracy: 0.0000% | Test Pixel Accuracy: 8.44%\n"
     ]
    },
    {
     "name": "stderr",
     "output_type": "stream",
     "text": [
      "                                                                           \r"
     ]
    },
    {
     "name": "stdout",
     "output_type": "stream",
     "text": [
      "Epoch [76/1000] Complete | Average Loss: 1.877863 | Training Sample Accuracy: 0.0000% | Training Pixel Accuracy: 5.98%\n"
     ]
    },
    {
     "name": "stderr",
     "output_type": "stream",
     "text": [
      "                                                                     \r"
     ]
    },
    {
     "name": "stdout",
     "output_type": "stream",
     "text": [
      "Test Average Loss: 1.901314 | Test Sample Accuracy: 0.0000% | Test Pixel Accuracy: 8.44%\n"
     ]
    },
    {
     "name": "stderr",
     "output_type": "stream",
     "text": [
      "                                                                           \r"
     ]
    },
    {
     "name": "stdout",
     "output_type": "stream",
     "text": [
      "Epoch [77/1000] Complete | Average Loss: 1.889230 | Training Sample Accuracy: 0.0000% | Training Pixel Accuracy: 5.98%\n"
     ]
    },
    {
     "name": "stderr",
     "output_type": "stream",
     "text": [
      "                                                                     \r"
     ]
    },
    {
     "name": "stdout",
     "output_type": "stream",
     "text": [
      "Test Average Loss: 1.907800 | Test Sample Accuracy: 0.0000% | Test Pixel Accuracy: 8.44%\n"
     ]
    },
    {
     "name": "stderr",
     "output_type": "stream",
     "text": [
      "                                                                           \r"
     ]
    },
    {
     "name": "stdout",
     "output_type": "stream",
     "text": [
      "Epoch [78/1000] Complete | Average Loss: 1.908322 | Training Sample Accuracy: 0.0000% | Training Pixel Accuracy: 5.98%\n"
     ]
    },
    {
     "name": "stderr",
     "output_type": "stream",
     "text": [
      "                                                                     \r"
     ]
    },
    {
     "name": "stdout",
     "output_type": "stream",
     "text": [
      "Test Average Loss: 1.906673 | Test Sample Accuracy: 0.0000% | Test Pixel Accuracy: 8.44%\n"
     ]
    },
    {
     "name": "stderr",
     "output_type": "stream",
     "text": [
      "                                                                           \r"
     ]
    },
    {
     "name": "stdout",
     "output_type": "stream",
     "text": [
      "Epoch [79/1000] Complete | Average Loss: 1.885679 | Training Sample Accuracy: 0.0000% | Training Pixel Accuracy: 5.98%\n"
     ]
    },
    {
     "name": "stderr",
     "output_type": "stream",
     "text": [
      "                                                                     \r"
     ]
    },
    {
     "name": "stdout",
     "output_type": "stream",
     "text": [
      "Test Average Loss: 1.905091 | Test Sample Accuracy: 0.0000% | Test Pixel Accuracy: 8.44%\n"
     ]
    },
    {
     "name": "stderr",
     "output_type": "stream",
     "text": [
      "                                                                           \r"
     ]
    },
    {
     "name": "stdout",
     "output_type": "stream",
     "text": [
      "Epoch [80/1000] Complete | Average Loss: 1.894131 | Training Sample Accuracy: 0.0000% | Training Pixel Accuracy: 5.98%\n"
     ]
    },
    {
     "name": "stderr",
     "output_type": "stream",
     "text": [
      "                                                                     \r"
     ]
    },
    {
     "name": "stdout",
     "output_type": "stream",
     "text": [
      "Test Average Loss: 1.899695 | Test Sample Accuracy: 0.0000% | Test Pixel Accuracy: 8.44%\n"
     ]
    },
    {
     "name": "stderr",
     "output_type": "stream",
     "text": [
      "                                                                           \r"
     ]
    },
    {
     "name": "stdout",
     "output_type": "stream",
     "text": [
      "Epoch [81/1000] Complete | Average Loss: 1.905109 | Training Sample Accuracy: 0.0000% | Training Pixel Accuracy: 5.98%\n"
     ]
    },
    {
     "name": "stderr",
     "output_type": "stream",
     "text": [
      "                                                                     \r"
     ]
    },
    {
     "name": "stdout",
     "output_type": "stream",
     "text": [
      "Test Average Loss: 1.900366 | Test Sample Accuracy: 0.0000% | Test Pixel Accuracy: 8.44%\n"
     ]
    },
    {
     "name": "stderr",
     "output_type": "stream",
     "text": [
      "                                                                           \r"
     ]
    },
    {
     "name": "stdout",
     "output_type": "stream",
     "text": [
      "Epoch [82/1000] Complete | Average Loss: 1.885701 | Training Sample Accuracy: 0.0000% | Training Pixel Accuracy: 5.98%\n"
     ]
    },
    {
     "name": "stderr",
     "output_type": "stream",
     "text": [
      "                                                                     \r"
     ]
    },
    {
     "name": "stdout",
     "output_type": "stream",
     "text": [
      "Test Average Loss: 1.903105 | Test Sample Accuracy: 0.0000% | Test Pixel Accuracy: 8.44%\n"
     ]
    },
    {
     "name": "stderr",
     "output_type": "stream",
     "text": [
      "                                                                           \r"
     ]
    },
    {
     "name": "stdout",
     "output_type": "stream",
     "text": [
      "Epoch [83/1000] Complete | Average Loss: 1.901233 | Training Sample Accuracy: 0.0000% | Training Pixel Accuracy: 5.98%\n"
     ]
    },
    {
     "name": "stderr",
     "output_type": "stream",
     "text": [
      "                                                                     \r"
     ]
    },
    {
     "name": "stdout",
     "output_type": "stream",
     "text": [
      "Test Average Loss: 1.901615 | Test Sample Accuracy: 0.0000% | Test Pixel Accuracy: 8.44%\n"
     ]
    },
    {
     "name": "stderr",
     "output_type": "stream",
     "text": [
      "                                                                           \r"
     ]
    },
    {
     "name": "stdout",
     "output_type": "stream",
     "text": [
      "Epoch [84/1000] Complete | Average Loss: 1.891439 | Training Sample Accuracy: 0.0000% | Training Pixel Accuracy: 5.98%\n"
     ]
    },
    {
     "name": "stderr",
     "output_type": "stream",
     "text": [
      "                                                                     \r"
     ]
    },
    {
     "name": "stdout",
     "output_type": "stream",
     "text": [
      "Test Average Loss: 1.907912 | Test Sample Accuracy: 0.0000% | Test Pixel Accuracy: 8.44%\n"
     ]
    },
    {
     "name": "stderr",
     "output_type": "stream",
     "text": [
      "                                                                           \r"
     ]
    },
    {
     "name": "stdout",
     "output_type": "stream",
     "text": [
      "Epoch [85/1000] Complete | Average Loss: 1.895427 | Training Sample Accuracy: 0.0000% | Training Pixel Accuracy: 5.98%\n"
     ]
    },
    {
     "name": "stderr",
     "output_type": "stream",
     "text": [
      "                                                                     \r"
     ]
    },
    {
     "name": "stdout",
     "output_type": "stream",
     "text": [
      "Test Average Loss: 1.901359 | Test Sample Accuracy: 0.0000% | Test Pixel Accuracy: 8.44%\n"
     ]
    },
    {
     "name": "stderr",
     "output_type": "stream",
     "text": [
      "                                                                           \r"
     ]
    },
    {
     "name": "stdout",
     "output_type": "stream",
     "text": [
      "Epoch [86/1000] Complete | Average Loss: 1.894444 | Training Sample Accuracy: 0.0000% | Training Pixel Accuracy: 5.98%\n"
     ]
    },
    {
     "name": "stderr",
     "output_type": "stream",
     "text": [
      "                                                                     \r"
     ]
    },
    {
     "name": "stdout",
     "output_type": "stream",
     "text": [
      "Test Average Loss: 1.902423 | Test Sample Accuracy: 0.0000% | Test Pixel Accuracy: 8.44%\n"
     ]
    },
    {
     "name": "stderr",
     "output_type": "stream",
     "text": [
      "                                                                           \r"
     ]
    },
    {
     "name": "stdout",
     "output_type": "stream",
     "text": [
      "Epoch [87/1000] Complete | Average Loss: 1.903853 | Training Sample Accuracy: 0.0000% | Training Pixel Accuracy: 5.98%\n"
     ]
    },
    {
     "name": "stderr",
     "output_type": "stream",
     "text": [
      "                                                                     \r"
     ]
    },
    {
     "name": "stdout",
     "output_type": "stream",
     "text": [
      "Test Average Loss: 1.902251 | Test Sample Accuracy: 0.0000% | Test Pixel Accuracy: 8.44%\n"
     ]
    },
    {
     "name": "stderr",
     "output_type": "stream",
     "text": [
      "                                                                           \r"
     ]
    },
    {
     "name": "stdout",
     "output_type": "stream",
     "text": [
      "Epoch [88/1000] Complete | Average Loss: 1.885356 | Training Sample Accuracy: 0.0000% | Training Pixel Accuracy: 5.98%\n"
     ]
    },
    {
     "name": "stderr",
     "output_type": "stream",
     "text": [
      "                                                                     \r"
     ]
    },
    {
     "name": "stdout",
     "output_type": "stream",
     "text": [
      "Test Average Loss: 1.906665 | Test Sample Accuracy: 0.0000% | Test Pixel Accuracy: 8.44%\n"
     ]
    },
    {
     "name": "stderr",
     "output_type": "stream",
     "text": [
      "                                                                           \r"
     ]
    },
    {
     "name": "stdout",
     "output_type": "stream",
     "text": [
      "Epoch [89/1000] Complete | Average Loss: 1.884629 | Training Sample Accuracy: 0.0000% | Training Pixel Accuracy: 5.98%\n"
     ]
    },
    {
     "name": "stderr",
     "output_type": "stream",
     "text": [
      "                                                                     \r"
     ]
    },
    {
     "name": "stdout",
     "output_type": "stream",
     "text": [
      "Test Average Loss: 1.902514 | Test Sample Accuracy: 0.0000% | Test Pixel Accuracy: 8.44%\n"
     ]
    },
    {
     "name": "stderr",
     "output_type": "stream",
     "text": [
      "                                                                           \r"
     ]
    },
    {
     "name": "stdout",
     "output_type": "stream",
     "text": [
      "Epoch [90/1000] Complete | Average Loss: 1.871799 | Training Sample Accuracy: 0.0000% | Training Pixel Accuracy: 5.98%\n"
     ]
    },
    {
     "name": "stderr",
     "output_type": "stream",
     "text": [
      "                                                                     \r"
     ]
    },
    {
     "name": "stdout",
     "output_type": "stream",
     "text": [
      "Test Average Loss: 1.903325 | Test Sample Accuracy: 0.0000% | Test Pixel Accuracy: 8.44%\n"
     ]
    },
    {
     "name": "stderr",
     "output_type": "stream",
     "text": [
      "                                                                           \r"
     ]
    },
    {
     "name": "stdout",
     "output_type": "stream",
     "text": [
      "Epoch [91/1000] Complete | Average Loss: 1.897769 | Training Sample Accuracy: 0.0000% | Training Pixel Accuracy: 5.98%\n"
     ]
    },
    {
     "name": "stderr",
     "output_type": "stream",
     "text": [
      "                                                                     \r"
     ]
    },
    {
     "name": "stdout",
     "output_type": "stream",
     "text": [
      "Test Average Loss: 1.901192 | Test Sample Accuracy: 0.0000% | Test Pixel Accuracy: 8.44%\n"
     ]
    },
    {
     "name": "stderr",
     "output_type": "stream",
     "text": [
      "                                                                           \r"
     ]
    },
    {
     "name": "stdout",
     "output_type": "stream",
     "text": [
      "Epoch [92/1000] Complete | Average Loss: 1.902016 | Training Sample Accuracy: 0.0000% | Training Pixel Accuracy: 5.98%\n"
     ]
    },
    {
     "name": "stderr",
     "output_type": "stream",
     "text": [
      "                                                                     \r"
     ]
    },
    {
     "name": "stdout",
     "output_type": "stream",
     "text": [
      "Test Average Loss: 1.906048 | Test Sample Accuracy: 0.0000% | Test Pixel Accuracy: 8.44%\n"
     ]
    },
    {
     "name": "stderr",
     "output_type": "stream",
     "text": [
      "                                                                           \r"
     ]
    },
    {
     "name": "stdout",
     "output_type": "stream",
     "text": [
      "Epoch [93/1000] Complete | Average Loss: 1.888463 | Training Sample Accuracy: 0.0000% | Training Pixel Accuracy: 5.98%\n"
     ]
    },
    {
     "name": "stderr",
     "output_type": "stream",
     "text": [
      "                                                                     \r"
     ]
    },
    {
     "name": "stdout",
     "output_type": "stream",
     "text": [
      "Test Average Loss: 1.902867 | Test Sample Accuracy: 0.0000% | Test Pixel Accuracy: 8.44%\n"
     ]
    },
    {
     "name": "stderr",
     "output_type": "stream",
     "text": [
      "                                                                           \r"
     ]
    },
    {
     "name": "stdout",
     "output_type": "stream",
     "text": [
      "Epoch [94/1000] Complete | Average Loss: 1.886740 | Training Sample Accuracy: 0.0000% | Training Pixel Accuracy: 5.98%\n"
     ]
    },
    {
     "name": "stderr",
     "output_type": "stream",
     "text": [
      "                                                                     \r"
     ]
    },
    {
     "name": "stdout",
     "output_type": "stream",
     "text": [
      "Test Average Loss: 1.903439 | Test Sample Accuracy: 0.0000% | Test Pixel Accuracy: 8.44%\n"
     ]
    },
    {
     "name": "stderr",
     "output_type": "stream",
     "text": [
      "                                                                           \r"
     ]
    },
    {
     "name": "stdout",
     "output_type": "stream",
     "text": [
      "Epoch [95/1000] Complete | Average Loss: 1.896568 | Training Sample Accuracy: 0.0000% | Training Pixel Accuracy: 5.98%\n"
     ]
    },
    {
     "name": "stderr",
     "output_type": "stream",
     "text": [
      "                                                                     \r"
     ]
    },
    {
     "name": "stdout",
     "output_type": "stream",
     "text": [
      "Test Average Loss: 1.902526 | Test Sample Accuracy: 0.0000% | Test Pixel Accuracy: 8.44%\n"
     ]
    },
    {
     "name": "stderr",
     "output_type": "stream",
     "text": [
      "                                                                           \r"
     ]
    },
    {
     "name": "stdout",
     "output_type": "stream",
     "text": [
      "Epoch [96/1000] Complete | Average Loss: 1.902957 | Training Sample Accuracy: 0.0000% | Training Pixel Accuracy: 5.98%\n"
     ]
    },
    {
     "name": "stderr",
     "output_type": "stream",
     "text": [
      "                                                                     \r"
     ]
    },
    {
     "name": "stdout",
     "output_type": "stream",
     "text": [
      "Test Average Loss: 1.903294 | Test Sample Accuracy: 0.0000% | Test Pixel Accuracy: 8.44%\n"
     ]
    },
    {
     "name": "stderr",
     "output_type": "stream",
     "text": [
      "                                                                           \r"
     ]
    },
    {
     "name": "stdout",
     "output_type": "stream",
     "text": [
      "Epoch [97/1000] Complete | Average Loss: 1.876969 | Training Sample Accuracy: 0.0000% | Training Pixel Accuracy: 5.98%\n"
     ]
    },
    {
     "name": "stderr",
     "output_type": "stream",
     "text": [
      "                                                                     \r"
     ]
    },
    {
     "name": "stdout",
     "output_type": "stream",
     "text": [
      "Test Average Loss: 1.902953 | Test Sample Accuracy: 0.0000% | Test Pixel Accuracy: 8.44%\n"
     ]
    },
    {
     "name": "stderr",
     "output_type": "stream",
     "text": [
      "                                                                           \r"
     ]
    },
    {
     "name": "stdout",
     "output_type": "stream",
     "text": [
      "Epoch [98/1000] Complete | Average Loss: 1.900773 | Training Sample Accuracy: 0.0000% | Training Pixel Accuracy: 5.98%\n"
     ]
    },
    {
     "name": "stderr",
     "output_type": "stream",
     "text": [
      "                                                                     \r"
     ]
    },
    {
     "name": "stdout",
     "output_type": "stream",
     "text": [
      "Test Average Loss: 1.904808 | Test Sample Accuracy: 0.0000% | Test Pixel Accuracy: 8.44%\n"
     ]
    },
    {
     "name": "stderr",
     "output_type": "stream",
     "text": [
      "                                                                           \r"
     ]
    },
    {
     "name": "stdout",
     "output_type": "stream",
     "text": [
      "Epoch [99/1000] Complete | Average Loss: 1.888051 | Training Sample Accuracy: 0.0000% | Training Pixel Accuracy: 5.98%\n"
     ]
    },
    {
     "name": "stderr",
     "output_type": "stream",
     "text": [
      "                                                                     \r"
     ]
    },
    {
     "name": "stdout",
     "output_type": "stream",
     "text": [
      "Test Average Loss: 1.903572 | Test Sample Accuracy: 0.0000% | Test Pixel Accuracy: 8.44%\n"
     ]
    },
    {
     "name": "stderr",
     "output_type": "stream",
     "text": [
      "                                                                            \r"
     ]
    },
    {
     "name": "stdout",
     "output_type": "stream",
     "text": [
      "Epoch [100/1000] Complete | Average Loss: 1.894620 | Training Sample Accuracy: 0.0000% | Training Pixel Accuracy: 5.98%\n"
     ]
    },
    {
     "data": {
      "image/png": "[encoded data removed]",
      "text/plain": [
       "<Figure size 1200x1200 with 9 Axes>"
      ]
     },
     "metadata": {},
     "output_type": "display_data"
    },
    {
     "name": "stderr",
     "output_type": "stream",
     "text": [
      "                                                                     \r"
     ]
    },
    {
     "name": "stdout",
     "output_type": "stream",
     "text": [
      "Test Average Loss: 1.903963 | Test Sample Accuracy: 0.0000% | Test Pixel Accuracy: 8.44%\n"
     ]
    },
    {
     "data": {
      "image/png": "[encoded data removed]",
      "text/plain": [
       "<Figure size 1200x1200 with 9 Axes>"
      ]
     },
     "metadata": {},
     "output_type": "display_data"
    },
    {
     "name": "stderr",
     "output_type": "stream",
     "text": [
      "                                                                            \r"
     ]
    },
    {
     "name": "stdout",
     "output_type": "stream",
     "text": [
      "Epoch [101/1000] Complete | Average Loss: 1.899729 | Training Sample Accuracy: 0.0000% | Training Pixel Accuracy: 5.98%\n"
     ]
    },
    {
     "name": "stderr",
     "output_type": "stream",
     "text": [
      "                                                                     \r"
     ]
    },
    {
     "name": "stdout",
     "output_type": "stream",
     "text": [
      "Test Average Loss: 1.904838 | Test Sample Accuracy: 0.0000% | Test Pixel Accuracy: 8.44%\n"
     ]
    },
    {
     "name": "stderr",
     "output_type": "stream",
     "text": [
      "                                                                            \r"
     ]
    },
    {
     "name": "stdout",
     "output_type": "stream",
     "text": [
      "Epoch [102/1000] Complete | Average Loss: 1.890656 | Training Sample Accuracy: 0.0000% | Training Pixel Accuracy: 5.98%\n"
     ]
    },
    {
     "name": "stderr",
     "output_type": "stream",
     "text": [
      "                                                                     \r"
     ]
    },
    {
     "name": "stdout",
     "output_type": "stream",
     "text": [
      "Test Average Loss: 1.904450 | Test Sample Accuracy: 0.0000% | Test Pixel Accuracy: 8.44%\n"
     ]
    },
    {
     "name": "stderr",
     "output_type": "stream",
     "text": [
      "                                                                            \r"
     ]
    },
    {
     "name": "stdout",
     "output_type": "stream",
     "text": [
      "Epoch [103/1000] Complete | Average Loss: 1.897006 | Training Sample Accuracy: 0.0000% | Training Pixel Accuracy: 5.98%\n"
     ]
    },
    {
     "name": "stderr",
     "output_type": "stream",
     "text": [
      "                                                                     \r"
     ]
    },
    {
     "name": "stdout",
     "output_type": "stream",
     "text": [
      "Test Average Loss: 1.898436 | Test Sample Accuracy: 0.0000% | Test Pixel Accuracy: 8.44%\n"
     ]
    },
    {
     "name": "stderr",
     "output_type": "stream",
     "text": [
      "                                                                            \r"
     ]
    },
    {
     "name": "stdout",
     "output_type": "stream",
     "text": [
      "Epoch [104/1000] Complete | Average Loss: 1.888714 | Training Sample Accuracy: 0.0000% | Training Pixel Accuracy: 5.98%\n"
     ]
    },
    {
     "name": "stderr",
     "output_type": "stream",
     "text": [
      "                                                                     \r"
     ]
    },
    {
     "name": "stdout",
     "output_type": "stream",
     "text": [
      "Test Average Loss: 1.902599 | Test Sample Accuracy: 0.0000% | Test Pixel Accuracy: 8.44%\n"
     ]
    },
    {
     "name": "stderr",
     "output_type": "stream",
     "text": [
      "                                                                            \r"
     ]
    },
    {
     "name": "stdout",
     "output_type": "stream",
     "text": [
      "Epoch [105/1000] Complete | Average Loss: 1.881506 | Training Sample Accuracy: 0.0000% | Training Pixel Accuracy: 5.98%\n"
     ]
    },
    {
     "name": "stderr",
     "output_type": "stream",
     "text": [
      "                                                                     \r"
     ]
    },
    {
     "name": "stdout",
     "output_type": "stream",
     "text": [
      "Test Average Loss: 1.904233 | Test Sample Accuracy: 0.0000% | Test Pixel Accuracy: 8.44%\n"
     ]
    },
    {
     "name": "stderr",
     "output_type": "stream",
     "text": [
      "                                                                            \r"
     ]
    },
    {
     "name": "stdout",
     "output_type": "stream",
     "text": [
      "Epoch [106/1000] Complete | Average Loss: 1.906764 | Training Sample Accuracy: 0.0000% | Training Pixel Accuracy: 5.98%\n"
     ]
    },
    {
     "name": "stderr",
     "output_type": "stream",
     "text": [
      "                                                                     \r"
     ]
    },
    {
     "name": "stdout",
     "output_type": "stream",
     "text": [
      "Test Average Loss: 1.901359 | Test Sample Accuracy: 0.0000% | Test Pixel Accuracy: 8.44%\n"
     ]
    },
    {
     "name": "stderr",
     "output_type": "stream",
     "text": [
      "                                                                            \r"
     ]
    },
    {
     "name": "stdout",
     "output_type": "stream",
     "text": [
      "Epoch [107/1000] Complete | Average Loss: 1.902439 | Training Sample Accuracy: 0.0000% | Training Pixel Accuracy: 5.98%\n"
     ]
    },
    {
     "name": "stderr",
     "output_type": "stream",
     "text": [
      "                                                                     \r"
     ]
    },
    {
     "name": "stdout",
     "output_type": "stream",
     "text": [
      "Test Average Loss: 1.899885 | Test Sample Accuracy: 0.0000% | Test Pixel Accuracy: 8.44%\n"
     ]
    },
    {
     "name": "stderr",
     "output_type": "stream",
     "text": [
      "                                                                            \r"
     ]
    },
    {
     "name": "stdout",
     "output_type": "stream",
     "text": [
      "Epoch [108/1000] Complete | Average Loss: 1.896836 | Training Sample Accuracy: 0.0000% | Training Pixel Accuracy: 5.98%\n"
     ]
    },
    {
     "name": "stderr",
     "output_type": "stream",
     "text": [
      "                                                                     \r"
     ]
    },
    {
     "name": "stdout",
     "output_type": "stream",
     "text": [
      "Test Average Loss: 1.901896 | Test Sample Accuracy: 0.0000% | Test Pixel Accuracy: 8.44%\n"
     ]
    },
    {
     "name": "stderr",
     "output_type": "stream",
     "text": [
      "                                                                            \r"
     ]
    },
    {
     "name": "stdout",
     "output_type": "stream",
     "text": [
      "Epoch [109/1000] Complete | Average Loss: 1.882977 | Training Sample Accuracy: 0.0000% | Training Pixel Accuracy: 5.98%\n"
     ]
    },
    {
     "name": "stderr",
     "output_type": "stream",
     "text": [
      "                                                                     \r"
     ]
    },
    {
     "name": "stdout",
     "output_type": "stream",
     "text": [
      "Test Average Loss: 1.901946 | Test Sample Accuracy: 0.0000% | Test Pixel Accuracy: 8.44%\n"
     ]
    },
    {
     "name": "stderr",
     "output_type": "stream",
     "text": [
      "                                                                            \r"
     ]
    },
    {
     "name": "stdout",
     "output_type": "stream",
     "text": [
      "Epoch [110/1000] Complete | Average Loss: 1.873471 | Training Sample Accuracy: 0.0000% | Training Pixel Accuracy: 5.98%\n"
     ]
    },
    {
     "name": "stderr",
     "output_type": "stream",
     "text": [
      "                                                                     \r"
     ]
    },
    {
     "name": "stdout",
     "output_type": "stream",
     "text": [
      "Test Average Loss: 1.901816 | Test Sample Accuracy: 0.0000% | Test Pixel Accuracy: 8.44%\n"
     ]
    },
    {
     "name": "stderr",
     "output_type": "stream",
     "text": [
      "                                                                            \r"
     ]
    },
    {
     "name": "stdout",
     "output_type": "stream",
     "text": [
      "Epoch [111/1000] Complete | Average Loss: 1.894595 | Training Sample Accuracy: 0.0000% | Training Pixel Accuracy: 5.98%\n"
     ]
    },
    {
     "name": "stderr",
     "output_type": "stream",
     "text": [
      "                                                                     \r"
     ]
    },
    {
     "name": "stdout",
     "output_type": "stream",
     "text": [
      "Test Average Loss: 1.906255 | Test Sample Accuracy: 0.0000% | Test Pixel Accuracy: 8.44%\n"
     ]
    },
    {
     "name": "stderr",
     "output_type": "stream",
     "text": [
      "                                                                            \r"
     ]
    },
    {
     "name": "stdout",
     "output_type": "stream",
     "text": [
      "Epoch [112/1000] Complete | Average Loss: 1.881349 | Training Sample Accuracy: 0.0000% | Training Pixel Accuracy: 5.98%\n"
     ]
    },
    {
     "name": "stderr",
     "output_type": "stream",
     "text": [
      "                                                                     \r"
     ]
    },
    {
     "name": "stdout",
     "output_type": "stream",
     "text": [
      "Test Average Loss: 1.903158 | Test Sample Accuracy: 0.0000% | Test Pixel Accuracy: 8.44%\n"
     ]
    },
    {
     "name": "stderr",
     "output_type": "stream",
     "text": [
      "                                                                            \r"
     ]
    },
    {
     "name": "stdout",
     "output_type": "stream",
     "text": [
      "Epoch [113/1000] Complete | Average Loss: 1.885949 | Training Sample Accuracy: 0.0000% | Training Pixel Accuracy: 5.98%\n"
     ]
    },
    {
     "name": "stderr",
     "output_type": "stream",
     "text": [
      "                                                                     \r"
     ]
    },
    {
     "name": "stdout",
     "output_type": "stream",
     "text": [
      "Test Average Loss: 1.901106 | Test Sample Accuracy: 0.0000% | Test Pixel Accuracy: 8.44%\n"
     ]
    },
    {
     "name": "stderr",
     "output_type": "stream",
     "text": [
      "                                                                            \r"
     ]
    },
    {
     "name": "stdout",
     "output_type": "stream",
     "text": [
      "Epoch [114/1000] Complete | Average Loss: 1.875238 | Training Sample Accuracy: 0.0000% | Training Pixel Accuracy: 5.98%\n"
     ]
    },
    {
     "name": "stderr",
     "output_type": "stream",
     "text": [
      "                                                                     \r"
     ]
    },
    {
     "name": "stdout",
     "output_type": "stream",
     "text": [
      "Test Average Loss: 1.903576 | Test Sample Accuracy: 0.0000% | Test Pixel Accuracy: 8.44%\n"
     ]
    },
    {
     "name": "stderr",
     "output_type": "stream",
     "text": [
      "                                                                            \r"
     ]
    },
    {
     "name": "stdout",
     "output_type": "stream",
     "text": [
      "Epoch [115/1000] Complete | Average Loss: 1.881305 | Training Sample Accuracy: 0.0000% | Training Pixel Accuracy: 5.98%\n"
     ]
    },
    {
     "name": "stderr",
     "output_type": "stream",
     "text": [
      "                                                                     \r"
     ]
    },
    {
     "name": "stdout",
     "output_type": "stream",
     "text": [
      "Test Average Loss: 1.901801 | Test Sample Accuracy: 0.0000% | Test Pixel Accuracy: 8.44%\n"
     ]
    },
    {
     "name": "stderr",
     "output_type": "stream",
     "text": [
      "                                                                            \r"
     ]
    },
    {
     "name": "stdout",
     "output_type": "stream",
     "text": [
      "Epoch [116/1000] Complete | Average Loss: 1.872100 | Training Sample Accuracy: 0.0000% | Training Pixel Accuracy: 5.98%\n"
     ]
    },
    {
     "name": "stderr",
     "output_type": "stream",
     "text": [
      "                                                                     \r"
     ]
    },
    {
     "name": "stdout",
     "output_type": "stream",
     "text": [
      "Test Average Loss: 1.904744 | Test Sample Accuracy: 0.0000% | Test Pixel Accuracy: 8.44%\n"
     ]
    },
    {
     "name": "stderr",
     "output_type": "stream",
     "text": [
      "                                                                            \r"
     ]
    },
    {
     "name": "stdout",
     "output_type": "stream",
     "text": [
      "Epoch [117/1000] Complete | Average Loss: 1.892210 | Training Sample Accuracy: 0.0000% | Training Pixel Accuracy: 5.98%\n"
     ]
    },
    {
     "name": "stderr",
     "output_type": "stream",
     "text": [
      "                                                                     \r"
     ]
    },
    {
     "name": "stdout",
     "output_type": "stream",
     "text": [
      "Test Average Loss: 1.904163 | Test Sample Accuracy: 0.0000% | Test Pixel Accuracy: 8.44%\n"
     ]
    },
    {
     "name": "stderr",
     "output_type": "stream",
     "text": [
      "                                                                            \r"
     ]
    },
    {
     "name": "stdout",
     "output_type": "stream",
     "text": [
      "Epoch [118/1000] Complete | Average Loss: 1.889822 | Training Sample Accuracy: 0.0000% | Training Pixel Accuracy: 5.98%\n"
     ]
    },
    {
     "name": "stderr",
     "output_type": "stream",
     "text": [
      "                                                                     \r"
     ]
    },
    {
     "name": "stdout",
     "output_type": "stream",
     "text": [
      "Test Average Loss: 1.904933 | Test Sample Accuracy: 0.0000% | Test Pixel Accuracy: 8.44%\n"
     ]
    },
    {
     "name": "stderr",
     "output_type": "stream",
     "text": [
      "                                                                            \r"
     ]
    },
    {
     "name": "stdout",
     "output_type": "stream",
     "text": [
      "Epoch [119/1000] Complete | Average Loss: 1.901946 | Training Sample Accuracy: 0.0000% | Training Pixel Accuracy: 5.98%\n"
     ]
    },
    {
     "name": "stderr",
     "output_type": "stream",
     "text": [
      "                                                                     \r"
     ]
    },
    {
     "name": "stdout",
     "output_type": "stream",
     "text": [
      "Test Average Loss: 1.908263 | Test Sample Accuracy: 0.0000% | Test Pixel Accuracy: 8.44%\n"
     ]
    },
    {
     "name": "stderr",
     "output_type": "stream",
     "text": [
      "                                                                            \r"
     ]
    },
    {
     "name": "stdout",
     "output_type": "stream",
     "text": [
      "Epoch [120/1000] Complete | Average Loss: 1.905008 | Training Sample Accuracy: 0.0000% | Training Pixel Accuracy: 5.98%\n"
     ]
    },
    {
     "name": "stderr",
     "output_type": "stream",
     "text": [
      "                                                                     \r"
     ]
    },
    {
     "name": "stdout",
     "output_type": "stream",
     "text": [
      "Test Average Loss: 1.903544 | Test Sample Accuracy: 0.0000% | Test Pixel Accuracy: 8.44%\n"
     ]
    },
    {
     "name": "stderr",
     "output_type": "stream",
     "text": [
      "                                                                            \r"
     ]
    },
    {
     "name": "stdout",
     "output_type": "stream",
     "text": [
      "Epoch [121/1000] Complete | Average Loss: 1.884027 | Training Sample Accuracy: 0.0000% | Training Pixel Accuracy: 5.98%\n"
     ]
    },
    {
     "name": "stderr",
     "output_type": "stream",
     "text": [
      "                                                                     \r"
     ]
    },
    {
     "name": "stdout",
     "output_type": "stream",
     "text": [
      "Test Average Loss: 1.907510 | Test Sample Accuracy: 0.0000% | Test Pixel Accuracy: 8.44%\n"
     ]
    },
    {
     "name": "stderr",
     "output_type": "stream",
     "text": [
      "                                                                            \r"
     ]
    },
    {
     "name": "stdout",
     "output_type": "stream",
     "text": [
      "Epoch [122/1000] Complete | Average Loss: 1.890891 | Training Sample Accuracy: 0.0000% | Training Pixel Accuracy: 5.98%\n"
     ]
    },
    {
     "name": "stderr",
     "output_type": "stream",
     "text": [
      "                                                                     \r"
     ]
    },
    {
     "name": "stdout",
     "output_type": "stream",
     "text": [
      "Test Average Loss: 1.903196 | Test Sample Accuracy: 0.0000% | Test Pixel Accuracy: 8.44%\n"
     ]
    },
    {
     "name": "stderr",
     "output_type": "stream",
     "text": [
      "                                                                            \r"
     ]
    },
    {
     "name": "stdout",
     "output_type": "stream",
     "text": [
      "Epoch [123/1000] Complete | Average Loss: 1.867785 | Training Sample Accuracy: 0.0000% | Training Pixel Accuracy: 5.98%\n"
     ]
    },
    {
     "name": "stderr",
     "output_type": "stream",
     "text": [
      "                                                                     \r"
     ]
    },
    {
     "name": "stdout",
     "output_type": "stream",
     "text": [
      "Test Average Loss: 1.902387 | Test Sample Accuracy: 0.0000% | Test Pixel Accuracy: 8.44%\n"
     ]
    },
    {
     "name": "stderr",
     "output_type": "stream",
     "text": [
      "                                                                            \r"
     ]
    },
    {
     "name": "stdout",
     "output_type": "stream",
     "text": [
      "Epoch [124/1000] Complete | Average Loss: 1.899617 | Training Sample Accuracy: 0.0000% | Training Pixel Accuracy: 5.98%\n"
     ]
    },
    {
     "name": "stderr",
     "output_type": "stream",
     "text": [
      "                                                                     \r"
     ]
    },
    {
     "name": "stdout",
     "output_type": "stream",
     "text": [
      "Test Average Loss: 1.906821 | Test Sample Accuracy: 0.0000% | Test Pixel Accuracy: 8.44%\n"
     ]
    },
    {
     "name": "stderr",
     "output_type": "stream",
     "text": [
      "                                                                            \r"
     ]
    },
    {
     "name": "stdout",
     "output_type": "stream",
     "text": [
      "Epoch [125/1000] Complete | Average Loss: 1.880219 | Training Sample Accuracy: 0.0000% | Training Pixel Accuracy: 5.98%\n"
     ]
    },
    {
     "name": "stderr",
     "output_type": "stream",
     "text": [
      "                                                                     \r"
     ]
    },
    {
     "name": "stdout",
     "output_type": "stream",
     "text": [
      "Test Average Loss: 1.900905 | Test Sample Accuracy: 0.0000% | Test Pixel Accuracy: 8.44%\n"
     ]
    },
    {
     "name": "stderr",
     "output_type": "stream",
     "text": [
      "                                                                            \r"
     ]
    },
    {
     "name": "stdout",
     "output_type": "stream",
     "text": [
      "Epoch [126/1000] Complete | Average Loss: 1.887833 | Training Sample Accuracy: 0.0000% | Training Pixel Accuracy: 5.98%\n"
     ]
    },
    {
     "name": "stderr",
     "output_type": "stream",
     "text": [
      "                                                                     \r"
     ]
    },
    {
     "name": "stdout",
     "output_type": "stream",
     "text": [
      "Test Average Loss: 1.903994 | Test Sample Accuracy: 0.0000% | Test Pixel Accuracy: 8.44%\n"
     ]
    },
    {
     "name": "stderr",
     "output_type": "stream",
     "text": [
      "                                                                            \r"
     ]
    },
    {
     "name": "stdout",
     "output_type": "stream",
     "text": [
      "Epoch [127/1000] Complete | Average Loss: 1.875978 | Training Sample Accuracy: 0.0000% | Training Pixel Accuracy: 5.98%\n"
     ]
    },
    {
     "name": "stderr",
     "output_type": "stream",
     "text": [
      "                                                                     \r"
     ]
    },
    {
     "name": "stdout",
     "output_type": "stream",
     "text": [
      "Test Average Loss: 1.901664 | Test Sample Accuracy: 0.0000% | Test Pixel Accuracy: 8.44%\n"
     ]
    },
    {
     "name": "stderr",
     "output_type": "stream",
     "text": [
      "                                                                            \r"
     ]
    },
    {
     "name": "stdout",
     "output_type": "stream",
     "text": [
      "Epoch [128/1000] Complete | Average Loss: 1.904812 | Training Sample Accuracy: 0.0000% | Training Pixel Accuracy: 5.98%\n"
     ]
    },
    {
     "name": "stderr",
     "output_type": "stream",
     "text": [
      "                                                                     \r"
     ]
    },
    {
     "name": "stdout",
     "output_type": "stream",
     "text": [
      "Test Average Loss: 1.906020 | Test Sample Accuracy: 0.0000% | Test Pixel Accuracy: 8.44%\n"
     ]
    },
    {
     "name": "stderr",
     "output_type": "stream",
     "text": [
      "                                                                            \r"
     ]
    },
    {
     "name": "stdout",
     "output_type": "stream",
     "text": [
      "Epoch [129/1000] Complete | Average Loss: 1.896016 | Training Sample Accuracy: 0.0000% | Training Pixel Accuracy: 5.98%\n"
     ]
    },
    {
     "name": "stderr",
     "output_type": "stream",
     "text": [
      "                                                                     \r"
     ]
    },
    {
     "name": "stdout",
     "output_type": "stream",
     "text": [
      "Test Average Loss: 1.900977 | Test Sample Accuracy: 0.0000% | Test Pixel Accuracy: 8.44%\n"
     ]
    },
    {
     "name": "stderr",
     "output_type": "stream",
     "text": [
      "                                                                            \r"
     ]
    },
    {
     "name": "stdout",
     "output_type": "stream",
     "text": [
      "Epoch [130/1000] Complete | Average Loss: 1.896362 | Training Sample Accuracy: 0.0000% | Training Pixel Accuracy: 5.98%\n"
     ]
    },
    {
     "name": "stderr",
     "output_type": "stream",
     "text": [
      "                                                                     \r"
     ]
    },
    {
     "name": "stdout",
     "output_type": "stream",
     "text": [
      "Test Average Loss: 1.900695 | Test Sample Accuracy: 0.0000% | Test Pixel Accuracy: 8.44%\n"
     ]
    },
    {
     "name": "stderr",
     "output_type": "stream",
     "text": [
      "                                                                            \r"
     ]
    },
    {
     "name": "stdout",
     "output_type": "stream",
     "text": [
      "Epoch [131/1000] Complete | Average Loss: 1.892079 | Training Sample Accuracy: 0.0000% | Training Pixel Accuracy: 5.98%\n"
     ]
    },
    {
     "name": "stderr",
     "output_type": "stream",
     "text": [
      "                                                                     \r"
     ]
    },
    {
     "name": "stdout",
     "output_type": "stream",
     "text": [
      "Test Average Loss: 1.900786 | Test Sample Accuracy: 0.0000% | Test Pixel Accuracy: 8.44%\n"
     ]
    },
    {
     "name": "stderr",
     "output_type": "stream",
     "text": [
      "                                                                            \r"
     ]
    },
    {
     "name": "stdout",
     "output_type": "stream",
     "text": [
      "Epoch [132/1000] Complete | Average Loss: 1.893577 | Training Sample Accuracy: 0.0000% | Training Pixel Accuracy: 5.98%\n"
     ]
    },
    {
     "name": "stderr",
     "output_type": "stream",
     "text": [
      "                                                                     \r"
     ]
    },
    {
     "name": "stdout",
     "output_type": "stream",
     "text": [
      "Test Average Loss: 1.902733 | Test Sample Accuracy: 0.0000% | Test Pixel Accuracy: 8.44%\n"
     ]
    },
    {
     "name": "stderr",
     "output_type": "stream",
     "text": [
      "                                                                            \r"
     ]
    },
    {
     "name": "stdout",
     "output_type": "stream",
     "text": [
      "Epoch [133/1000] Complete | Average Loss: 1.902636 | Training Sample Accuracy: 0.0000% | Training Pixel Accuracy: 5.98%\n"
     ]
    },
    {
     "name": "stderr",
     "output_type": "stream",
     "text": [
      "                                                                     \r"
     ]
    },
    {
     "name": "stdout",
     "output_type": "stream",
     "text": [
      "Test Average Loss: 1.901999 | Test Sample Accuracy: 0.0000% | Test Pixel Accuracy: 8.44%\n"
     ]
    },
    {
     "name": "stderr",
     "output_type": "stream",
     "text": [
      "                                                                            \r"
     ]
    },
    {
     "name": "stdout",
     "output_type": "stream",
     "text": [
      "Epoch [134/1000] Complete | Average Loss: 1.882157 | Training Sample Accuracy: 0.0000% | Training Pixel Accuracy: 5.98%\n"
     ]
    },
    {
     "name": "stderr",
     "output_type": "stream",
     "text": [
      "                                                                     \r"
     ]
    },
    {
     "name": "stdout",
     "output_type": "stream",
     "text": [
      "Test Average Loss: 1.903988 | Test Sample Accuracy: 0.0000% | Test Pixel Accuracy: 8.44%\n"
     ]
    },
    {
     "name": "stderr",
     "output_type": "stream",
     "text": [
      "                                                                            \r"
     ]
    },
    {
     "name": "stdout",
     "output_type": "stream",
     "text": [
      "Epoch [135/1000] Complete | Average Loss: 1.899529 | Training Sample Accuracy: 0.0000% | Training Pixel Accuracy: 5.98%\n"
     ]
    },
    {
     "name": "stderr",
     "output_type": "stream",
     "text": [
      "                                                                     \r"
     ]
    },
    {
     "name": "stdout",
     "output_type": "stream",
     "text": [
      "Test Average Loss: 1.905229 | Test Sample Accuracy: 0.0000% | Test Pixel Accuracy: 8.44%\n"
     ]
    },
    {
     "name": "stderr",
     "output_type": "stream",
     "text": [
      "                                                                            \r"
     ]
    },
    {
     "name": "stdout",
     "output_type": "stream",
     "text": [
      "Epoch [136/1000] Complete | Average Loss: 1.875746 | Training Sample Accuracy: 0.0000% | Training Pixel Accuracy: 5.98%\n"
     ]
    },
    {
     "name": "stderr",
     "output_type": "stream",
     "text": [
      "                                                                     \r"
     ]
    },
    {
     "name": "stdout",
     "output_type": "stream",
     "text": [
      "Test Average Loss: 1.905341 | Test Sample Accuracy: 0.0000% | Test Pixel Accuracy: 8.44%\n"
     ]
    },
    {
     "name": "stderr",
     "output_type": "stream",
     "text": [
      "                                                                            \r"
     ]
    },
    {
     "name": "stdout",
     "output_type": "stream",
     "text": [
      "Epoch [137/1000] Complete | Average Loss: 1.906017 | Training Sample Accuracy: 0.0000% | Training Pixel Accuracy: 5.98%\n"
     ]
    },
    {
     "name": "stderr",
     "output_type": "stream",
     "text": [
      "                                                                     \r"
     ]
    },
    {
     "name": "stdout",
     "output_type": "stream",
     "text": [
      "Test Average Loss: 1.902392 | Test Sample Accuracy: 0.0000% | Test Pixel Accuracy: 8.44%\n"
     ]
    },
    {
     "name": "stderr",
     "output_type": "stream",
     "text": [
      "                                                                            \r"
     ]
    },
    {
     "name": "stdout",
     "output_type": "stream",
     "text": [
      "Epoch [138/1000] Complete | Average Loss: 1.883131 | Training Sample Accuracy: 0.0000% | Training Pixel Accuracy: 5.98%\n"
     ]
    },
    {
     "name": "stderr",
     "output_type": "stream",
     "text": [
      "                                                                     \r"
     ]
    },
    {
     "name": "stdout",
     "output_type": "stream",
     "text": [
      "Test Average Loss: 1.899482 | Test Sample Accuracy: 0.0000% | Test Pixel Accuracy: 8.44%\n"
     ]
    },
    {
     "name": "stderr",
     "output_type": "stream",
     "text": [
      "                                                                            \r"
     ]
    },
    {
     "name": "stdout",
     "output_type": "stream",
     "text": [
      "Epoch [139/1000] Complete | Average Loss: 1.901441 | Training Sample Accuracy: 0.0000% | Training Pixel Accuracy: 5.98%\n"
     ]
    },
    {
     "name": "stderr",
     "output_type": "stream",
     "text": [
      "                                                                     \r"
     ]
    },
    {
     "name": "stdout",
     "output_type": "stream",
     "text": [
      "Test Average Loss: 1.903107 | Test Sample Accuracy: 0.0000% | Test Pixel Accuracy: 8.44%\n"
     ]
    },
    {
     "name": "stderr",
     "output_type": "stream",
     "text": [
      "                                                                            \r"
     ]
    },
    {
     "name": "stdout",
     "output_type": "stream",
     "text": [
      "Epoch [140/1000] Complete | Average Loss: 1.879334 | Training Sample Accuracy: 0.0000% | Training Pixel Accuracy: 5.98%\n"
     ]
    },
    {
     "name": "stderr",
     "output_type": "stream",
     "text": [
      "                                                                     \r"
     ]
    },
    {
     "name": "stdout",
     "output_type": "stream",
     "text": [
      "Test Average Loss: 1.905177 | Test Sample Accuracy: 0.0000% | Test Pixel Accuracy: 8.44%\n"
     ]
    },
    {
     "name": "stderr",
     "output_type": "stream",
     "text": [
      "                                                                            \r"
     ]
    },
    {
     "name": "stdout",
     "output_type": "stream",
     "text": [
      "Epoch [141/1000] Complete | Average Loss: 1.877784 | Training Sample Accuracy: 0.0000% | Training Pixel Accuracy: 5.98%\n"
     ]
    },
    {
     "name": "stderr",
     "output_type": "stream",
     "text": [
      "                                                                     \r"
     ]
    },
    {
     "name": "stdout",
     "output_type": "stream",
     "text": [
      "Test Average Loss: 1.901386 | Test Sample Accuracy: 0.0000% | Test Pixel Accuracy: 8.44%\n"
     ]
    },
    {
     "name": "stderr",
     "output_type": "stream",
     "text": [
      "                                                                            \r"
     ]
    },
    {
     "name": "stdout",
     "output_type": "stream",
     "text": [
      "Epoch [142/1000] Complete | Average Loss: 1.882710 | Training Sample Accuracy: 0.0000% | Training Pixel Accuracy: 5.98%\n"
     ]
    },
    {
     "name": "stderr",
     "output_type": "stream",
     "text": [
      "                                                                     \r"
     ]
    },
    {
     "name": "stdout",
     "output_type": "stream",
     "text": [
      "Test Average Loss: 1.901658 | Test Sample Accuracy: 0.0000% | Test Pixel Accuracy: 8.44%\n"
     ]
    },
    {
     "name": "stderr",
     "output_type": "stream",
     "text": [
      "                                                                            \r"
     ]
    },
    {
     "name": "stdout",
     "output_type": "stream",
     "text": [
      "Epoch [143/1000] Complete | Average Loss: 1.898005 | Training Sample Accuracy: 0.0000% | Training Pixel Accuracy: 5.98%\n"
     ]
    },
    {
     "name": "stderr",
     "output_type": "stream",
     "text": [
      "                                                                     \r"
     ]
    },
    {
     "name": "stdout",
     "output_type": "stream",
     "text": [
      "Test Average Loss: 1.903141 | Test Sample Accuracy: 0.0000% | Test Pixel Accuracy: 8.44%\n"
     ]
    },
    {
     "name": "stderr",
     "output_type": "stream",
     "text": [
      "                                                                            \r"
     ]
    },
    {
     "name": "stdout",
     "output_type": "stream",
     "text": [
      "Epoch [144/1000] Complete | Average Loss: 1.885774 | Training Sample Accuracy: 0.0000% | Training Pixel Accuracy: 5.98%\n"
     ]
    },
    {
     "name": "stderr",
     "output_type": "stream",
     "text": [
      "                                                                     \r"
     ]
    },
    {
     "name": "stdout",
     "output_type": "stream",
     "text": [
      "Test Average Loss: 1.901283 | Test Sample Accuracy: 0.0000% | Test Pixel Accuracy: 8.44%\n"
     ]
    },
    {
     "name": "stderr",
     "output_type": "stream",
     "text": [
      "                                                                            \r"
     ]
    },
    {
     "name": "stdout",
     "output_type": "stream",
     "text": [
      "Epoch [145/1000] Complete | Average Loss: 1.892424 | Training Sample Accuracy: 0.0000% | Training Pixel Accuracy: 5.98%\n"
     ]
    },
    {
     "name": "stderr",
     "output_type": "stream",
     "text": [
      "                                                                     \r"
     ]
    },
    {
     "name": "stdout",
     "output_type": "stream",
     "text": [
      "Test Average Loss: 1.902916 | Test Sample Accuracy: 0.0000% | Test Pixel Accuracy: 8.44%\n"
     ]
    },
    {
     "name": "stderr",
     "output_type": "stream",
     "text": [
      "                                                                            \r"
     ]
    },
    {
     "name": "stdout",
     "output_type": "stream",
     "text": [
      "Epoch [146/1000] Complete | Average Loss: 1.882880 | Training Sample Accuracy: 0.0000% | Training Pixel Accuracy: 5.98%\n"
     ]
    },
    {
     "name": "stderr",
     "output_type": "stream",
     "text": [
      "                                                                     \r"
     ]
    },
    {
     "name": "stdout",
     "output_type": "stream",
     "text": [
      "Test Average Loss: 1.903194 | Test Sample Accuracy: 0.0000% | Test Pixel Accuracy: 8.44%\n"
     ]
    },
    {
     "name": "stderr",
     "output_type": "stream",
     "text": [
      "                                                                            \r"
     ]
    },
    {
     "name": "stdout",
     "output_type": "stream",
     "text": [
      "Epoch [147/1000] Complete | Average Loss: 1.894135 | Training Sample Accuracy: 0.0000% | Training Pixel Accuracy: 5.98%\n"
     ]
    },
    {
     "name": "stderr",
     "output_type": "stream",
     "text": [
      "                                                                     \r"
     ]
    },
    {
     "name": "stdout",
     "output_type": "stream",
     "text": [
      "Test Average Loss: 1.905892 | Test Sample Accuracy: 0.0000% | Test Pixel Accuracy: 8.44%\n"
     ]
    },
    {
     "name": "stderr",
     "output_type": "stream",
     "text": [
      "                                                                            \r"
     ]
    },
    {
     "name": "stdout",
     "output_type": "stream",
     "text": [
      "Epoch [148/1000] Complete | Average Loss: 1.888300 | Training Sample Accuracy: 0.0000% | Training Pixel Accuracy: 5.98%\n"
     ]
    },
    {
     "name": "stderr",
     "output_type": "stream",
     "text": [
      "                                                                     \r"
     ]
    },
    {
     "name": "stdout",
     "output_type": "stream",
     "text": [
      "Test Average Loss: 1.905754 | Test Sample Accuracy: 0.0000% | Test Pixel Accuracy: 8.44%\n"
     ]
    },
    {
     "name": "stderr",
     "output_type": "stream",
     "text": [
      "                                                                            \r"
     ]
    },
    {
     "name": "stdout",
     "output_type": "stream",
     "text": [
      "Epoch [149/1000] Complete | Average Loss: 1.887638 | Training Sample Accuracy: 0.0000% | Training Pixel Accuracy: 5.98%\n"
     ]
    },
    {
     "name": "stderr",
     "output_type": "stream",
     "text": [
      "                                                                     \r"
     ]
    },
    {
     "name": "stdout",
     "output_type": "stream",
     "text": [
      "Test Average Loss: 1.906543 | Test Sample Accuracy: 0.0000% | Test Pixel Accuracy: 8.44%\n"
     ]
    },
    {
     "name": "stderr",
     "output_type": "stream",
     "text": [
      "                                                                            \r"
     ]
    },
    {
     "name": "stdout",
     "output_type": "stream",
     "text": [
      "Epoch [150/1000] Complete | Average Loss: 1.894733 | Training Sample Accuracy: 0.0000% | Training Pixel Accuracy: 5.98%\n"
     ]
    },
    {
     "data": {
      "image/png": "[encoded data removed]",
      "text/plain": [
       "<Figure size 1200x1200 with 9 Axes>"
      ]
     },
     "metadata": {},
     "output_type": "display_data"
    },
    {
     "name": "stderr",
     "output_type": "stream",
     "text": [
      "                                                                     \r"
     ]
    },
    {
     "name": "stdout",
     "output_type": "stream",
     "text": [
      "Test Average Loss: 1.905289 | Test Sample Accuracy: 0.0000% | Test Pixel Accuracy: 8.44%\n"
     ]
    },
    {
     "data": {
      "image/png": "[encoded data removed]",
      "text/plain": [
       "<Figure size 1200x1200 with 9 Axes>"
      ]
     },
     "metadata": {},
     "output_type": "display_data"
    },
    {
     "name": "stderr",
     "output_type": "stream",
     "text": [
      "                                                                            \r"
     ]
    },
    {
     "name": "stdout",
     "output_type": "stream",
     "text": [
      "Epoch [151/1000] Complete | Average Loss: 1.888293 | Training Sample Accuracy: 0.0000% | Training Pixel Accuracy: 5.98%\n"
     ]
    },
    {
     "name": "stderr",
     "output_type": "stream",
     "text": [
      "                                                                     \r"
     ]
    },
    {
     "name": "stdout",
     "output_type": "stream",
     "text": [
      "Test Average Loss: 1.901183 | Test Sample Accuracy: 0.0000% | Test Pixel Accuracy: 8.44%\n"
     ]
    },
    {
     "name": "stderr",
     "output_type": "stream",
     "text": [
      "                                                                            \r"
     ]
    },
    {
     "name": "stdout",
     "output_type": "stream",
     "text": [
      "Epoch [152/1000] Complete | Average Loss: 1.900711 | Training Sample Accuracy: 0.0000% | Training Pixel Accuracy: 5.98%\n"
     ]
    },
    {
     "name": "stderr",
     "output_type": "stream",
     "text": [
      "                                                                     \r"
     ]
    },
    {
     "name": "stdout",
     "output_type": "stream",
     "text": [
      "Test Average Loss: 1.900296 | Test Sample Accuracy: 0.0000% | Test Pixel Accuracy: 8.44%\n"
     ]
    },
    {
     "name": "stderr",
     "output_type": "stream",
     "text": [
      "                                                                            \r"
     ]
    },
    {
     "name": "stdout",
     "output_type": "stream",
     "text": [
      "Epoch [153/1000] Complete | Average Loss: 1.880868 | Training Sample Accuracy: 0.0000% | Training Pixel Accuracy: 5.98%\n"
     ]
    },
    {
     "name": "stderr",
     "output_type": "stream",
     "text": [
      "                                                                     \r"
     ]
    },
    {
     "name": "stdout",
     "output_type": "stream",
     "text": [
      "Test Average Loss: 1.906047 | Test Sample Accuracy: 0.0000% | Test Pixel Accuracy: 8.44%\n"
     ]
    },
    {
     "name": "stderr",
     "output_type": "stream",
     "text": [
      "                                                                            \r"
     ]
    },
    {
     "name": "stdout",
     "output_type": "stream",
     "text": [
      "Epoch [154/1000] Complete | Average Loss: 1.900781 | Training Sample Accuracy: 0.0000% | Training Pixel Accuracy: 5.98%\n"
     ]
    },
    {
     "name": "stderr",
     "output_type": "stream",
     "text": [
      "                                                                     \r"
     ]
    },
    {
     "name": "stdout",
     "output_type": "stream",
     "text": [
      "Test Average Loss: 1.902625 | Test Sample Accuracy: 0.0000% | Test Pixel Accuracy: 8.44%\n"
     ]
    },
    {
     "name": "stderr",
     "output_type": "stream",
     "text": [
      "                                                                            \r"
     ]
    },
    {
     "name": "stdout",
     "output_type": "stream",
     "text": [
      "Epoch [155/1000] Complete | Average Loss: 1.875453 | Training Sample Accuracy: 0.0000% | Training Pixel Accuracy: 5.98%\n"
     ]
    },
    {
     "name": "stderr",
     "output_type": "stream",
     "text": [
      "                                                                     \r"
     ]
    },
    {
     "name": "stdout",
     "output_type": "stream",
     "text": [
      "Test Average Loss: 1.907227 | Test Sample Accuracy: 0.0000% | Test Pixel Accuracy: 8.44%\n"
     ]
    },
    {
     "name": "stderr",
     "output_type": "stream",
     "text": [
      "                                                                            \r"
     ]
    },
    {
     "name": "stdout",
     "output_type": "stream",
     "text": [
      "Epoch [156/1000] Complete | Average Loss: 1.886728 | Training Sample Accuracy: 0.0000% | Training Pixel Accuracy: 5.98%\n"
     ]
    },
    {
     "name": "stderr",
     "output_type": "stream",
     "text": [
      "                                                                     \r"
     ]
    },
    {
     "name": "stdout",
     "output_type": "stream",
     "text": [
      "Test Average Loss: 1.904837 | Test Sample Accuracy: 0.0000% | Test Pixel Accuracy: 8.44%\n"
     ]
    },
    {
     "name": "stderr",
     "output_type": "stream",
     "text": [
      "                                                                            \r"
     ]
    },
    {
     "name": "stdout",
     "output_type": "stream",
     "text": [
      "Epoch [157/1000] Complete | Average Loss: 1.886069 | Training Sample Accuracy: 0.0000% | Training Pixel Accuracy: 5.98%\n"
     ]
    },
    {
     "name": "stderr",
     "output_type": "stream",
     "text": [
      "                                                                     \r"
     ]
    },
    {
     "name": "stdout",
     "output_type": "stream",
     "text": [
      "Test Average Loss: 1.900964 | Test Sample Accuracy: 0.0000% | Test Pixel Accuracy: 8.44%\n"
     ]
    },
    {
     "name": "stderr",
     "output_type": "stream",
     "text": [
      "                                                                            \r"
     ]
    },
    {
     "name": "stdout",
     "output_type": "stream",
     "text": [
      "Epoch [158/1000] Complete | Average Loss: 1.881702 | Training Sample Accuracy: 0.0000% | Training Pixel Accuracy: 5.98%\n"
     ]
    },
    {
     "name": "stderr",
     "output_type": "stream",
     "text": [
      "                                                                     \r"
     ]
    },
    {
     "name": "stdout",
     "output_type": "stream",
     "text": [
      "Test Average Loss: 1.905587 | Test Sample Accuracy: 0.0000% | Test Pixel Accuracy: 8.44%\n"
     ]
    },
    {
     "name": "stderr",
     "output_type": "stream",
     "text": [
      "                                                                            \r"
     ]
    },
    {
     "name": "stdout",
     "output_type": "stream",
     "text": [
      "Epoch [159/1000] Complete | Average Loss: 1.893779 | Training Sample Accuracy: 0.0000% | Training Pixel Accuracy: 5.98%\n"
     ]
    },
    {
     "name": "stderr",
     "output_type": "stream",
     "text": [
      "                                                                     \r"
     ]
    },
    {
     "name": "stdout",
     "output_type": "stream",
     "text": [
      "Test Average Loss: 1.903730 | Test Sample Accuracy: 0.0000% | Test Pixel Accuracy: 8.44%\n"
     ]
    },
    {
     "name": "stderr",
     "output_type": "stream",
     "text": [
      "                                                                            \r"
     ]
    },
    {
     "name": "stdout",
     "output_type": "stream",
     "text": [
      "Epoch [160/1000] Complete | Average Loss: 1.889749 | Training Sample Accuracy: 0.0000% | Training Pixel Accuracy: 5.98%\n"
     ]
    },
    {
     "name": "stderr",
     "output_type": "stream",
     "text": [
      "                                                                     \r"
     ]
    },
    {
     "name": "stdout",
     "output_type": "stream",
     "text": [
      "Test Average Loss: 1.903131 | Test Sample Accuracy: 0.0000% | Test Pixel Accuracy: 8.44%\n"
     ]
    },
    {
     "name": "stderr",
     "output_type": "stream",
     "text": [
      "                                                                            \r"
     ]
    },
    {
     "name": "stdout",
     "output_type": "stream",
     "text": [
      "Epoch [161/1000] Complete | Average Loss: 1.876219 | Training Sample Accuracy: 0.0000% | Training Pixel Accuracy: 5.98%\n"
     ]
    },
    {
     "name": "stderr",
     "output_type": "stream",
     "text": [
      "                                                                     \r"
     ]
    },
    {
     "name": "stdout",
     "output_type": "stream",
     "text": [
      "Test Average Loss: 1.901647 | Test Sample Accuracy: 0.0000% | Test Pixel Accuracy: 8.44%\n"
     ]
    },
    {
     "name": "stderr",
     "output_type": "stream",
     "text": [
      "                                                                            \r"
     ]
    },
    {
     "name": "stdout",
     "output_type": "stream",
     "text": [
      "Epoch [162/1000] Complete | Average Loss: 1.883490 | Training Sample Accuracy: 0.0000% | Training Pixel Accuracy: 5.98%\n"
     ]
    },
    {
     "name": "stderr",
     "output_type": "stream",
     "text": [
      "                                                                     \r"
     ]
    },
    {
     "name": "stdout",
     "output_type": "stream",
     "text": [
      "Test Average Loss: 1.904062 | Test Sample Accuracy: 0.0000% | Test Pixel Accuracy: 8.44%\n"
     ]
    },
    {
     "name": "stderr",
     "output_type": "stream",
     "text": [
      "                                                                            \r"
     ]
    },
    {
     "name": "stdout",
     "output_type": "stream",
     "text": [
      "Epoch [163/1000] Complete | Average Loss: 1.889189 | Training Sample Accuracy: 0.0000% | Training Pixel Accuracy: 5.98%\n"
     ]
    },
    {
     "name": "stderr",
     "output_type": "stream",
     "text": [
      "                                                                     \r"
     ]
    },
    {
     "name": "stdout",
     "output_type": "stream",
     "text": [
      "Test Average Loss: 1.903736 | Test Sample Accuracy: 0.0000% | Test Pixel Accuracy: 8.44%\n"
     ]
    },
    {
     "name": "stderr",
     "output_type": "stream",
     "text": [
      "                                                                            \r"
     ]
    },
    {
     "name": "stdout",
     "output_type": "stream",
     "text": [
      "Epoch [164/1000] Complete | Average Loss: 1.883321 | Training Sample Accuracy: 0.0000% | Training Pixel Accuracy: 5.98%\n"
     ]
    },
    {
     "name": "stderr",
     "output_type": "stream",
     "text": [
      "                                                                     \r"
     ]
    },
    {
     "name": "stdout",
     "output_type": "stream",
     "text": [
      "Test Average Loss: 1.904645 | Test Sample Accuracy: 0.0000% | Test Pixel Accuracy: 8.44%\n"
     ]
    },
    {
     "name": "stderr",
     "output_type": "stream",
     "text": [
      "                                                                            \r"
     ]
    },
    {
     "name": "stdout",
     "output_type": "stream",
     "text": [
      "Epoch [165/1000] Complete | Average Loss: 1.886371 | Training Sample Accuracy: 0.0000% | Training Pixel Accuracy: 5.98%\n"
     ]
    },
    {
     "name": "stderr",
     "output_type": "stream",
     "text": [
      "                                                                     \r"
     ]
    },
    {
     "name": "stdout",
     "output_type": "stream",
     "text": [
      "Test Average Loss: 1.904227 | Test Sample Accuracy: 0.0000% | Test Pixel Accuracy: 8.44%\n"
     ]
    },
    {
     "name": "stderr",
     "output_type": "stream",
     "text": [
      "                                                                            \r"
     ]
    },
    {
     "name": "stdout",
     "output_type": "stream",
     "text": [
      "Epoch [166/1000] Complete | Average Loss: 1.884262 | Training Sample Accuracy: 0.0000% | Training Pixel Accuracy: 5.98%\n"
     ]
    },
    {
     "name": "stderr",
     "output_type": "stream",
     "text": [
      "                                                                     \r"
     ]
    },
    {
     "name": "stdout",
     "output_type": "stream",
     "text": [
      "Test Average Loss: 1.903249 | Test Sample Accuracy: 0.0000% | Test Pixel Accuracy: 8.44%\n"
     ]
    },
    {
     "name": "stderr",
     "output_type": "stream",
     "text": [
      "                                                                            \r"
     ]
    },
    {
     "name": "stdout",
     "output_type": "stream",
     "text": [
      "Epoch [167/1000] Complete | Average Loss: 1.890860 | Training Sample Accuracy: 0.0000% | Training Pixel Accuracy: 5.98%\n"
     ]
    },
    {
     "name": "stderr",
     "output_type": "stream",
     "text": [
      "                                                                     \r"
     ]
    },
    {
     "name": "stdout",
     "output_type": "stream",
     "text": [
      "Test Average Loss: 1.908158 | Test Sample Accuracy: 0.0000% | Test Pixel Accuracy: 8.44%\n"
     ]
    },
    {
     "name": "stderr",
     "output_type": "stream",
     "text": [
      "                                                                            \r"
     ]
    },
    {
     "name": "stdout",
     "output_type": "stream",
     "text": [
      "Epoch [168/1000] Complete | Average Loss: 1.887354 | Training Sample Accuracy: 0.0000% | Training Pixel Accuracy: 5.98%\n"
     ]
    },
    {
     "name": "stderr",
     "output_type": "stream",
     "text": [
      "                                                                     \r"
     ]
    },
    {
     "name": "stdout",
     "output_type": "stream",
     "text": [
      "Test Average Loss: 1.902562 | Test Sample Accuracy: 0.0000% | Test Pixel Accuracy: 8.44%\n"
     ]
    },
    {
     "name": "stderr",
     "output_type": "stream",
     "text": [
      "                                                                            \r"
     ]
    },
    {
     "name": "stdout",
     "output_type": "stream",
     "text": [
      "Epoch [169/1000] Complete | Average Loss: 1.884286 | Training Sample Accuracy: 0.0000% | Training Pixel Accuracy: 5.98%\n"
     ]
    },
    {
     "name": "stderr",
     "output_type": "stream",
     "text": [
      "                                                                     \r"
     ]
    },
    {
     "name": "stdout",
     "output_type": "stream",
     "text": [
      "Test Average Loss: 1.904107 | Test Sample Accuracy: 0.0000% | Test Pixel Accuracy: 8.44%\n"
     ]
    },
    {
     "name": "stderr",
     "output_type": "stream",
     "text": [
      "                                                                            \r"
     ]
    },
    {
     "name": "stdout",
     "output_type": "stream",
     "text": [
      "Epoch [170/1000] Complete | Average Loss: 1.884173 | Training Sample Accuracy: 0.0000% | Training Pixel Accuracy: 5.98%\n"
     ]
    },
    {
     "name": "stderr",
     "output_type": "stream",
     "text": [
      "                                                                     \r"
     ]
    },
    {
     "name": "stdout",
     "output_type": "stream",
     "text": [
      "Test Average Loss: 1.899110 | Test Sample Accuracy: 0.0000% | Test Pixel Accuracy: 8.44%\n"
     ]
    },
    {
     "name": "stderr",
     "output_type": "stream",
     "text": [
      "                                                                            \r"
     ]
    },
    {
     "name": "stdout",
     "output_type": "stream",
     "text": [
      "Epoch [171/1000] Complete | Average Loss: 1.898276 | Training Sample Accuracy: 0.0000% | Training Pixel Accuracy: 5.98%\n"
     ]
    },
    {
     "name": "stderr",
     "output_type": "stream",
     "text": [
      "                                                                     \r"
     ]
    },
    {
     "name": "stdout",
     "output_type": "stream",
     "text": [
      "Test Average Loss: 1.902529 | Test Sample Accuracy: 0.0000% | Test Pixel Accuracy: 8.44%\n"
     ]
    },
    {
     "name": "stderr",
     "output_type": "stream",
     "text": [
      "                                                                            \r"
     ]
    },
    {
     "name": "stdout",
     "output_type": "stream",
     "text": [
      "Epoch [172/1000] Complete | Average Loss: 1.892493 | Training Sample Accuracy: 0.0000% | Training Pixel Accuracy: 5.98%\n"
     ]
    },
    {
     "name": "stderr",
     "output_type": "stream",
     "text": [
      "                                                                     \r"
     ]
    },
    {
     "name": "stdout",
     "output_type": "stream",
     "text": [
      "Test Average Loss: 1.904944 | Test Sample Accuracy: 0.0000% | Test Pixel Accuracy: 8.44%\n"
     ]
    },
    {
     "name": "stderr",
     "output_type": "stream",
     "text": [
      "                                                                            \r"
     ]
    },
    {
     "name": "stdout",
     "output_type": "stream",
     "text": [
      "Epoch [173/1000] Complete | Average Loss: 1.886009 | Training Sample Accuracy: 0.0000% | Training Pixel Accuracy: 5.98%\n"
     ]
    },
    {
     "name": "stderr",
     "output_type": "stream",
     "text": [
      "                                                                     \r"
     ]
    },
    {
     "name": "stdout",
     "output_type": "stream",
     "text": [
      "Test Average Loss: 1.904034 | Test Sample Accuracy: 0.0000% | Test Pixel Accuracy: 8.44%\n"
     ]
    },
    {
     "name": "stderr",
     "output_type": "stream",
     "text": [
      "                                                                            \r"
     ]
    },
    {
     "name": "stdout",
     "output_type": "stream",
     "text": [
      "Epoch [174/1000] Complete | Average Loss: 1.906691 | Training Sample Accuracy: 0.0000% | Training Pixel Accuracy: 5.98%\n"
     ]
    },
    {
     "name": "stderr",
     "output_type": "stream",
     "text": [
      "                                                                     \r"
     ]
    },
    {
     "name": "stdout",
     "output_type": "stream",
     "text": [
      "Test Average Loss: 1.905389 | Test Sample Accuracy: 0.0000% | Test Pixel Accuracy: 8.44%\n"
     ]
    },
    {
     "name": "stderr",
     "output_type": "stream",
     "text": [
      "                                                                            \r"
     ]
    },
    {
     "name": "stdout",
     "output_type": "stream",
     "text": [
      "Epoch [175/1000] Complete | Average Loss: 1.896090 | Training Sample Accuracy: 0.0000% | Training Pixel Accuracy: 5.98%\n"
     ]
    },
    {
     "name": "stderr",
     "output_type": "stream",
     "text": [
      "                                                                     \r"
     ]
    },
    {
     "name": "stdout",
     "output_type": "stream",
     "text": [
      "Test Average Loss: 1.906630 | Test Sample Accuracy: 0.0000% | Test Pixel Accuracy: 8.44%\n"
     ]
    },
    {
     "name": "stderr",
     "output_type": "stream",
     "text": [
      "                                                                            \r"
     ]
    },
    {
     "name": "stdout",
     "output_type": "stream",
     "text": [
      "Epoch [176/1000] Complete | Average Loss: 1.877176 | Training Sample Accuracy: 0.0000% | Training Pixel Accuracy: 5.98%\n"
     ]
    },
    {
     "name": "stderr",
     "output_type": "stream",
     "text": [
      "                                                                     \r"
     ]
    },
    {
     "name": "stdout",
     "output_type": "stream",
     "text": [
      "Test Average Loss: 1.903725 | Test Sample Accuracy: 0.0000% | Test Pixel Accuracy: 8.44%\n"
     ]
    },
    {
     "name": "stderr",
     "output_type": "stream",
     "text": [
      "                                                                            \r"
     ]
    },
    {
     "name": "stdout",
     "output_type": "stream",
     "text": [
      "Epoch [177/1000] Complete | Average Loss: 1.903635 | Training Sample Accuracy: 0.0000% | Training Pixel Accuracy: 5.98%\n"
     ]
    },
    {
     "name": "stderr",
     "output_type": "stream",
     "text": [
      "                                                                     \r"
     ]
    },
    {
     "name": "stdout",
     "output_type": "stream",
     "text": [
      "Test Average Loss: 1.904874 | Test Sample Accuracy: 0.0000% | Test Pixel Accuracy: 8.44%\n"
     ]
    },
    {
     "name": "stderr",
     "output_type": "stream",
     "text": [
      "                                                                            \r"
     ]
    },
    {
     "name": "stdout",
     "output_type": "stream",
     "text": [
      "Epoch [178/1000] Complete | Average Loss: 1.903873 | Training Sample Accuracy: 0.0000% | Training Pixel Accuracy: 5.98%\n"
     ]
    },
    {
     "name": "stderr",
     "output_type": "stream",
     "text": [
      "                                                                     \r"
     ]
    },
    {
     "name": "stdout",
     "output_type": "stream",
     "text": [
      "Test Average Loss: 1.904997 | Test Sample Accuracy: 0.0000% | Test Pixel Accuracy: 8.44%\n"
     ]
    },
    {
     "name": "stderr",
     "output_type": "stream",
     "text": [
      "                                                                            \r"
     ]
    },
    {
     "name": "stdout",
     "output_type": "stream",
     "text": [
      "Epoch [179/1000] Complete | Average Loss: 1.886457 | Training Sample Accuracy: 0.0000% | Training Pixel Accuracy: 5.98%\n"
     ]
    },
    {
     "name": "stderr",
     "output_type": "stream",
     "text": [
      "                                                                     \r"
     ]
    },
    {
     "name": "stdout",
     "output_type": "stream",
     "text": [
      "Test Average Loss: 1.902169 | Test Sample Accuracy: 0.0000% | Test Pixel Accuracy: 8.44%\n"
     ]
    },
    {
     "name": "stderr",
     "output_type": "stream",
     "text": [
      "                                                                            \r"
     ]
    },
    {
     "name": "stdout",
     "output_type": "stream",
     "text": [
      "Epoch [180/1000] Complete | Average Loss: 1.903491 | Training Sample Accuracy: 0.0000% | Training Pixel Accuracy: 5.98%\n"
     ]
    },
    {
     "name": "stderr",
     "output_type": "stream",
     "text": [
      "                                                                     \r"
     ]
    },
    {
     "name": "stdout",
     "output_type": "stream",
     "text": [
      "Test Average Loss: 1.906928 | Test Sample Accuracy: 0.0000% | Test Pixel Accuracy: 8.44%\n"
     ]
    },
    {
     "name": "stderr",
     "output_type": "stream",
     "text": [
      "                                                                            \r"
     ]
    },
    {
     "name": "stdout",
     "output_type": "stream",
     "text": [
      "Epoch [181/1000] Complete | Average Loss: 1.887944 | Training Sample Accuracy: 0.0000% | Training Pixel Accuracy: 5.98%\n"
     ]
    },
    {
     "name": "stderr",
     "output_type": "stream",
     "text": [
      "                                                                     \r"
     ]
    },
    {
     "name": "stdout",
     "output_type": "stream",
     "text": [
      "Test Average Loss: 1.900804 | Test Sample Accuracy: 0.0000% | Test Pixel Accuracy: 8.44%\n"
     ]
    },
    {
     "name": "stderr",
     "output_type": "stream",
     "text": [
      "                                                                            \r"
     ]
    },
    {
     "name": "stdout",
     "output_type": "stream",
     "text": [
      "Epoch [182/1000] Complete | Average Loss: 1.888690 | Training Sample Accuracy: 0.0000% | Training Pixel Accuracy: 5.98%\n"
     ]
    },
    {
     "name": "stderr",
     "output_type": "stream",
     "text": [
      "                                                                     \r"
     ]
    },
    {
     "name": "stdout",
     "output_type": "stream",
     "text": [
      "Test Average Loss: 1.902576 | Test Sample Accuracy: 0.0000% | Test Pixel Accuracy: 8.44%\n"
     ]
    },
    {
     "name": "stderr",
     "output_type": "stream",
     "text": [
      "                                                                            \r"
     ]
    },
    {
     "name": "stdout",
     "output_type": "stream",
     "text": [
      "Epoch [183/1000] Complete | Average Loss: 1.885026 | Training Sample Accuracy: 0.0000% | Training Pixel Accuracy: 5.98%\n"
     ]
    },
    {
     "name": "stderr",
     "output_type": "stream",
     "text": [
      "                                                                     \r"
     ]
    },
    {
     "name": "stdout",
     "output_type": "stream",
     "text": [
      "Test Average Loss: 1.905576 | Test Sample Accuracy: 0.0000% | Test Pixel Accuracy: 8.44%\n"
     ]
    },
    {
     "name": "stderr",
     "output_type": "stream",
     "text": [
      "                                                                            \r"
     ]
    },
    {
     "name": "stdout",
     "output_type": "stream",
     "text": [
      "Epoch [184/1000] Complete | Average Loss: 1.884997 | Training Sample Accuracy: 0.0000% | Training Pixel Accuracy: 5.98%\n"
     ]
    },
    {
     "name": "stderr",
     "output_type": "stream",
     "text": [
      "                                                                     \r"
     ]
    },
    {
     "name": "stdout",
     "output_type": "stream",
     "text": [
      "Test Average Loss: 1.902025 | Test Sample Accuracy: 0.0000% | Test Pixel Accuracy: 8.44%\n"
     ]
    },
    {
     "name": "stderr",
     "output_type": "stream",
     "text": [
      "                                                                            \r"
     ]
    },
    {
     "name": "stdout",
     "output_type": "stream",
     "text": [
      "Epoch [185/1000] Complete | Average Loss: 1.896664 | Training Sample Accuracy: 0.0000% | Training Pixel Accuracy: 5.98%\n"
     ]
    },
    {
     "name": "stderr",
     "output_type": "stream",
     "text": [
      "                                                                     \r"
     ]
    },
    {
     "name": "stdout",
     "output_type": "stream",
     "text": [
      "Test Average Loss: 1.900617 | Test Sample Accuracy: 0.0000% | Test Pixel Accuracy: 8.44%\n"
     ]
    },
    {
     "name": "stderr",
     "output_type": "stream",
     "text": [
      "                                                                            \r"
     ]
    },
    {
     "name": "stdout",
     "output_type": "stream",
     "text": [
      "Epoch [186/1000] Complete | Average Loss: 1.892175 | Training Sample Accuracy: 0.0000% | Training Pixel Accuracy: 5.98%\n"
     ]
    },
    {
     "name": "stderr",
     "output_type": "stream",
     "text": [
      "                                                                     \r"
     ]
    },
    {
     "name": "stdout",
     "output_type": "stream",
     "text": [
      "Test Average Loss: 1.903403 | Test Sample Accuracy: 0.0000% | Test Pixel Accuracy: 8.44%\n"
     ]
    },
    {
     "name": "stderr",
     "output_type": "stream",
     "text": [
      "                                                                            \r"
     ]
    },
    {
     "name": "stdout",
     "output_type": "stream",
     "text": [
      "Epoch [187/1000] Complete | Average Loss: 1.883435 | Training Sample Accuracy: 0.0000% | Training Pixel Accuracy: 5.98%\n"
     ]
    },
    {
     "name": "stderr",
     "output_type": "stream",
     "text": [
      "                                                                     \r"
     ]
    },
    {
     "name": "stdout",
     "output_type": "stream",
     "text": [
      "Test Average Loss: 1.901720 | Test Sample Accuracy: 0.0000% | Test Pixel Accuracy: 8.44%\n"
     ]
    },
    {
     "name": "stderr",
     "output_type": "stream",
     "text": [
      "                                                                            \r"
     ]
    },
    {
     "name": "stdout",
     "output_type": "stream",
     "text": [
      "Epoch [188/1000] Complete | Average Loss: 1.893634 | Training Sample Accuracy: 0.0000% | Training Pixel Accuracy: 5.98%\n"
     ]
    },
    {
     "name": "stderr",
     "output_type": "stream",
     "text": [
      "                                                                     \r"
     ]
    },
    {
     "name": "stdout",
     "output_type": "stream",
     "text": [
      "Test Average Loss: 1.901848 | Test Sample Accuracy: 0.0000% | Test Pixel Accuracy: 8.44%\n"
     ]
    },
    {
     "name": "stderr",
     "output_type": "stream",
     "text": [
      "                                                                            \r"
     ]
    },
    {
     "name": "stdout",
     "output_type": "stream",
     "text": [
      "Epoch [189/1000] Complete | Average Loss: 1.895571 | Training Sample Accuracy: 0.0000% | Training Pixel Accuracy: 5.98%\n"
     ]
    },
    {
     "name": "stderr",
     "output_type": "stream",
     "text": [
      "                                                                     \r"
     ]
    },
    {
     "name": "stdout",
     "output_type": "stream",
     "text": [
      "Test Average Loss: 1.902586 | Test Sample Accuracy: 0.0000% | Test Pixel Accuracy: 8.44%\n"
     ]
    },
    {
     "name": "stderr",
     "output_type": "stream",
     "text": [
      "                                                                            \r"
     ]
    },
    {
     "name": "stdout",
     "output_type": "stream",
     "text": [
      "Epoch [190/1000] Complete | Average Loss: 1.890493 | Training Sample Accuracy: 0.0000% | Training Pixel Accuracy: 5.98%\n"
     ]
    },
    {
     "name": "stderr",
     "output_type": "stream",
     "text": [
      "                                                                     \r"
     ]
    },
    {
     "name": "stdout",
     "output_type": "stream",
     "text": [
      "Test Average Loss: 1.902103 | Test Sample Accuracy: 0.0000% | Test Pixel Accuracy: 8.44%\n"
     ]
    },
    {
     "name": "stderr",
     "output_type": "stream",
     "text": [
      "                                                                            \r"
     ]
    },
    {
     "name": "stdout",
     "output_type": "stream",
     "text": [
      "Epoch [191/1000] Complete | Average Loss: 1.883876 | Training Sample Accuracy: 0.0000% | Training Pixel Accuracy: 5.98%\n"
     ]
    },
    {
     "name": "stderr",
     "output_type": "stream",
     "text": [
      "                                                                     \r"
     ]
    },
    {
     "name": "stdout",
     "output_type": "stream",
     "text": [
      "Test Average Loss: 1.902996 | Test Sample Accuracy: 0.0000% | Test Pixel Accuracy: 8.44%\n"
     ]
    },
    {
     "name": "stderr",
     "output_type": "stream",
     "text": [
      "                                                                            \r"
     ]
    },
    {
     "name": "stdout",
     "output_type": "stream",
     "text": [
      "Epoch [192/1000] Complete | Average Loss: 1.900438 | Training Sample Accuracy: 0.0000% | Training Pixel Accuracy: 5.98%\n"
     ]
    },
    {
     "name": "stderr",
     "output_type": "stream",
     "text": [
      "                                                                     \r"
     ]
    },
    {
     "name": "stdout",
     "output_type": "stream",
     "text": [
      "Test Average Loss: 1.901379 | Test Sample Accuracy: 0.0000% | Test Pixel Accuracy: 8.44%\n"
     ]
    },
    {
     "name": "stderr",
     "output_type": "stream",
     "text": [
      "                                                                            \r"
     ]
    },
    {
     "name": "stdout",
     "output_type": "stream",
     "text": [
      "Epoch [193/1000] Complete | Average Loss: 1.895465 | Training Sample Accuracy: 0.0000% | Training Pixel Accuracy: 5.98%\n"
     ]
    },
    {
     "name": "stderr",
     "output_type": "stream",
     "text": [
      "                                                                     \r"
     ]
    },
    {
     "name": "stdout",
     "output_type": "stream",
     "text": [
      "Test Average Loss: 1.901231 | Test Sample Accuracy: 0.0000% | Test Pixel Accuracy: 8.44%\n"
     ]
    },
    {
     "name": "stderr",
     "output_type": "stream",
     "text": [
      "                                                                            \r"
     ]
    },
    {
     "name": "stdout",
     "output_type": "stream",
     "text": [
      "Epoch [194/1000] Complete | Average Loss: 1.882950 | Training Sample Accuracy: 0.0000% | Training Pixel Accuracy: 5.98%\n"
     ]
    },
    {
     "name": "stderr",
     "output_type": "stream",
     "text": [
      "                                                                     \r"
     ]
    },
    {
     "name": "stdout",
     "output_type": "stream",
     "text": [
      "Test Average Loss: 1.901965 | Test Sample Accuracy: 0.0000% | Test Pixel Accuracy: 8.44%\n"
     ]
    },
    {
     "name": "stderr",
     "output_type": "stream",
     "text": [
      "                                                                            \r"
     ]
    },
    {
     "name": "stdout",
     "output_type": "stream",
     "text": [
      "Epoch [195/1000] Complete | Average Loss: 1.915020 | Training Sample Accuracy: 0.0000% | Training Pixel Accuracy: 5.98%\n"
     ]
    },
    {
     "name": "stderr",
     "output_type": "stream",
     "text": [
      "                                                                     \r"
     ]
    },
    {
     "name": "stdout",
     "output_type": "stream",
     "text": [
      "Test Average Loss: 1.903312 | Test Sample Accuracy: 0.0000% | Test Pixel Accuracy: 8.44%\n"
     ]
    },
    {
     "name": "stderr",
     "output_type": "stream",
     "text": [
      "                                                                            \r"
     ]
    },
    {
     "name": "stdout",
     "output_type": "stream",
     "text": [
      "Epoch [196/1000] Complete | Average Loss: 1.888080 | Training Sample Accuracy: 0.0000% | Training Pixel Accuracy: 5.98%\n"
     ]
    },
    {
     "name": "stderr",
     "output_type": "stream",
     "text": [
      "                                                                     \r"
     ]
    },
    {
     "name": "stdout",
     "output_type": "stream",
     "text": [
      "Test Average Loss: 1.904986 | Test Sample Accuracy: 0.0000% | Test Pixel Accuracy: 8.44%\n"
     ]
    },
    {
     "name": "stderr",
     "output_type": "stream",
     "text": [
      "                                                                            \r"
     ]
    },
    {
     "name": "stdout",
     "output_type": "stream",
     "text": [
      "Epoch [197/1000] Complete | Average Loss: 1.902526 | Training Sample Accuracy: 0.0000% | Training Pixel Accuracy: 5.98%\n"
     ]
    },
    {
     "name": "stderr",
     "output_type": "stream",
     "text": [
      "                                                                     \r"
     ]
    },
    {
     "name": "stdout",
     "output_type": "stream",
     "text": [
      "Test Average Loss: 1.902715 | Test Sample Accuracy: 0.0000% | Test Pixel Accuracy: 8.44%\n"
     ]
    },
    {
     "name": "stderr",
     "output_type": "stream",
     "text": [
      "                                                                            \r"
     ]
    },
    {
     "name": "stdout",
     "output_type": "stream",
     "text": [
      "Epoch [198/1000] Complete | Average Loss: 1.883487 | Training Sample Accuracy: 0.0000% | Training Pixel Accuracy: 5.98%\n"
     ]
    },
    {
     "name": "stderr",
     "output_type": "stream",
     "text": [
      "                                                                     \r"
     ]
    },
    {
     "name": "stdout",
     "output_type": "stream",
     "text": [
      "Test Average Loss: 1.903277 | Test Sample Accuracy: 0.0000% | Test Pixel Accuracy: 8.44%\n"
     ]
    },
    {
     "name": "stderr",
     "output_type": "stream",
     "text": [
      "                                                                            \r"
     ]
    },
    {
     "name": "stdout",
     "output_type": "stream",
     "text": [
      "Epoch [199/1000] Complete | Average Loss: 1.892786 | Training Sample Accuracy: 0.0000% | Training Pixel Accuracy: 5.98%\n"
     ]
    },
    {
     "name": "stderr",
     "output_type": "stream",
     "text": [
      "                                                                     \r"
     ]
    },
    {
     "name": "stdout",
     "output_type": "stream",
     "text": [
      "Test Average Loss: 1.901278 | Test Sample Accuracy: 0.0000% | Test Pixel Accuracy: 8.44%\n"
     ]
    },
    {
     "name": "stderr",
     "output_type": "stream",
     "text": [
      "                                                                            \r"
     ]
    },
    {
     "name": "stdout",
     "output_type": "stream",
     "text": [
      "Epoch [200/1000] Complete | Average Loss: 1.873200 | Training Sample Accuracy: 0.0000% | Training Pixel Accuracy: 5.98%\n"
     ]
    },
    {
     "data": {
      "image/png": "[encoded data removed]",
      "text/plain": [
       "<Figure size 1200x1200 with 9 Axes>"
      ]
     },
     "metadata": {},
     "output_type": "display_data"
    },
    {
     "name": "stderr",
     "output_type": "stream",
     "text": [
      "                                                                     \r"
     ]
    },
    {
     "name": "stdout",
     "output_type": "stream",
     "text": [
      "Test Average Loss: 1.903470 | Test Sample Accuracy: 0.0000% | Test Pixel Accuracy: 8.44%\n"
     ]
    },
    {
     "data": {
      "image/png": "[encoded data removed]",
      "text/plain": [
       "<Figure size 1200x1200 with 9 Axes>"
      ]
     },
     "metadata": {},
     "output_type": "display_data"
    },
    {
     "name": "stderr",
     "output_type": "stream",
     "text": [
      "                                                                            \r"
     ]
    },
    {
     "name": "stdout",
     "output_type": "stream",
     "text": [
      "Epoch [201/1000] Complete | Average Loss: 1.887568 | Training Sample Accuracy: 0.0000% | Training Pixel Accuracy: 5.98%\n"
     ]
    },
    {
     "name": "stderr",
     "output_type": "stream",
     "text": [
      "                                                                     \r"
     ]
    },
    {
     "name": "stdout",
     "output_type": "stream",
     "text": [
      "Test Average Loss: 1.902340 | Test Sample Accuracy: 0.0000% | Test Pixel Accuracy: 8.44%\n"
     ]
    },
    {
     "name": "stderr",
     "output_type": "stream",
     "text": [
      "                                                                            \r"
     ]
    },
    {
     "name": "stdout",
     "output_type": "stream",
     "text": [
      "Epoch [202/1000] Complete | Average Loss: 1.899209 | Training Sample Accuracy: 0.0000% | Training Pixel Accuracy: 5.98%\n"
     ]
    },
    {
     "name": "stderr",
     "output_type": "stream",
     "text": [
      "                                                                     \r"
     ]
    },
    {
     "name": "stdout",
     "output_type": "stream",
     "text": [
      "Test Average Loss: 1.900072 | Test Sample Accuracy: 0.0000% | Test Pixel Accuracy: 8.44%\n"
     ]
    },
    {
     "name": "stderr",
     "output_type": "stream",
     "text": [
      "                                                                            \r"
     ]
    },
    {
     "name": "stdout",
     "output_type": "stream",
     "text": [
      "Epoch [203/1000] Complete | Average Loss: 1.886448 | Training Sample Accuracy: 0.0000% | Training Pixel Accuracy: 5.98%\n"
     ]
    },
    {
     "name": "stderr",
     "output_type": "stream",
     "text": [
      "                                                                     \r"
     ]
    },
    {
     "name": "stdout",
     "output_type": "stream",
     "text": [
      "Test Average Loss: 1.904441 | Test Sample Accuracy: 0.0000% | Test Pixel Accuracy: 8.44%\n"
     ]
    },
    {
     "name": "stderr",
     "output_type": "stream",
     "text": [
      "                                                                            \r"
     ]
    },
    {
     "name": "stdout",
     "output_type": "stream",
     "text": [
      "Epoch [204/1000] Complete | Average Loss: 1.893201 | Training Sample Accuracy: 0.0000% | Training Pixel Accuracy: 5.98%\n"
     ]
    },
    {
     "name": "stderr",
     "output_type": "stream",
     "text": [
      "                                                                     \r"
     ]
    },
    {
     "name": "stdout",
     "output_type": "stream",
     "text": [
      "Test Average Loss: 1.906120 | Test Sample Accuracy: 0.0000% | Test Pixel Accuracy: 8.44%\n"
     ]
    },
    {
     "name": "stderr",
     "output_type": "stream",
     "text": [
      "                                                                            \r"
     ]
    },
    {
     "name": "stdout",
     "output_type": "stream",
     "text": [
      "Epoch [205/1000] Complete | Average Loss: 1.885327 | Training Sample Accuracy: 0.0000% | Training Pixel Accuracy: 5.98%\n"
     ]
    },
    {
     "name": "stderr",
     "output_type": "stream",
     "text": [
      "                                                                     \r"
     ]
    },
    {
     "name": "stdout",
     "output_type": "stream",
     "text": [
      "Test Average Loss: 1.902554 | Test Sample Accuracy: 0.0000% | Test Pixel Accuracy: 8.44%\n"
     ]
    },
    {
     "name": "stderr",
     "output_type": "stream",
     "text": [
      "                                                                            \r"
     ]
    },
    {
     "name": "stdout",
     "output_type": "stream",
     "text": [
      "Epoch [206/1000] Complete | Average Loss: 1.879651 | Training Sample Accuracy: 0.0000% | Training Pixel Accuracy: 5.98%\n"
     ]
    },
    {
     "name": "stderr",
     "output_type": "stream",
     "text": [
      "                                                                     \r"
     ]
    },
    {
     "name": "stdout",
     "output_type": "stream",
     "text": [
      "Test Average Loss: 1.906252 | Test Sample Accuracy: 0.0000% | Test Pixel Accuracy: 8.44%\n"
     ]
    },
    {
     "name": "stderr",
     "output_type": "stream",
     "text": [
      "                                                                            \r"
     ]
    },
    {
     "name": "stdout",
     "output_type": "stream",
     "text": [
      "Epoch [207/1000] Complete | Average Loss: 1.903987 | Training Sample Accuracy: 0.0000% | Training Pixel Accuracy: 5.98%\n"
     ]
    },
    {
     "name": "stderr",
     "output_type": "stream",
     "text": [
      "                                                                     \r"
     ]
    },
    {
     "name": "stdout",
     "output_type": "stream",
     "text": [
      "Test Average Loss: 1.904159 | Test Sample Accuracy: 0.0000% | Test Pixel Accuracy: 8.44%\n"
     ]
    },
    {
     "name": "stderr",
     "output_type": "stream",
     "text": [
      "                                                                            \r"
     ]
    },
    {
     "name": "stdout",
     "output_type": "stream",
     "text": [
      "Epoch [208/1000] Complete | Average Loss: 1.893520 | Training Sample Accuracy: 0.0000% | Training Pixel Accuracy: 5.98%\n"
     ]
    },
    {
     "name": "stderr",
     "output_type": "stream",
     "text": [
      "                                                                     \r"
     ]
    },
    {
     "name": "stdout",
     "output_type": "stream",
     "text": [
      "Test Average Loss: 1.903823 | Test Sample Accuracy: 0.0000% | Test Pixel Accuracy: 8.44%\n"
     ]
    },
    {
     "name": "stderr",
     "output_type": "stream",
     "text": [
      "                                                                            \r"
     ]
    },
    {
     "name": "stdout",
     "output_type": "stream",
     "text": [
      "Epoch [209/1000] Complete | Average Loss: 1.903209 | Training Sample Accuracy: 0.0000% | Training Pixel Accuracy: 5.98%\n"
     ]
    },
    {
     "name": "stderr",
     "output_type": "stream",
     "text": [
      "                                                                     \r"
     ]
    },
    {
     "name": "stdout",
     "output_type": "stream",
     "text": [
      "Test Average Loss: 1.902322 | Test Sample Accuracy: 0.0000% | Test Pixel Accuracy: 8.44%\n"
     ]
    },
    {
     "name": "stderr",
     "output_type": "stream",
     "text": [
      "                                                                            \r"
     ]
    },
    {
     "name": "stdout",
     "output_type": "stream",
     "text": [
      "Epoch [210/1000] Complete | Average Loss: 1.912700 | Training Sample Accuracy: 0.0000% | Training Pixel Accuracy: 5.98%\n"
     ]
    },
    {
     "name": "stderr",
     "output_type": "stream",
     "text": [
      "                                                                     \r"
     ]
    },
    {
     "name": "stdout",
     "output_type": "stream",
     "text": [
      "Test Average Loss: 1.901281 | Test Sample Accuracy: 0.0000% | Test Pixel Accuracy: 8.44%\n"
     ]
    },
    {
     "name": "stderr",
     "output_type": "stream",
     "text": [
      "                                                                            \r"
     ]
    },
    {
     "name": "stdout",
     "output_type": "stream",
     "text": [
      "Epoch [211/1000] Complete | Average Loss: 1.896133 | Training Sample Accuracy: 0.0000% | Training Pixel Accuracy: 5.98%\n"
     ]
    },
    {
     "name": "stderr",
     "output_type": "stream",
     "text": [
      "                                                                     \r"
     ]
    },
    {
     "name": "stdout",
     "output_type": "stream",
     "text": [
      "Test Average Loss: 1.905252 | Test Sample Accuracy: 0.0000% | Test Pixel Accuracy: 8.44%\n"
     ]
    },
    {
     "name": "stderr",
     "output_type": "stream",
     "text": [
      "                                                                            \r"
     ]
    },
    {
     "name": "stdout",
     "output_type": "stream",
     "text": [
      "Epoch [212/1000] Complete | Average Loss: 1.892551 | Training Sample Accuracy: 0.0000% | Training Pixel Accuracy: 5.98%\n"
     ]
    },
    {
     "name": "stderr",
     "output_type": "stream",
     "text": [
      "                                                                     \r"
     ]
    },
    {
     "name": "stdout",
     "output_type": "stream",
     "text": [
      "Test Average Loss: 1.902339 | Test Sample Accuracy: 0.0000% | Test Pixel Accuracy: 8.44%\n"
     ]
    },
    {
     "name": "stderr",
     "output_type": "stream",
     "text": [
      "                                                                            \r"
     ]
    },
    {
     "name": "stdout",
     "output_type": "stream",
     "text": [
      "Epoch [213/1000] Complete | Average Loss: 1.882250 | Training Sample Accuracy: 0.0000% | Training Pixel Accuracy: 5.98%\n"
     ]
    },
    {
     "name": "stderr",
     "output_type": "stream",
     "text": [
      "                                                                     \r"
     ]
    },
    {
     "name": "stdout",
     "output_type": "stream",
     "text": [
      "Test Average Loss: 1.904066 | Test Sample Accuracy: 0.0000% | Test Pixel Accuracy: 8.44%\n"
     ]
    },
    {
     "name": "stderr",
     "output_type": "stream",
     "text": [
      "                                                                            \r"
     ]
    },
    {
     "name": "stdout",
     "output_type": "stream",
     "text": [
      "Epoch [214/1000] Complete | Average Loss: 1.887723 | Training Sample Accuracy: 0.0000% | Training Pixel Accuracy: 5.98%\n"
     ]
    },
    {
     "name": "stderr",
     "output_type": "stream",
     "text": [
      "                                                                     \r"
     ]
    },
    {
     "name": "stdout",
     "output_type": "stream",
     "text": [
      "Test Average Loss: 1.901559 | Test Sample Accuracy: 0.0000% | Test Pixel Accuracy: 8.44%\n"
     ]
    },
    {
     "name": "stderr",
     "output_type": "stream",
     "text": [
      "                                                                            \r"
     ]
    },
    {
     "name": "stdout",
     "output_type": "stream",
     "text": [
      "Epoch [215/1000] Complete | Average Loss: 1.892950 | Training Sample Accuracy: 0.0000% | Training Pixel Accuracy: 5.98%\n"
     ]
    },
    {
     "name": "stderr",
     "output_type": "stream",
     "text": [
      "                                                                     \r"
     ]
    },
    {
     "name": "stdout",
     "output_type": "stream",
     "text": [
      "Test Average Loss: 1.901767 | Test Sample Accuracy: 0.0000% | Test Pixel Accuracy: 8.44%\n"
     ]
    },
    {
     "name": "stderr",
     "output_type": "stream",
     "text": [
      "                                                                            \r"
     ]
    },
    {
     "name": "stdout",
     "output_type": "stream",
     "text": [
      "Epoch [216/1000] Complete | Average Loss: 1.863457 | Training Sample Accuracy: 0.0000% | Training Pixel Accuracy: 5.98%\n"
     ]
    },
    {
     "name": "stderr",
     "output_type": "stream",
     "text": [
      "                                                                     \r"
     ]
    },
    {
     "name": "stdout",
     "output_type": "stream",
     "text": [
      "Test Average Loss: 1.902751 | Test Sample Accuracy: 0.0000% | Test Pixel Accuracy: 8.44%\n"
     ]
    },
    {
     "name": "stderr",
     "output_type": "stream",
     "text": [
      "                                                                            \r"
     ]
    },
    {
     "name": "stdout",
     "output_type": "stream",
     "text": [
      "Epoch [217/1000] Complete | Average Loss: 1.882261 | Training Sample Accuracy: 0.0000% | Training Pixel Accuracy: 5.98%\n"
     ]
    },
    {
     "name": "stderr",
     "output_type": "stream",
     "text": [
      "                                                                     \r"
     ]
    },
    {
     "name": "stdout",
     "output_type": "stream",
     "text": [
      "Test Average Loss: 1.903548 | Test Sample Accuracy: 0.0000% | Test Pixel Accuracy: 8.44%\n"
     ]
    },
    {
     "name": "stderr",
     "output_type": "stream",
     "text": [
      "                                                                            \r"
     ]
    },
    {
     "name": "stdout",
     "output_type": "stream",
     "text": [
      "Epoch [218/1000] Complete | Average Loss: 1.889971 | Training Sample Accuracy: 0.0000% | Training Pixel Accuracy: 5.98%\n"
     ]
    },
    {
     "name": "stderr",
     "output_type": "stream",
     "text": [
      "                                                                     \r"
     ]
    },
    {
     "name": "stdout",
     "output_type": "stream",
     "text": [
      "Test Average Loss: 1.904472 | Test Sample Accuracy: 0.0000% | Test Pixel Accuracy: 8.44%\n"
     ]
    },
    {
     "name": "stderr",
     "output_type": "stream",
     "text": [
      "                                                                            \r"
     ]
    },
    {
     "name": "stdout",
     "output_type": "stream",
     "text": [
      "Epoch [219/1000] Complete | Average Loss: 1.892843 | Training Sample Accuracy: 0.0000% | Training Pixel Accuracy: 5.98%\n"
     ]
    },
    {
     "name": "stderr",
     "output_type": "stream",
     "text": [
      "                                                                     \r"
     ]
    },
    {
     "name": "stdout",
     "output_type": "stream",
     "text": [
      "Test Average Loss: 1.902618 | Test Sample Accuracy: 0.0000% | Test Pixel Accuracy: 8.44%\n"
     ]
    },
    {
     "name": "stderr",
     "output_type": "stream",
     "text": [
      "                                                                            \r"
     ]
    },
    {
     "name": "stdout",
     "output_type": "stream",
     "text": [
      "Epoch [220/1000] Complete | Average Loss: 1.895604 | Training Sample Accuracy: 0.0000% | Training Pixel Accuracy: 5.98%\n"
     ]
    },
    {
     "name": "stderr",
     "output_type": "stream",
     "text": [
      "                                                                     \r"
     ]
    },
    {
     "name": "stdout",
     "output_type": "stream",
     "text": [
      "Test Average Loss: 1.902767 | Test Sample Accuracy: 0.0000% | Test Pixel Accuracy: 8.44%\n"
     ]
    },
    {
     "name": "stderr",
     "output_type": "stream",
     "text": [
      "                                                                            \r"
     ]
    },
    {
     "name": "stdout",
     "output_type": "stream",
     "text": [
      "Epoch [221/1000] Complete | Average Loss: 1.881808 | Training Sample Accuracy: 0.0000% | Training Pixel Accuracy: 5.98%\n"
     ]
    },
    {
     "name": "stderr",
     "output_type": "stream",
     "text": [
      "                                                                     \r"
     ]
    },
    {
     "name": "stdout",
     "output_type": "stream",
     "text": [
      "Test Average Loss: 1.902023 | Test Sample Accuracy: 0.0000% | Test Pixel Accuracy: 8.44%\n"
     ]
    },
    {
     "name": "stderr",
     "output_type": "stream",
     "text": [
      "                                                                            \r"
     ]
    },
    {
     "name": "stdout",
     "output_type": "stream",
     "text": [
      "Epoch [222/1000] Complete | Average Loss: 1.890593 | Training Sample Accuracy: 0.0000% | Training Pixel Accuracy: 5.98%\n"
     ]
    },
    {
     "name": "stderr",
     "output_type": "stream",
     "text": [
      "                                                                     \r"
     ]
    },
    {
     "name": "stdout",
     "output_type": "stream",
     "text": [
      "Test Average Loss: 1.907038 | Test Sample Accuracy: 0.0000% | Test Pixel Accuracy: 8.44%\n"
     ]
    },
    {
     "name": "stderr",
     "output_type": "stream",
     "text": [
      "                                                                            \r"
     ]
    },
    {
     "name": "stdout",
     "output_type": "stream",
     "text": [
      "Epoch [223/1000] Complete | Average Loss: 1.895931 | Training Sample Accuracy: 0.0000% | Training Pixel Accuracy: 5.98%\n"
     ]
    },
    {
     "name": "stderr",
     "output_type": "stream",
     "text": [
      "                                                                     \r"
     ]
    },
    {
     "name": "stdout",
     "output_type": "stream",
     "text": [
      "Test Average Loss: 1.902965 | Test Sample Accuracy: 0.0000% | Test Pixel Accuracy: 8.44%\n"
     ]
    },
    {
     "name": "stderr",
     "output_type": "stream",
     "text": [
      "                                                                            \r"
     ]
    },
    {
     "name": "stdout",
     "output_type": "stream",
     "text": [
      "Epoch [224/1000] Complete | Average Loss: 1.903348 | Training Sample Accuracy: 0.0000% | Training Pixel Accuracy: 5.98%\n"
     ]
    },
    {
     "name": "stderr",
     "output_type": "stream",
     "text": [
      "                                                                     \r"
     ]
    },
    {
     "name": "stdout",
     "output_type": "stream",
     "text": [
      "Test Average Loss: 1.902954 | Test Sample Accuracy: 0.0000% | Test Pixel Accuracy: 8.44%\n"
     ]
    },
    {
     "name": "stderr",
     "output_type": "stream",
     "text": [
      "                                                                            \r"
     ]
    },
    {
     "name": "stdout",
     "output_type": "stream",
     "text": [
      "Epoch [225/1000] Complete | Average Loss: 1.887447 | Training Sample Accuracy: 0.0000% | Training Pixel Accuracy: 5.98%\n"
     ]
    },
    {
     "name": "stderr",
     "output_type": "stream",
     "text": [
      "                                                                     \r"
     ]
    },
    {
     "name": "stdout",
     "output_type": "stream",
     "text": [
      "Test Average Loss: 1.905400 | Test Sample Accuracy: 0.0000% | Test Pixel Accuracy: 8.44%\n"
     ]
    },
    {
     "name": "stderr",
     "output_type": "stream",
     "text": [
      "                                                                            \r"
     ]
    },
    {
     "name": "stdout",
     "output_type": "stream",
     "text": [
      "Epoch [226/1000] Complete | Average Loss: 1.892416 | Training Sample Accuracy: 0.0000% | Training Pixel Accuracy: 5.98%\n"
     ]
    },
    {
     "name": "stderr",
     "output_type": "stream",
     "text": [
      "                                                                     \r"
     ]
    },
    {
     "name": "stdout",
     "output_type": "stream",
     "text": [
      "Test Average Loss: 1.905787 | Test Sample Accuracy: 0.0000% | Test Pixel Accuracy: 8.44%\n"
     ]
    },
    {
     "name": "stderr",
     "output_type": "stream",
     "text": [
      "                                                                            \r"
     ]
    },
    {
     "name": "stdout",
     "output_type": "stream",
     "text": [
      "Epoch [227/1000] Complete | Average Loss: 1.883117 | Training Sample Accuracy: 0.0000% | Training Pixel Accuracy: 5.98%\n"
     ]
    },
    {
     "name": "stderr",
     "output_type": "stream",
     "text": [
      "                                                                     \r"
     ]
    },
    {
     "name": "stdout",
     "output_type": "stream",
     "text": [
      "Test Average Loss: 1.904408 | Test Sample Accuracy: 0.0000% | Test Pixel Accuracy: 8.44%\n"
     ]
    },
    {
     "name": "stderr",
     "output_type": "stream",
     "text": [
      "                                                                            \r"
     ]
    },
    {
     "name": "stdout",
     "output_type": "stream",
     "text": [
      "Epoch [228/1000] Complete | Average Loss: 1.882926 | Training Sample Accuracy: 0.0000% | Training Pixel Accuracy: 5.98%\n"
     ]
    },
    {
     "name": "stderr",
     "output_type": "stream",
     "text": [
      "                                                                     \r"
     ]
    },
    {
     "name": "stdout",
     "output_type": "stream",
     "text": [
      "Test Average Loss: 1.902939 | Test Sample Accuracy: 0.0000% | Test Pixel Accuracy: 8.44%\n"
     ]
    },
    {
     "name": "stderr",
     "output_type": "stream",
     "text": [
      "                                                                            \r"
     ]
    },
    {
     "name": "stdout",
     "output_type": "stream",
     "text": [
      "Epoch [229/1000] Complete | Average Loss: 1.888431 | Training Sample Accuracy: 0.0000% | Training Pixel Accuracy: 5.98%\n"
     ]
    },
    {
     "name": "stderr",
     "output_type": "stream",
     "text": [
      "                                                                     \r"
     ]
    },
    {
     "name": "stdout",
     "output_type": "stream",
     "text": [
      "Test Average Loss: 1.902620 | Test Sample Accuracy: 0.0000% | Test Pixel Accuracy: 8.44%\n"
     ]
    },
    {
     "name": "stderr",
     "output_type": "stream",
     "text": [
      "                                                                            \r"
     ]
    },
    {
     "name": "stdout",
     "output_type": "stream",
     "text": [
      "Epoch [230/1000] Complete | Average Loss: 1.887521 | Training Sample Accuracy: 0.0000% | Training Pixel Accuracy: 5.98%\n"
     ]
    },
    {
     "name": "stderr",
     "output_type": "stream",
     "text": [
      "                                                                     \r"
     ]
    },
    {
     "name": "stdout",
     "output_type": "stream",
     "text": [
      "Test Average Loss: 1.901807 | Test Sample Accuracy: 0.0000% | Test Pixel Accuracy: 8.44%\n"
     ]
    },
    {
     "name": "stderr",
     "output_type": "stream",
     "text": [
      "                                                                            \r"
     ]
    },
    {
     "name": "stdout",
     "output_type": "stream",
     "text": [
      "Epoch [231/1000] Complete | Average Loss: 1.895606 | Training Sample Accuracy: 0.0000% | Training Pixel Accuracy: 5.98%\n"
     ]
    },
    {
     "name": "stderr",
     "output_type": "stream",
     "text": [
      "                                                                     \r"
     ]
    },
    {
     "name": "stdout",
     "output_type": "stream",
     "text": [
      "Test Average Loss: 1.902535 | Test Sample Accuracy: 0.0000% | Test Pixel Accuracy: 8.44%\n"
     ]
    },
    {
     "name": "stderr",
     "output_type": "stream",
     "text": [
      "                                                                            \r"
     ]
    },
    {
     "name": "stdout",
     "output_type": "stream",
     "text": [
      "Epoch [232/1000] Complete | Average Loss: 1.891520 | Training Sample Accuracy: 0.0000% | Training Pixel Accuracy: 5.98%\n"
     ]
    },
    {
     "name": "stderr",
     "output_type": "stream",
     "text": [
      "                                                                     \r"
     ]
    },
    {
     "name": "stdout",
     "output_type": "stream",
     "text": [
      "Test Average Loss: 1.905296 | Test Sample Accuracy: 0.0000% | Test Pixel Accuracy: 8.44%\n"
     ]
    },
    {
     "name": "stderr",
     "output_type": "stream",
     "text": [
      "                                                                            \r"
     ]
    },
    {
     "name": "stdout",
     "output_type": "stream",
     "text": [
      "Epoch [233/1000] Complete | Average Loss: 1.890813 | Training Sample Accuracy: 0.0000% | Training Pixel Accuracy: 5.98%\n"
     ]
    },
    {
     "name": "stderr",
     "output_type": "stream",
     "text": [
      "                                                                     \r"
     ]
    },
    {
     "name": "stdout",
     "output_type": "stream",
     "text": [
      "Test Average Loss: 1.902115 | Test Sample Accuracy: 0.0000% | Test Pixel Accuracy: 8.44%\n"
     ]
    },
    {
     "name": "stderr",
     "output_type": "stream",
     "text": [
      "                                                                            \r"
     ]
    },
    {
     "name": "stdout",
     "output_type": "stream",
     "text": [
      "Epoch [234/1000] Complete | Average Loss: 1.891658 | Training Sample Accuracy: 0.0000% | Training Pixel Accuracy: 5.98%\n"
     ]
    },
    {
     "name": "stderr",
     "output_type": "stream",
     "text": [
      "                                                                     \r"
     ]
    },
    {
     "name": "stdout",
     "output_type": "stream",
     "text": [
      "Test Average Loss: 1.901318 | Test Sample Accuracy: 0.0000% | Test Pixel Accuracy: 8.44%\n"
     ]
    },
    {
     "name": "stderr",
     "output_type": "stream",
     "text": [
      "                                                                            \r"
     ]
    },
    {
     "name": "stdout",
     "output_type": "stream",
     "text": [
      "Epoch [235/1000] Complete | Average Loss: 1.893509 | Training Sample Accuracy: 0.0000% | Training Pixel Accuracy: 5.98%\n"
     ]
    },
    {
     "name": "stderr",
     "output_type": "stream",
     "text": [
      "                                                                     \r"
     ]
    },
    {
     "name": "stdout",
     "output_type": "stream",
     "text": [
      "Test Average Loss: 1.901545 | Test Sample Accuracy: 0.0000% | Test Pixel Accuracy: 8.44%\n"
     ]
    },
    {
     "name": "stderr",
     "output_type": "stream",
     "text": [
      "                                                                            \r"
     ]
    },
    {
     "name": "stdout",
     "output_type": "stream",
     "text": [
      "Epoch [236/1000] Complete | Average Loss: 1.886909 | Training Sample Accuracy: 0.0000% | Training Pixel Accuracy: 5.98%\n"
     ]
    },
    {
     "name": "stderr",
     "output_type": "stream",
     "text": [
      "                                                                     \r"
     ]
    },
    {
     "name": "stdout",
     "output_type": "stream",
     "text": [
      "Test Average Loss: 1.903453 | Test Sample Accuracy: 0.0000% | Test Pixel Accuracy: 8.44%\n"
     ]
    },
    {
     "name": "stderr",
     "output_type": "stream",
     "text": [
      "                                                                            \r"
     ]
    },
    {
     "name": "stdout",
     "output_type": "stream",
     "text": [
      "Epoch [237/1000] Complete | Average Loss: 1.880152 | Training Sample Accuracy: 0.0000% | Training Pixel Accuracy: 5.98%\n"
     ]
    },
    {
     "name": "stderr",
     "output_type": "stream",
     "text": [
      "                                                                     \r"
     ]
    },
    {
     "name": "stdout",
     "output_type": "stream",
     "text": [
      "Test Average Loss: 1.907995 | Test Sample Accuracy: 0.0000% | Test Pixel Accuracy: 8.44%\n"
     ]
    },
    {
     "name": "stderr",
     "output_type": "stream",
     "text": [
      "                                                                            \r"
     ]
    },
    {
     "name": "stdout",
     "output_type": "stream",
     "text": [
      "Epoch [238/1000] Complete | Average Loss: 1.894036 | Training Sample Accuracy: 0.0000% | Training Pixel Accuracy: 5.98%\n"
     ]
    },
    {
     "name": "stderr",
     "output_type": "stream",
     "text": [
      "                                                                     \r"
     ]
    },
    {
     "name": "stdout",
     "output_type": "stream",
     "text": [
      "Test Average Loss: 1.901627 | Test Sample Accuracy: 0.0000% | Test Pixel Accuracy: 8.44%\n"
     ]
    },
    {
     "name": "stderr",
     "output_type": "stream",
     "text": [
      "                                                                            \r"
     ]
    },
    {
     "name": "stdout",
     "output_type": "stream",
     "text": [
      "Epoch [239/1000] Complete | Average Loss: 1.878855 | Training Sample Accuracy: 0.0000% | Training Pixel Accuracy: 5.98%\n"
     ]
    },
    {
     "name": "stderr",
     "output_type": "stream",
     "text": [
      "                                                                     \r"
     ]
    },
    {
     "name": "stdout",
     "output_type": "stream",
     "text": [
      "Test Average Loss: 1.903777 | Test Sample Accuracy: 0.0000% | Test Pixel Accuracy: 8.44%\n"
     ]
    },
    {
     "name": "stderr",
     "output_type": "stream",
     "text": [
      "                                                                            \r"
     ]
    },
    {
     "name": "stdout",
     "output_type": "stream",
     "text": [
      "Epoch [240/1000] Complete | Average Loss: 1.910378 | Training Sample Accuracy: 0.0000% | Training Pixel Accuracy: 5.98%\n"
     ]
    },
    {
     "name": "stderr",
     "output_type": "stream",
     "text": [
      "                                                                     \r"
     ]
    },
    {
     "name": "stdout",
     "output_type": "stream",
     "text": [
      "Test Average Loss: 1.903278 | Test Sample Accuracy: 0.0000% | Test Pixel Accuracy: 8.44%\n"
     ]
    },
    {
     "name": "stderr",
     "output_type": "stream",
     "text": [
      "                                                                            \r"
     ]
    },
    {
     "name": "stdout",
     "output_type": "stream",
     "text": [
      "Epoch [241/1000] Complete | Average Loss: 1.883438 | Training Sample Accuracy: 0.0000% | Training Pixel Accuracy: 5.98%\n"
     ]
    },
    {
     "name": "stderr",
     "output_type": "stream",
     "text": [
      "                                                                     \r"
     ]
    },
    {
     "name": "stdout",
     "output_type": "stream",
     "text": [
      "Test Average Loss: 1.903042 | Test Sample Accuracy: 0.0000% | Test Pixel Accuracy: 8.44%\n"
     ]
    },
    {
     "name": "stderr",
     "output_type": "stream",
     "text": [
      "                                                                            \r"
     ]
    },
    {
     "name": "stdout",
     "output_type": "stream",
     "text": [
      "Epoch [242/1000] Complete | Average Loss: 1.895718 | Training Sample Accuracy: 0.0000% | Training Pixel Accuracy: 5.98%\n"
     ]
    },
    {
     "name": "stderr",
     "output_type": "stream",
     "text": [
      "                                                                     \r"
     ]
    },
    {
     "name": "stdout",
     "output_type": "stream",
     "text": [
      "Test Average Loss: 1.901786 | Test Sample Accuracy: 0.0000% | Test Pixel Accuracy: 8.44%\n"
     ]
    },
    {
     "name": "stderr",
     "output_type": "stream",
     "text": [
      "                                                                            \r"
     ]
    },
    {
     "name": "stdout",
     "output_type": "stream",
     "text": [
      "Epoch [243/1000] Complete | Average Loss: 1.894373 | Training Sample Accuracy: 0.0000% | Training Pixel Accuracy: 5.98%\n"
     ]
    },
    {
     "name": "stderr",
     "output_type": "stream",
     "text": [
      "                                                                     \r"
     ]
    },
    {
     "name": "stdout",
     "output_type": "stream",
     "text": [
      "Test Average Loss: 1.903234 | Test Sample Accuracy: 0.0000% | Test Pixel Accuracy: 8.44%\n"
     ]
    },
    {
     "name": "stderr",
     "output_type": "stream",
     "text": [
      "                                                                            \r"
     ]
    },
    {
     "name": "stdout",
     "output_type": "stream",
     "text": [
      "Epoch [244/1000] Complete | Average Loss: 1.883075 | Training Sample Accuracy: 0.0000% | Training Pixel Accuracy: 5.98%\n"
     ]
    },
    {
     "name": "stderr",
     "output_type": "stream",
     "text": [
      "                                                                     \r"
     ]
    },
    {
     "name": "stdout",
     "output_type": "stream",
     "text": [
      "Test Average Loss: 1.904125 | Test Sample Accuracy: 0.0000% | Test Pixel Accuracy: 8.44%\n"
     ]
    },
    {
     "name": "stderr",
     "output_type": "stream",
     "text": [
      "                                                                            \r"
     ]
    },
    {
     "name": "stdout",
     "output_type": "stream",
     "text": [
      "Epoch [245/1000] Complete | Average Loss: 1.882725 | Training Sample Accuracy: 0.0000% | Training Pixel Accuracy: 5.98%\n"
     ]
    },
    {
     "name": "stderr",
     "output_type": "stream",
     "text": [
      "                                                                     \r"
     ]
    },
    {
     "name": "stdout",
     "output_type": "stream",
     "text": [
      "Test Average Loss: 1.905151 | Test Sample Accuracy: 0.0000% | Test Pixel Accuracy: 8.44%\n"
     ]
    },
    {
     "name": "stderr",
     "output_type": "stream",
     "text": [
      "                                                                            \r"
     ]
    },
    {
     "name": "stdout",
     "output_type": "stream",
     "text": [
      "Epoch [246/1000] Complete | Average Loss: 1.894445 | Training Sample Accuracy: 0.0000% | Training Pixel Accuracy: 5.98%\n"
     ]
    },
    {
     "name": "stderr",
     "output_type": "stream",
     "text": [
      "                                                                     \r"
     ]
    },
    {
     "name": "stdout",
     "output_type": "stream",
     "text": [
      "Test Average Loss: 1.901231 | Test Sample Accuracy: 0.0000% | Test Pixel Accuracy: 8.44%\n"
     ]
    },
    {
     "name": "stderr",
     "output_type": "stream",
     "text": [
      "                                                                            \r"
     ]
    },
    {
     "name": "stdout",
     "output_type": "stream",
     "text": [
      "Epoch [247/1000] Complete | Average Loss: 1.887555 | Training Sample Accuracy: 0.0000% | Training Pixel Accuracy: 5.98%\n"
     ]
    },
    {
     "name": "stderr",
     "output_type": "stream",
     "text": [
      "                                                                     \r"
     ]
    },
    {
     "name": "stdout",
     "output_type": "stream",
     "text": [
      "Test Average Loss: 1.900872 | Test Sample Accuracy: 0.0000% | Test Pixel Accuracy: 8.44%\n"
     ]
    },
    {
     "name": "stderr",
     "output_type": "stream",
     "text": [
      "                                                                            \r"
     ]
    },
    {
     "name": "stdout",
     "output_type": "stream",
     "text": [
      "Epoch [248/1000] Complete | Average Loss: 1.883255 | Training Sample Accuracy: 0.0000% | Training Pixel Accuracy: 5.98%\n"
     ]
    },
    {
     "name": "stderr",
     "output_type": "stream",
     "text": [
      "                                                                     \r"
     ]
    },
    {
     "name": "stdout",
     "output_type": "stream",
     "text": [
      "Test Average Loss: 1.903590 | Test Sample Accuracy: 0.0000% | Test Pixel Accuracy: 8.44%\n"
     ]
    },
    {
     "name": "stderr",
     "output_type": "stream",
     "text": [
      "                                                                            \r"
     ]
    },
    {
     "name": "stdout",
     "output_type": "stream",
     "text": [
      "Epoch [249/1000] Complete | Average Loss: 1.879333 | Training Sample Accuracy: 0.0000% | Training Pixel Accuracy: 5.98%\n"
     ]
    },
    {
     "name": "stderr",
     "output_type": "stream",
     "text": [
      "                                                                     \r"
     ]
    },
    {
     "name": "stdout",
     "output_type": "stream",
     "text": [
      "Test Average Loss: 1.902483 | Test Sample Accuracy: 0.0000% | Test Pixel Accuracy: 8.44%\n"
     ]
    },
    {
     "name": "stderr",
     "output_type": "stream",
     "text": [
      "                                                                            \r"
     ]
    },
    {
     "name": "stdout",
     "output_type": "stream",
     "text": [
      "Epoch [250/1000] Complete | Average Loss: 1.891701 | Training Sample Accuracy: 0.0000% | Training Pixel Accuracy: 5.98%\n"
     ]
    },
    {
     "data": {
      "image/png": "[encoded data removed]",
      "text/plain": [
       "<Figure size 1200x1200 with 9 Axes>"
      ]
     },
     "metadata": {},
     "output_type": "display_data"
    },
    {
     "name": "stderr",
     "output_type": "stream",
     "text": [
      "                                                                     \r"
     ]
    },
    {
     "name": "stdout",
     "output_type": "stream",
     "text": [
      "Test Average Loss: 1.903409 | Test Sample Accuracy: 0.0000% | Test Pixel Accuracy: 8.44%\n"
     ]
    },
    {
     "data": {
      "image/png": "[encoded data removed]",
      "text/plain": [
       "<Figure size 1200x1200 with 9 Axes>"
      ]
     },
     "metadata": {},
     "output_type": "display_data"
    },
    {
     "name": "stderr",
     "output_type": "stream",
     "text": [
      "                                                                            \r"
     ]
    },
    {
     "name": "stdout",
     "output_type": "stream",
     "text": [
      "Epoch [251/1000] Complete | Average Loss: 1.889965 | Training Sample Accuracy: 0.0000% | Training Pixel Accuracy: 5.98%\n"
     ]
    },
    {
     "name": "stderr",
     "output_type": "stream",
     "text": [
      "                                                                     \r"
     ]
    },
    {
     "name": "stdout",
     "output_type": "stream",
     "text": [
      "Test Average Loss: 1.901566 | Test Sample Accuracy: 0.0000% | Test Pixel Accuracy: 8.44%\n"
     ]
    },
    {
     "name": "stderr",
     "output_type": "stream",
     "text": [
      "                                                                            \r"
     ]
    },
    {
     "name": "stdout",
     "output_type": "stream",
     "text": [
      "Epoch [252/1000] Complete | Average Loss: 1.894056 | Training Sample Accuracy: 0.0000% | Training Pixel Accuracy: 5.98%\n"
     ]
    },
    {
     "name": "stderr",
     "output_type": "stream",
     "text": [
      "                                                                     \r"
     ]
    },
    {
     "name": "stdout",
     "output_type": "stream",
     "text": [
      "Test Average Loss: 1.900421 | Test Sample Accuracy: 0.0000% | Test Pixel Accuracy: 8.44%\n"
     ]
    },
    {
     "name": "stderr",
     "output_type": "stream",
     "text": [
      "                                                                            \r"
     ]
    },
    {
     "name": "stdout",
     "output_type": "stream",
     "text": [
      "Epoch [253/1000] Complete | Average Loss: 1.886532 | Training Sample Accuracy: 0.0000% | Training Pixel Accuracy: 5.98%\n"
     ]
    },
    {
     "name": "stderr",
     "output_type": "stream",
     "text": [
      "                                                                     \r"
     ]
    },
    {
     "name": "stdout",
     "output_type": "stream",
     "text": [
      "Test Average Loss: 1.902162 | Test Sample Accuracy: 0.0000% | Test Pixel Accuracy: 8.44%\n"
     ]
    },
    {
     "name": "stderr",
     "output_type": "stream",
     "text": [
      "                                                                            \r"
     ]
    },
    {
     "name": "stdout",
     "output_type": "stream",
     "text": [
      "Epoch [254/1000] Complete | Average Loss: 1.892458 | Training Sample Accuracy: 0.0000% | Training Pixel Accuracy: 5.98%\n"
     ]
    },
    {
     "name": "stderr",
     "output_type": "stream",
     "text": [
      "                                                                     \r"
     ]
    },
    {
     "name": "stdout",
     "output_type": "stream",
     "text": [
      "Test Average Loss: 1.902364 | Test Sample Accuracy: 0.0000% | Test Pixel Accuracy: 8.44%\n"
     ]
    },
    {
     "name": "stderr",
     "output_type": "stream",
     "text": [
      "                                                                            \r"
     ]
    },
    {
     "name": "stdout",
     "output_type": "stream",
     "text": [
      "Epoch [255/1000] Complete | Average Loss: 1.898517 | Training Sample Accuracy: 0.0000% | Training Pixel Accuracy: 5.98%\n"
     ]
    },
    {
     "name": "stderr",
     "output_type": "stream",
     "text": [
      "                                                                     \r"
     ]
    },
    {
     "name": "stdout",
     "output_type": "stream",
     "text": [
      "Test Average Loss: 1.903224 | Test Sample Accuracy: 0.0000% | Test Pixel Accuracy: 8.44%\n"
     ]
    },
    {
     "name": "stderr",
     "output_type": "stream",
     "text": [
      "                                                                            \r"
     ]
    },
    {
     "name": "stdout",
     "output_type": "stream",
     "text": [
      "Epoch [256/1000] Complete | Average Loss: 1.886196 | Training Sample Accuracy: 0.0000% | Training Pixel Accuracy: 5.98%\n"
     ]
    },
    {
     "name": "stderr",
     "output_type": "stream",
     "text": [
      "                                                                     \r"
     ]
    },
    {
     "name": "stdout",
     "output_type": "stream",
     "text": [
      "Test Average Loss: 1.903910 | Test Sample Accuracy: 0.0000% | Test Pixel Accuracy: 8.44%\n"
     ]
    },
    {
     "name": "stderr",
     "output_type": "stream",
     "text": [
      "                                                                            \r"
     ]
    },
    {
     "name": "stdout",
     "output_type": "stream",
     "text": [
      "Epoch [257/1000] Complete | Average Loss: 1.889394 | Training Sample Accuracy: 0.0000% | Training Pixel Accuracy: 5.98%\n"
     ]
    },
    {
     "name": "stderr",
     "output_type": "stream",
     "text": [
      "                                                                     \r"
     ]
    },
    {
     "name": "stdout",
     "output_type": "stream",
     "text": [
      "Test Average Loss: 1.901120 | Test Sample Accuracy: 0.0000% | Test Pixel Accuracy: 8.44%\n"
     ]
    },
    {
     "name": "stderr",
     "output_type": "stream",
     "text": [
      "                                                                            \r"
     ]
    },
    {
     "name": "stdout",
     "output_type": "stream",
     "text": [
      "Epoch [258/1000] Complete | Average Loss: 1.893366 | Training Sample Accuracy: 0.0000% | Training Pixel Accuracy: 5.98%\n"
     ]
    },
    {
     "name": "stderr",
     "output_type": "stream",
     "text": [
      "                                                                     \r"
     ]
    },
    {
     "name": "stdout",
     "output_type": "stream",
     "text": [
      "Test Average Loss: 1.902821 | Test Sample Accuracy: 0.0000% | Test Pixel Accuracy: 8.44%\n"
     ]
    },
    {
     "name": "stderr",
     "output_type": "stream",
     "text": [
      "                                                                            \r"
     ]
    },
    {
     "name": "stdout",
     "output_type": "stream",
     "text": [
      "Epoch [259/1000] Complete | Average Loss: 1.887203 | Training Sample Accuracy: 0.0000% | Training Pixel Accuracy: 5.98%\n"
     ]
    },
    {
     "name": "stderr",
     "output_type": "stream",
     "text": [
      "                                                                     \r"
     ]
    },
    {
     "name": "stdout",
     "output_type": "stream",
     "text": [
      "Test Average Loss: 1.902583 | Test Sample Accuracy: 0.0000% | Test Pixel Accuracy: 8.44%\n"
     ]
    },
    {
     "name": "stderr",
     "output_type": "stream",
     "text": [
      "                                                                            \r"
     ]
    },
    {
     "name": "stdout",
     "output_type": "stream",
     "text": [
      "Epoch [260/1000] Complete | Average Loss: 1.893497 | Training Sample Accuracy: 0.0000% | Training Pixel Accuracy: 5.98%\n"
     ]
    },
    {
     "name": "stderr",
     "output_type": "stream",
     "text": [
      "                                                                     \r"
     ]
    },
    {
     "name": "stdout",
     "output_type": "stream",
     "text": [
      "Test Average Loss: 1.902841 | Test Sample Accuracy: 0.0000% | Test Pixel Accuracy: 8.44%\n"
     ]
    },
    {
     "name": "stderr",
     "output_type": "stream",
     "text": [
      "                                                                            \r"
     ]
    },
    {
     "name": "stdout",
     "output_type": "stream",
     "text": [
      "Epoch [261/1000] Complete | Average Loss: 1.877257 | Training Sample Accuracy: 0.0000% | Training Pixel Accuracy: 5.98%\n"
     ]
    },
    {
     "name": "stderr",
     "output_type": "stream",
     "text": [
      "                                                                     \r"
     ]
    },
    {
     "name": "stdout",
     "output_type": "stream",
     "text": [
      "Test Average Loss: 1.901042 | Test Sample Accuracy: 0.0000% | Test Pixel Accuracy: 8.44%\n"
     ]
    },
    {
     "name": "stderr",
     "output_type": "stream",
     "text": [
      "                                                                            \r"
     ]
    },
    {
     "name": "stdout",
     "output_type": "stream",
     "text": [
      "Epoch [262/1000] Complete | Average Loss: 1.906125 | Training Sample Accuracy: 0.0000% | Training Pixel Accuracy: 5.98%\n"
     ]
    },
    {
     "name": "stderr",
     "output_type": "stream",
     "text": [
      "                                                                     \r"
     ]
    },
    {
     "name": "stdout",
     "output_type": "stream",
     "text": [
      "Test Average Loss: 1.899964 | Test Sample Accuracy: 0.0000% | Test Pixel Accuracy: 8.44%\n"
     ]
    },
    {
     "name": "stderr",
     "output_type": "stream",
     "text": [
      "                                                                            \r"
     ]
    },
    {
     "name": "stdout",
     "output_type": "stream",
     "text": [
      "Epoch [263/1000] Complete | Average Loss: 1.874589 | Training Sample Accuracy: 0.0000% | Training Pixel Accuracy: 5.98%\n"
     ]
    },
    {
     "name": "stderr",
     "output_type": "stream",
     "text": [
      "                                                                     \r"
     ]
    },
    {
     "name": "stdout",
     "output_type": "stream",
     "text": [
      "Test Average Loss: 1.902817 | Test Sample Accuracy: 0.0000% | Test Pixel Accuracy: 8.44%\n"
     ]
    },
    {
     "name": "stderr",
     "output_type": "stream",
     "text": [
      "                                                                            \r"
     ]
    },
    {
     "name": "stdout",
     "output_type": "stream",
     "text": [
      "Epoch [264/1000] Complete | Average Loss: 1.887850 | Training Sample Accuracy: 0.0000% | Training Pixel Accuracy: 5.98%\n"
     ]
    },
    {
     "name": "stderr",
     "output_type": "stream",
     "text": [
      "                                                                     \r"
     ]
    },
    {
     "name": "stdout",
     "output_type": "stream",
     "text": [
      "Test Average Loss: 1.903824 | Test Sample Accuracy: 0.0000% | Test Pixel Accuracy: 8.44%\n"
     ]
    },
    {
     "name": "stderr",
     "output_type": "stream",
     "text": [
      "                                                                            \r"
     ]
    },
    {
     "name": "stdout",
     "output_type": "stream",
     "text": [
      "Epoch [265/1000] Complete | Average Loss: 1.884727 | Training Sample Accuracy: 0.0000% | Training Pixel Accuracy: 5.98%\n"
     ]
    },
    {
     "name": "stderr",
     "output_type": "stream",
     "text": [
      "                                                                     \r"
     ]
    },
    {
     "name": "stdout",
     "output_type": "stream",
     "text": [
      "Test Average Loss: 1.904763 | Test Sample Accuracy: 0.0000% | Test Pixel Accuracy: 8.44%\n"
     ]
    },
    {
     "name": "stderr",
     "output_type": "stream",
     "text": [
      "                                                                            \r"
     ]
    },
    {
     "name": "stdout",
     "output_type": "stream",
     "text": [
      "Epoch [266/1000] Complete | Average Loss: 1.901545 | Training Sample Accuracy: 0.0000% | Training Pixel Accuracy: 5.98%\n"
     ]
    },
    {
     "name": "stderr",
     "output_type": "stream",
     "text": [
      "                                                                     \r"
     ]
    },
    {
     "name": "stdout",
     "output_type": "stream",
     "text": [
      "Test Average Loss: 1.900967 | Test Sample Accuracy: 0.0000% | Test Pixel Accuracy: 8.44%\n"
     ]
    },
    {
     "name": "stderr",
     "output_type": "stream",
     "text": [
      "                                                                            \r"
     ]
    },
    {
     "name": "stdout",
     "output_type": "stream",
     "text": [
      "Epoch [267/1000] Complete | Average Loss: 1.883006 | Training Sample Accuracy: 0.0000% | Training Pixel Accuracy: 5.98%\n"
     ]
    },
    {
     "name": "stderr",
     "output_type": "stream",
     "text": [
      "                                                                     \r"
     ]
    },
    {
     "name": "stdout",
     "output_type": "stream",
     "text": [
      "Test Average Loss: 1.904250 | Test Sample Accuracy: 0.0000% | Test Pixel Accuracy: 8.44%\n"
     ]
    },
    {
     "name": "stderr",
     "output_type": "stream",
     "text": [
      "                                                                            \r"
     ]
    },
    {
     "name": "stdout",
     "output_type": "stream",
     "text": [
      "Epoch [268/1000] Complete | Average Loss: 1.893818 | Training Sample Accuracy: 0.0000% | Training Pixel Accuracy: 5.98%\n"
     ]
    },
    {
     "name": "stderr",
     "output_type": "stream",
     "text": [
      "                                                                     \r"
     ]
    },
    {
     "name": "stdout",
     "output_type": "stream",
     "text": [
      "Test Average Loss: 1.902305 | Test Sample Accuracy: 0.0000% | Test Pixel Accuracy: 8.44%\n"
     ]
    },
    {
     "name": "stderr",
     "output_type": "stream",
     "text": [
      "                                                                            \r"
     ]
    },
    {
     "name": "stdout",
     "output_type": "stream",
     "text": [
      "Epoch [269/1000] Complete | Average Loss: 1.889360 | Training Sample Accuracy: 0.0000% | Training Pixel Accuracy: 5.98%\n"
     ]
    },
    {
     "name": "stderr",
     "output_type": "stream",
     "text": [
      "                                                                     \r"
     ]
    },
    {
     "name": "stdout",
     "output_type": "stream",
     "text": [
      "Test Average Loss: 1.904260 | Test Sample Accuracy: 0.0000% | Test Pixel Accuracy: 8.44%\n"
     ]
    },
    {
     "name": "stderr",
     "output_type": "stream",
     "text": [
      "                                                                            \r"
     ]
    },
    {
     "name": "stdout",
     "output_type": "stream",
     "text": [
      "Epoch [270/1000] Complete | Average Loss: 1.895809 | Training Sample Accuracy: 0.0000% | Training Pixel Accuracy: 5.98%\n"
     ]
    },
    {
     "name": "stderr",
     "output_type": "stream",
     "text": [
      "                                                                     \r"
     ]
    },
    {
     "name": "stdout",
     "output_type": "stream",
     "text": [
      "Test Average Loss: 1.903532 | Test Sample Accuracy: 0.0000% | Test Pixel Accuracy: 8.44%\n"
     ]
    },
    {
     "name": "stderr",
     "output_type": "stream",
     "text": [
      "                                                                            \r"
     ]
    },
    {
     "name": "stdout",
     "output_type": "stream",
     "text": [
      "Epoch [271/1000] Complete | Average Loss: 1.893408 | Training Sample Accuracy: 0.0000% | Training Pixel Accuracy: 5.98%\n"
     ]
    },
    {
     "name": "stderr",
     "output_type": "stream",
     "text": [
      "                                                                     \r"
     ]
    },
    {
     "name": "stdout",
     "output_type": "stream",
     "text": [
      "Test Average Loss: 1.901958 | Test Sample Accuracy: 0.0000% | Test Pixel Accuracy: 8.44%\n"
     ]
    },
    {
     "name": "stderr",
     "output_type": "stream",
     "text": [
      "                                                                            \r"
     ]
    },
    {
     "name": "stdout",
     "output_type": "stream",
     "text": [
      "Epoch [272/1000] Complete | Average Loss: 1.885782 | Training Sample Accuracy: 0.0000% | Training Pixel Accuracy: 5.98%\n"
     ]
    },
    {
     "name": "stderr",
     "output_type": "stream",
     "text": [
      "                                                                     \r"
     ]
    },
    {
     "name": "stdout",
     "output_type": "stream",
     "text": [
      "Test Average Loss: 1.903518 | Test Sample Accuracy: 0.0000% | Test Pixel Accuracy: 8.44%\n"
     ]
    },
    {
     "name": "stderr",
     "output_type": "stream",
     "text": [
      "                                                                            \r"
     ]
    },
    {
     "name": "stdout",
     "output_type": "stream",
     "text": [
      "Epoch [273/1000] Complete | Average Loss: 1.876254 | Training Sample Accuracy: 0.0000% | Training Pixel Accuracy: 5.98%\n"
     ]
    },
    {
     "name": "stderr",
     "output_type": "stream",
     "text": [
      "                                                                     \r"
     ]
    },
    {
     "name": "stdout",
     "output_type": "stream",
     "text": [
      "Test Average Loss: 1.900421 | Test Sample Accuracy: 0.0000% | Test Pixel Accuracy: 8.44%\n"
     ]
    },
    {
     "name": "stderr",
     "output_type": "stream",
     "text": [
      "                                                                            \r"
     ]
    },
    {
     "name": "stdout",
     "output_type": "stream",
     "text": [
      "Epoch [274/1000] Complete | Average Loss: 1.871199 | Training Sample Accuracy: 0.0000% | Training Pixel Accuracy: 5.98%\n"
     ]
    },
    {
     "name": "stderr",
     "output_type": "stream",
     "text": [
      "                                                                     \r"
     ]
    },
    {
     "name": "stdout",
     "output_type": "stream",
     "text": [
      "Test Average Loss: 1.903133 | Test Sample Accuracy: 0.0000% | Test Pixel Accuracy: 8.44%\n"
     ]
    },
    {
     "name": "stderr",
     "output_type": "stream",
     "text": [
      "                                                                            \r"
     ]
    },
    {
     "name": "stdout",
     "output_type": "stream",
     "text": [
      "Epoch [275/1000] Complete | Average Loss: 1.895369 | Training Sample Accuracy: 0.0000% | Training Pixel Accuracy: 5.98%\n"
     ]
    },
    {
     "name": "stderr",
     "output_type": "stream",
     "text": [
      "                                                                     \r"
     ]
    },
    {
     "name": "stdout",
     "output_type": "stream",
     "text": [
      "Test Average Loss: 1.901018 | Test Sample Accuracy: 0.0000% | Test Pixel Accuracy: 8.44%\n"
     ]
    },
    {
     "name": "stderr",
     "output_type": "stream",
     "text": [
      "                                                                            \r"
     ]
    },
    {
     "name": "stdout",
     "output_type": "stream",
     "text": [
      "Epoch [276/1000] Complete | Average Loss: 1.894504 | Training Sample Accuracy: 0.0000% | Training Pixel Accuracy: 5.98%\n"
     ]
    },
    {
     "name": "stderr",
     "output_type": "stream",
     "text": [
      "                                                                     \r"
     ]
    },
    {
     "name": "stdout",
     "output_type": "stream",
     "text": [
      "Test Average Loss: 1.901902 | Test Sample Accuracy: 0.0000% | Test Pixel Accuracy: 8.44%\n"
     ]
    },
    {
     "name": "stderr",
     "output_type": "stream",
     "text": [
      "                                                                            \r"
     ]
    },
    {
     "name": "stdout",
     "output_type": "stream",
     "text": [
      "Epoch [277/1000] Complete | Average Loss: 1.895548 | Training Sample Accuracy: 0.0000% | Training Pixel Accuracy: 5.98%\n"
     ]
    },
    {
     "name": "stderr",
     "output_type": "stream",
     "text": [
      "                                                                     \r"
     ]
    },
    {
     "name": "stdout",
     "output_type": "stream",
     "text": [
      "Test Average Loss: 1.903604 | Test Sample Accuracy: 0.0000% | Test Pixel Accuracy: 8.44%\n"
     ]
    },
    {
     "name": "stderr",
     "output_type": "stream",
     "text": [
      "                                                                            \r"
     ]
    },
    {
     "name": "stdout",
     "output_type": "stream",
     "text": [
      "Epoch [278/1000] Complete | Average Loss: 1.902889 | Training Sample Accuracy: 0.0000% | Training Pixel Accuracy: 5.98%\n"
     ]
    },
    {
     "name": "stderr",
     "output_type": "stream",
     "text": [
      "                                                                     \r"
     ]
    },
    {
     "name": "stdout",
     "output_type": "stream",
     "text": [
      "Test Average Loss: 1.901998 | Test Sample Accuracy: 0.0000% | Test Pixel Accuracy: 8.44%\n"
     ]
    },
    {
     "name": "stderr",
     "output_type": "stream",
     "text": [
      "                                                                            \r"
     ]
    },
    {
     "name": "stdout",
     "output_type": "stream",
     "text": [
      "Epoch [279/1000] Complete | Average Loss: 1.875385 | Training Sample Accuracy: 0.0000% | Training Pixel Accuracy: 5.98%\n"
     ]
    },
    {
     "name": "stderr",
     "output_type": "stream",
     "text": [
      "                                                                     \r"
     ]
    },
    {
     "name": "stdout",
     "output_type": "stream",
     "text": [
      "Test Average Loss: 1.902241 | Test Sample Accuracy: 0.0000% | Test Pixel Accuracy: 8.44%\n"
     ]
    },
    {
     "name": "stderr",
     "output_type": "stream",
     "text": [
      "                                                                            \r"
     ]
    },
    {
     "name": "stdout",
     "output_type": "stream",
     "text": [
      "Epoch [280/1000] Complete | Average Loss: 1.894515 | Training Sample Accuracy: 0.0000% | Training Pixel Accuracy: 5.98%\n"
     ]
    },
    {
     "name": "stderr",
     "output_type": "stream",
     "text": [
      "                                                                     \r"
     ]
    },
    {
     "name": "stdout",
     "output_type": "stream",
     "text": [
      "Test Average Loss: 1.902339 | Test Sample Accuracy: 0.0000% | Test Pixel Accuracy: 8.44%\n"
     ]
    },
    {
     "name": "stderr",
     "output_type": "stream",
     "text": [
      "                                                                            \r"
     ]
    },
    {
     "name": "stdout",
     "output_type": "stream",
     "text": [
      "Epoch [281/1000] Complete | Average Loss: 1.885565 | Training Sample Accuracy: 0.0000% | Training Pixel Accuracy: 5.98%\n"
     ]
    },
    {
     "name": "stderr",
     "output_type": "stream",
     "text": [
      "                                                                     \r"
     ]
    },
    {
     "name": "stdout",
     "output_type": "stream",
     "text": [
      "Test Average Loss: 1.902438 | Test Sample Accuracy: 0.0000% | Test Pixel Accuracy: 8.44%\n"
     ]
    },
    {
     "name": "stderr",
     "output_type": "stream",
     "text": [
      "                                                                            \r"
     ]
    },
    {
     "name": "stdout",
     "output_type": "stream",
     "text": [
      "Epoch [282/1000] Complete | Average Loss: 1.884033 | Training Sample Accuracy: 0.0000% | Training Pixel Accuracy: 5.98%\n"
     ]
    },
    {
     "name": "stderr",
     "output_type": "stream",
     "text": [
      "                                                                     \r"
     ]
    },
    {
     "name": "stdout",
     "output_type": "stream",
     "text": [
      "Test Average Loss: 1.903768 | Test Sample Accuracy: 0.0000% | Test Pixel Accuracy: 8.44%\n"
     ]
    },
    {
     "name": "stderr",
     "output_type": "stream",
     "text": [
      "                                                                            \r"
     ]
    },
    {
     "name": "stdout",
     "output_type": "stream",
     "text": [
      "Epoch [283/1000] Complete | Average Loss: 1.887867 | Training Sample Accuracy: 0.0000% | Training Pixel Accuracy: 5.98%\n"
     ]
    },
    {
     "name": "stderr",
     "output_type": "stream",
     "text": [
      "                                                                     \r"
     ]
    },
    {
     "name": "stdout",
     "output_type": "stream",
     "text": [
      "Test Average Loss: 1.904334 | Test Sample Accuracy: 0.0000% | Test Pixel Accuracy: 8.44%\n"
     ]
    },
    {
     "name": "stderr",
     "output_type": "stream",
     "text": [
      "                                                                            \r"
     ]
    },
    {
     "name": "stdout",
     "output_type": "stream",
     "text": [
      "Epoch [284/1000] Complete | Average Loss: 1.897210 | Training Sample Accuracy: 0.0000% | Training Pixel Accuracy: 5.98%\n"
     ]
    },
    {
     "name": "stderr",
     "output_type": "stream",
     "text": [
      "                                                                     \r"
     ]
    },
    {
     "name": "stdout",
     "output_type": "stream",
     "text": [
      "Test Average Loss: 1.903376 | Test Sample Accuracy: 0.0000% | Test Pixel Accuracy: 8.44%\n"
     ]
    },
    {
     "name": "stderr",
     "output_type": "stream",
     "text": [
      "                                                                            \r"
     ]
    },
    {
     "name": "stdout",
     "output_type": "stream",
     "text": [
      "Epoch [285/1000] Complete | Average Loss: 1.900304 | Training Sample Accuracy: 0.0000% | Training Pixel Accuracy: 5.98%\n"
     ]
    },
    {
     "name": "stderr",
     "output_type": "stream",
     "text": [
      "                                                                     \r"
     ]
    },
    {
     "name": "stdout",
     "output_type": "stream",
     "text": [
      "Test Average Loss: 1.903015 | Test Sample Accuracy: 0.0000% | Test Pixel Accuracy: 8.44%\n"
     ]
    },
    {
     "name": "stderr",
     "output_type": "stream",
     "text": [
      "                                                                            \r"
     ]
    },
    {
     "name": "stdout",
     "output_type": "stream",
     "text": [
      "Epoch [286/1000] Complete | Average Loss: 1.882603 | Training Sample Accuracy: 0.0000% | Training Pixel Accuracy: 5.98%\n"
     ]
    },
    {
     "name": "stderr",
     "output_type": "stream",
     "text": [
      "                                                                     \r"
     ]
    },
    {
     "name": "stdout",
     "output_type": "stream",
     "text": [
      "Test Average Loss: 1.902476 | Test Sample Accuracy: 0.0000% | Test Pixel Accuracy: 8.44%\n"
     ]
    },
    {
     "name": "stderr",
     "output_type": "stream",
     "text": [
      "                                                                            \r"
     ]
    },
    {
     "name": "stdout",
     "output_type": "stream",
     "text": [
      "Epoch [287/1000] Complete | Average Loss: 1.881035 | Training Sample Accuracy: 0.0000% | Training Pixel Accuracy: 5.98%\n"
     ]
    },
    {
     "name": "stderr",
     "output_type": "stream",
     "text": [
      "                                                                     \r"
     ]
    },
    {
     "name": "stdout",
     "output_type": "stream",
     "text": [
      "Test Average Loss: 1.902887 | Test Sample Accuracy: 0.0000% | Test Pixel Accuracy: 8.44%\n"
     ]
    },
    {
     "name": "stderr",
     "output_type": "stream",
     "text": [
      "                                                                            \r"
     ]
    },
    {
     "name": "stdout",
     "output_type": "stream",
     "text": [
      "Epoch [288/1000] Complete | Average Loss: 1.896336 | Training Sample Accuracy: 0.0000% | Training Pixel Accuracy: 5.98%\n"
     ]
    },
    {
     "name": "stderr",
     "output_type": "stream",
     "text": [
      "                                                                     \r"
     ]
    },
    {
     "name": "stdout",
     "output_type": "stream",
     "text": [
      "Test Average Loss: 1.902355 | Test Sample Accuracy: 0.0000% | Test Pixel Accuracy: 8.44%\n"
     ]
    },
    {
     "name": "stderr",
     "output_type": "stream",
     "text": [
      "                                                                            \r"
     ]
    },
    {
     "name": "stdout",
     "output_type": "stream",
     "text": [
      "Epoch [289/1000] Complete | Average Loss: 1.880788 | Training Sample Accuracy: 0.0000% | Training Pixel Accuracy: 5.98%\n"
     ]
    },
    {
     "name": "stderr",
     "output_type": "stream",
     "text": [
      "                                                                     \r"
     ]
    },
    {
     "name": "stdout",
     "output_type": "stream",
     "text": [
      "Test Average Loss: 1.904302 | Test Sample Accuracy: 0.0000% | Test Pixel Accuracy: 8.44%\n"
     ]
    },
    {
     "name": "stderr",
     "output_type": "stream",
     "text": [
      "                                                                            \r"
     ]
    },
    {
     "name": "stdout",
     "output_type": "stream",
     "text": [
      "Epoch [290/1000] Complete | Average Loss: 1.898114 | Training Sample Accuracy: 0.0000% | Training Pixel Accuracy: 5.98%\n"
     ]
    },
    {
     "name": "stderr",
     "output_type": "stream",
     "text": [
      "                                                                     \r"
     ]
    },
    {
     "name": "stdout",
     "output_type": "stream",
     "text": [
      "Test Average Loss: 1.902389 | Test Sample Accuracy: 0.0000% | Test Pixel Accuracy: 8.44%\n"
     ]
    },
    {
     "name": "stderr",
     "output_type": "stream",
     "text": [
      "                                                                            \r"
     ]
    },
    {
     "name": "stdout",
     "output_type": "stream",
     "text": [
      "Epoch [291/1000] Complete | Average Loss: 1.887232 | Training Sample Accuracy: 0.0000% | Training Pixel Accuracy: 5.98%\n"
     ]
    },
    {
     "name": "stderr",
     "output_type": "stream",
     "text": [
      "                                                                     \r"
     ]
    },
    {
     "name": "stdout",
     "output_type": "stream",
     "text": [
      "Test Average Loss: 1.905148 | Test Sample Accuracy: 0.0000% | Test Pixel Accuracy: 8.44%\n"
     ]
    },
    {
     "name": "stderr",
     "output_type": "stream",
     "text": [
      "                                                                            \r"
     ]
    },
    {
     "name": "stdout",
     "output_type": "stream",
     "text": [
      "Epoch [292/1000] Complete | Average Loss: 1.880981 | Training Sample Accuracy: 0.0000% | Training Pixel Accuracy: 5.98%\n"
     ]
    },
    {
     "name": "stderr",
     "output_type": "stream",
     "text": [
      "                                                                     \r"
     ]
    },
    {
     "name": "stdout",
     "output_type": "stream",
     "text": [
      "Test Average Loss: 1.905474 | Test Sample Accuracy: 0.0000% | Test Pixel Accuracy: 8.44%\n"
     ]
    },
    {
     "name": "stderr",
     "output_type": "stream",
     "text": [
      "                                                                            \r"
     ]
    },
    {
     "name": "stdout",
     "output_type": "stream",
     "text": [
      "Epoch [293/1000] Complete | Average Loss: 1.902029 | Training Sample Accuracy: 0.0000% | Training Pixel Accuracy: 5.98%\n"
     ]
    },
    {
     "name": "stderr",
     "output_type": "stream",
     "text": [
      "                                                                     \r"
     ]
    },
    {
     "name": "stdout",
     "output_type": "stream",
     "text": [
      "Test Average Loss: 1.904960 | Test Sample Accuracy: 0.0000% | Test Pixel Accuracy: 8.44%\n"
     ]
    },
    {
     "name": "stderr",
     "output_type": "stream",
     "text": [
      "                                                                            \r"
     ]
    },
    {
     "name": "stdout",
     "output_type": "stream",
     "text": [
      "Epoch [294/1000] Complete | Average Loss: 1.890253 | Training Sample Accuracy: 0.0000% | Training Pixel Accuracy: 5.98%\n"
     ]
    },
    {
     "name": "stderr",
     "output_type": "stream",
     "text": [
      "                                                                     \r"
     ]
    },
    {
     "name": "stdout",
     "output_type": "stream",
     "text": [
      "Test Average Loss: 1.901538 | Test Sample Accuracy: 0.0000% | Test Pixel Accuracy: 8.44%\n"
     ]
    },
    {
     "name": "stderr",
     "output_type": "stream",
     "text": [
      "                                                                            \r"
     ]
    },
    {
     "name": "stdout",
     "output_type": "stream",
     "text": [
      "Epoch [295/1000] Complete | Average Loss: 1.876677 | Training Sample Accuracy: 0.0000% | Training Pixel Accuracy: 5.98%\n"
     ]
    },
    {
     "name": "stderr",
     "output_type": "stream",
     "text": [
      "                                                                     \r"
     ]
    },
    {
     "name": "stdout",
     "output_type": "stream",
     "text": [
      "Test Average Loss: 1.903817 | Test Sample Accuracy: 0.0000% | Test Pixel Accuracy: 8.44%\n"
     ]
    },
    {
     "name": "stderr",
     "output_type": "stream",
     "text": [
      "                                                                            \r"
     ]
    },
    {
     "name": "stdout",
     "output_type": "stream",
     "text": [
      "Epoch [296/1000] Complete | Average Loss: 1.887893 | Training Sample Accuracy: 0.0000% | Training Pixel Accuracy: 5.98%\n"
     ]
    },
    {
     "name": "stderr",
     "output_type": "stream",
     "text": [
      "                                                                     \r"
     ]
    },
    {
     "name": "stdout",
     "output_type": "stream",
     "text": [
      "Test Average Loss: 1.901999 | Test Sample Accuracy: 0.0000% | Test Pixel Accuracy: 8.44%\n"
     ]
    },
    {
     "name": "stderr",
     "output_type": "stream",
     "text": [
      "                                                                            \r"
     ]
    },
    {
     "name": "stdout",
     "output_type": "stream",
     "text": [
      "Epoch [297/1000] Complete | Average Loss: 1.893128 | Training Sample Accuracy: 0.0000% | Training Pixel Accuracy: 5.98%\n"
     ]
    },
    {
     "name": "stderr",
     "output_type": "stream",
     "text": [
      "                                                                     \r"
     ]
    },
    {
     "name": "stdout",
     "output_type": "stream",
     "text": [
      "Test Average Loss: 1.902973 | Test Sample Accuracy: 0.0000% | Test Pixel Accuracy: 8.44%\n"
     ]
    },
    {
     "name": "stderr",
     "output_type": "stream",
     "text": [
      "                                                                            \r"
     ]
    },
    {
     "name": "stdout",
     "output_type": "stream",
     "text": [
      "Epoch [298/1000] Complete | Average Loss: 1.905734 | Training Sample Accuracy: 0.0000% | Training Pixel Accuracy: 5.98%\n"
     ]
    },
    {
     "name": "stderr",
     "output_type": "stream",
     "text": [
      "                                                                     \r"
     ]
    },
    {
     "name": "stdout",
     "output_type": "stream",
     "text": [
      "Test Average Loss: 1.904776 | Test Sample Accuracy: 0.0000% | Test Pixel Accuracy: 8.44%\n"
     ]
    },
    {
     "name": "stderr",
     "output_type": "stream",
     "text": [
      "                                                                            \r"
     ]
    },
    {
     "name": "stdout",
     "output_type": "stream",
     "text": [
      "Epoch [299/1000] Complete | Average Loss: 1.885148 | Training Sample Accuracy: 0.0000% | Training Pixel Accuracy: 5.98%\n"
     ]
    },
    {
     "name": "stderr",
     "output_type": "stream",
     "text": [
      "                                                                     \r"
     ]
    },
    {
     "name": "stdout",
     "output_type": "stream",
     "text": [
      "Test Average Loss: 1.903936 | Test Sample Accuracy: 0.0000% | Test Pixel Accuracy: 8.44%\n"
     ]
    },
    {
     "name": "stderr",
     "output_type": "stream",
     "text": [
      "                                                                            \r"
     ]
    },
    {
     "name": "stdout",
     "output_type": "stream",
     "text": [
      "Epoch [300/1000] Complete | Average Loss: 1.896388 | Training Sample Accuracy: 0.0000% | Training Pixel Accuracy: 5.98%\n"
     ]
    },
    {
     "data": {
      "image/png": "[encoded data removed]",
      "text/plain": [
       "<Figure size 1200x1200 with 9 Axes>"
      ]
     },
     "metadata": {},
     "output_type": "display_data"
    },
    {
     "name": "stderr",
     "output_type": "stream",
     "text": [
      "                                                                     \r"
     ]
    },
    {
     "name": "stdout",
     "output_type": "stream",
     "text": [
      "Test Average Loss: 1.901469 | Test Sample Accuracy: 0.0000% | Test Pixel Accuracy: 8.44%\n"
     ]
    },
    {
     "data": {
      "image/png": "[encoded data removed]",
      "text/plain": [
       "<Figure size 1200x1200 with 9 Axes>"
      ]
     },
     "metadata": {},
     "output_type": "display_data"
    },
    {
     "name": "stderr",
     "output_type": "stream",
     "text": [
      "                                                                            \r"
     ]
    },
    {
     "name": "stdout",
     "output_type": "stream",
     "text": [
      "Epoch [301/1000] Complete | Average Loss: 1.894002 | Training Sample Accuracy: 0.0000% | Training Pixel Accuracy: 5.98%\n"
     ]
    },
    {
     "name": "stderr",
     "output_type": "stream",
     "text": [
      "                                                                     \r"
     ]
    },
    {
     "name": "stdout",
     "output_type": "stream",
     "text": [
      "Test Average Loss: 1.902099 | Test Sample Accuracy: 0.0000% | Test Pixel Accuracy: 8.44%\n"
     ]
    },
    {
     "name": "stderr",
     "output_type": "stream",
     "text": [
      "                                                                            \r"
     ]
    },
    {
     "name": "stdout",
     "output_type": "stream",
     "text": [
      "Epoch [302/1000] Complete | Average Loss: 1.893396 | Training Sample Accuracy: 0.0000% | Training Pixel Accuracy: 5.98%\n"
     ]
    },
    {
     "name": "stderr",
     "output_type": "stream",
     "text": [
      "                                                                     \r"
     ]
    },
    {
     "name": "stdout",
     "output_type": "stream",
     "text": [
      "Test Average Loss: 1.902602 | Test Sample Accuracy: 0.0000% | Test Pixel Accuracy: 8.44%\n"
     ]
    },
    {
     "name": "stderr",
     "output_type": "stream",
     "text": [
      "                                                                            \r"
     ]
    },
    {
     "name": "stdout",
     "output_type": "stream",
     "text": [
      "Epoch [303/1000] Complete | Average Loss: 1.892524 | Training Sample Accuracy: 0.0000% | Training Pixel Accuracy: 5.98%\n"
     ]
    },
    {
     "name": "stderr",
     "output_type": "stream",
     "text": [
      "                                                                     \r"
     ]
    },
    {
     "name": "stdout",
     "output_type": "stream",
     "text": [
      "Test Average Loss: 1.903562 | Test Sample Accuracy: 0.0000% | Test Pixel Accuracy: 8.44%\n"
     ]
    },
    {
     "name": "stderr",
     "output_type": "stream",
     "text": [
      "                                                                            \r"
     ]
    },
    {
     "name": "stdout",
     "output_type": "stream",
     "text": [
      "Epoch [304/1000] Complete | Average Loss: 1.889046 | Training Sample Accuracy: 0.0000% | Training Pixel Accuracy: 5.98%\n"
     ]
    },
    {
     "name": "stderr",
     "output_type": "stream",
     "text": [
      "                                                                     \r"
     ]
    },
    {
     "name": "stdout",
     "output_type": "stream",
     "text": [
      "Test Average Loss: 1.903756 | Test Sample Accuracy: 0.0000% | Test Pixel Accuracy: 8.44%\n"
     ]
    },
    {
     "name": "stderr",
     "output_type": "stream",
     "text": [
      "                                                                            \r"
     ]
    },
    {
     "name": "stdout",
     "output_type": "stream",
     "text": [
      "Epoch [305/1000] Complete | Average Loss: 1.895856 | Training Sample Accuracy: 0.0000% | Training Pixel Accuracy: 5.98%\n"
     ]
    },
    {
     "name": "stderr",
     "output_type": "stream",
     "text": [
      "                                                                     \r"
     ]
    },
    {
     "name": "stdout",
     "output_type": "stream",
     "text": [
      "Test Average Loss: 1.903319 | Test Sample Accuracy: 0.0000% | Test Pixel Accuracy: 8.44%\n"
     ]
    },
    {
     "name": "stderr",
     "output_type": "stream",
     "text": [
      "                                                                            \r"
     ]
    },
    {
     "name": "stdout",
     "output_type": "stream",
     "text": [
      "Epoch [306/1000] Complete | Average Loss: 1.882077 | Training Sample Accuracy: 0.0000% | Training Pixel Accuracy: 5.98%\n"
     ]
    },
    {
     "name": "stderr",
     "output_type": "stream",
     "text": [
      "                                                                     \r"
     ]
    },
    {
     "name": "stdout",
     "output_type": "stream",
     "text": [
      "Test Average Loss: 1.901320 | Test Sample Accuracy: 0.0000% | Test Pixel Accuracy: 8.44%\n"
     ]
    },
    {
     "name": "stderr",
     "output_type": "stream",
     "text": [
      "                                                                            \r"
     ]
    },
    {
     "name": "stdout",
     "output_type": "stream",
     "text": [
      "Epoch [307/1000] Complete | Average Loss: 1.897694 | Training Sample Accuracy: 0.0000% | Training Pixel Accuracy: 5.98%\n"
     ]
    },
    {
     "name": "stderr",
     "output_type": "stream",
     "text": [
      "                                                                     \r"
     ]
    },
    {
     "name": "stdout",
     "output_type": "stream",
     "text": [
      "Test Average Loss: 1.901892 | Test Sample Accuracy: 0.0000% | Test Pixel Accuracy: 8.44%\n"
     ]
    },
    {
     "name": "stderr",
     "output_type": "stream",
     "text": [
      "                                                                            \r"
     ]
    },
    {
     "name": "stdout",
     "output_type": "stream",
     "text": [
      "Epoch [308/1000] Complete | Average Loss: 1.894866 | Training Sample Accuracy: 0.0000% | Training Pixel Accuracy: 5.98%\n"
     ]
    },
    {
     "name": "stderr",
     "output_type": "stream",
     "text": [
      "                                                                     \r"
     ]
    },
    {
     "name": "stdout",
     "output_type": "stream",
     "text": [
      "Test Average Loss: 1.902520 | Test Sample Accuracy: 0.0000% | Test Pixel Accuracy: 8.44%\n"
     ]
    },
    {
     "name": "stderr",
     "output_type": "stream",
     "text": [
      "                                                                            \r"
     ]
    },
    {
     "name": "stdout",
     "output_type": "stream",
     "text": [
      "Epoch [309/1000] Complete | Average Loss: 1.879811 | Training Sample Accuracy: 0.0000% | Training Pixel Accuracy: 5.98%\n"
     ]
    },
    {
     "name": "stderr",
     "output_type": "stream",
     "text": [
      "                                                                     \r"
     ]
    },
    {
     "name": "stdout",
     "output_type": "stream",
     "text": [
      "Test Average Loss: 1.903054 | Test Sample Accuracy: 0.0000% | Test Pixel Accuracy: 8.44%\n"
     ]
    },
    {
     "name": "stderr",
     "output_type": "stream",
     "text": [
      "                                                                            \r"
     ]
    },
    {
     "name": "stdout",
     "output_type": "stream",
     "text": [
      "Epoch [310/1000] Complete | Average Loss: 1.875574 | Training Sample Accuracy: 0.0000% | Training Pixel Accuracy: 5.98%\n"
     ]
    },
    {
     "name": "stderr",
     "output_type": "stream",
     "text": [
      "                                                                     \r"
     ]
    },
    {
     "name": "stdout",
     "output_type": "stream",
     "text": [
      "Test Average Loss: 1.906035 | Test Sample Accuracy: 0.0000% | Test Pixel Accuracy: 8.44%\n"
     ]
    },
    {
     "name": "stderr",
     "output_type": "stream",
     "text": [
      "                                                                            \r"
     ]
    },
    {
     "name": "stdout",
     "output_type": "stream",
     "text": [
      "Epoch [311/1000] Complete | Average Loss: 1.900826 | Training Sample Accuracy: 0.0000% | Training Pixel Accuracy: 5.98%\n"
     ]
    },
    {
     "name": "stderr",
     "output_type": "stream",
     "text": [
      "                                                                     \r"
     ]
    },
    {
     "name": "stdout",
     "output_type": "stream",
     "text": [
      "Test Average Loss: 1.904011 | Test Sample Accuracy: 0.0000% | Test Pixel Accuracy: 8.44%\n"
     ]
    },
    {
     "name": "stderr",
     "output_type": "stream",
     "text": [
      "                                                                            \r"
     ]
    },
    {
     "name": "stdout",
     "output_type": "stream",
     "text": [
      "Epoch [312/1000] Complete | Average Loss: 1.910284 | Training Sample Accuracy: 0.0000% | Training Pixel Accuracy: 5.98%\n"
     ]
    },
    {
     "name": "stderr",
     "output_type": "stream",
     "text": [
      "                                                                     \r"
     ]
    },
    {
     "name": "stdout",
     "output_type": "stream",
     "text": [
      "Test Average Loss: 1.904624 | Test Sample Accuracy: 0.0000% | Test Pixel Accuracy: 8.44%\n"
     ]
    },
    {
     "name": "stderr",
     "output_type": "stream",
     "text": [
      "                                                                            \r"
     ]
    },
    {
     "name": "stdout",
     "output_type": "stream",
     "text": [
      "Epoch [313/1000] Complete | Average Loss: 1.891215 | Training Sample Accuracy: 0.0000% | Training Pixel Accuracy: 5.98%\n"
     ]
    },
    {
     "name": "stderr",
     "output_type": "stream",
     "text": [
      "                                                                     \r"
     ]
    },
    {
     "name": "stdout",
     "output_type": "stream",
     "text": [
      "Test Average Loss: 1.903229 | Test Sample Accuracy: 0.0000% | Test Pixel Accuracy: 8.44%\n"
     ]
    },
    {
     "name": "stderr",
     "output_type": "stream",
     "text": [
      "                                                                            \r"
     ]
    },
    {
     "name": "stdout",
     "output_type": "stream",
     "text": [
      "Epoch [314/1000] Complete | Average Loss: 1.889213 | Training Sample Accuracy: 0.0000% | Training Pixel Accuracy: 5.98%\n"
     ]
    },
    {
     "name": "stderr",
     "output_type": "stream",
     "text": [
      "                                                                     \r"
     ]
    },
    {
     "name": "stdout",
     "output_type": "stream",
     "text": [
      "Test Average Loss: 1.904796 | Test Sample Accuracy: 0.0000% | Test Pixel Accuracy: 8.44%\n"
     ]
    },
    {
     "name": "stderr",
     "output_type": "stream",
     "text": [
      "                                                                            \r"
     ]
    },
    {
     "name": "stdout",
     "output_type": "stream",
     "text": [
      "Epoch [315/1000] Complete | Average Loss: 1.877911 | Training Sample Accuracy: 0.0000% | Training Pixel Accuracy: 5.98%\n"
     ]
    },
    {
     "name": "stderr",
     "output_type": "stream",
     "text": [
      "                                                                     \r"
     ]
    },
    {
     "name": "stdout",
     "output_type": "stream",
     "text": [
      "Test Average Loss: 1.906043 | Test Sample Accuracy: 0.0000% | Test Pixel Accuracy: 8.44%\n"
     ]
    },
    {
     "name": "stderr",
     "output_type": "stream",
     "text": [
      "                                                                            \r"
     ]
    },
    {
     "name": "stdout",
     "output_type": "stream",
     "text": [
      "Epoch [316/1000] Complete | Average Loss: 1.877946 | Training Sample Accuracy: 0.0000% | Training Pixel Accuracy: 5.98%\n"
     ]
    },
    {
     "name": "stderr",
     "output_type": "stream",
     "text": [
      "                                                                     \r"
     ]
    },
    {
     "name": "stdout",
     "output_type": "stream",
     "text": [
      "Test Average Loss: 1.903471 | Test Sample Accuracy: 0.0000% | Test Pixel Accuracy: 8.44%\n"
     ]
    },
    {
     "name": "stderr",
     "output_type": "stream",
     "text": [
      "                                                                            \r"
     ]
    },
    {
     "name": "stdout",
     "output_type": "stream",
     "text": [
      "Epoch [317/1000] Complete | Average Loss: 1.890638 | Training Sample Accuracy: 0.0000% | Training Pixel Accuracy: 5.98%\n"
     ]
    },
    {
     "name": "stderr",
     "output_type": "stream",
     "text": [
      "                                                                     \r"
     ]
    },
    {
     "name": "stdout",
     "output_type": "stream",
     "text": [
      "Test Average Loss: 1.899609 | Test Sample Accuracy: 0.0000% | Test Pixel Accuracy: 8.44%\n"
     ]
    },
    {
     "name": "stderr",
     "output_type": "stream",
     "text": [
      "                                                                            \r"
     ]
    },
    {
     "name": "stdout",
     "output_type": "stream",
     "text": [
      "Epoch [318/1000] Complete | Average Loss: 1.900959 | Training Sample Accuracy: 0.0000% | Training Pixel Accuracy: 5.98%\n"
     ]
    },
    {
     "name": "stderr",
     "output_type": "stream",
     "text": [
      "                                                                     \r"
     ]
    },
    {
     "name": "stdout",
     "output_type": "stream",
     "text": [
      "Test Average Loss: 1.901524 | Test Sample Accuracy: 0.0000% | Test Pixel Accuracy: 8.44%\n"
     ]
    },
    {
     "name": "stderr",
     "output_type": "stream",
     "text": [
      "                                                                            \r"
     ]
    },
    {
     "name": "stdout",
     "output_type": "stream",
     "text": [
      "Epoch [319/1000] Complete | Average Loss: 1.894829 | Training Sample Accuracy: 0.0000% | Training Pixel Accuracy: 5.98%\n"
     ]
    },
    {
     "name": "stderr",
     "output_type": "stream",
     "text": [
      "                                                                     \r"
     ]
    },
    {
     "name": "stdout",
     "output_type": "stream",
     "text": [
      "Test Average Loss: 1.902009 | Test Sample Accuracy: 0.0000% | Test Pixel Accuracy: 8.44%\n"
     ]
    },
    {
     "name": "stderr",
     "output_type": "stream",
     "text": [
      "                                                                            \r"
     ]
    },
    {
     "name": "stdout",
     "output_type": "stream",
     "text": [
      "Epoch [320/1000] Complete | Average Loss: 1.877763 | Training Sample Accuracy: 0.0000% | Training Pixel Accuracy: 5.98%\n"
     ]
    },
    {
     "name": "stderr",
     "output_type": "stream",
     "text": [
      "                                                                     \r"
     ]
    },
    {
     "name": "stdout",
     "output_type": "stream",
     "text": [
      "Test Average Loss: 1.901649 | Test Sample Accuracy: 0.0000% | Test Pixel Accuracy: 8.44%\n"
     ]
    },
    {
     "name": "stderr",
     "output_type": "stream",
     "text": [
      "                                                                            \r"
     ]
    },
    {
     "name": "stdout",
     "output_type": "stream",
     "text": [
      "Epoch [321/1000] Complete | Average Loss: 1.884511 | Training Sample Accuracy: 0.0000% | Training Pixel Accuracy: 5.98%\n"
     ]
    },
    {
     "name": "stderr",
     "output_type": "stream",
     "text": [
      "                                                                     \r"
     ]
    },
    {
     "name": "stdout",
     "output_type": "stream",
     "text": [
      "Test Average Loss: 1.902336 | Test Sample Accuracy: 0.0000% | Test Pixel Accuracy: 8.44%\n"
     ]
    },
    {
     "name": "stderr",
     "output_type": "stream",
     "text": [
      "                                                                            \r"
     ]
    },
    {
     "name": "stdout",
     "output_type": "stream",
     "text": [
      "Epoch [322/1000] Complete | Average Loss: 1.898303 | Training Sample Accuracy: 0.0000% | Training Pixel Accuracy: 5.98%\n"
     ]
    },
    {
     "name": "stderr",
     "output_type": "stream",
     "text": [
      "                                                                     \r"
     ]
    },
    {
     "name": "stdout",
     "output_type": "stream",
     "text": [
      "Test Average Loss: 1.901755 | Test Sample Accuracy: 0.0000% | Test Pixel Accuracy: 8.44%\n"
     ]
    },
    {
     "name": "stderr",
     "output_type": "stream",
     "text": [
      "                                                                            \r"
     ]
    },
    {
     "name": "stdout",
     "output_type": "stream",
     "text": [
      "Epoch [323/1000] Complete | Average Loss: 1.877636 | Training Sample Accuracy: 0.0000% | Training Pixel Accuracy: 5.98%\n"
     ]
    },
    {
     "name": "stderr",
     "output_type": "stream",
     "text": [
      "                                                                     \r"
     ]
    },
    {
     "name": "stdout",
     "output_type": "stream",
     "text": [
      "Test Average Loss: 1.903099 | Test Sample Accuracy: 0.0000% | Test Pixel Accuracy: 8.44%\n"
     ]
    },
    {
     "name": "stderr",
     "output_type": "stream",
     "text": [
      "                                                                            \r"
     ]
    },
    {
     "name": "stdout",
     "output_type": "stream",
     "text": [
      "Epoch [324/1000] Complete | Average Loss: 1.879581 | Training Sample Accuracy: 0.0000% | Training Pixel Accuracy: 5.98%\n"
     ]
    },
    {
     "name": "stderr",
     "output_type": "stream",
     "text": [
      "                                                                     \r"
     ]
    },
    {
     "name": "stdout",
     "output_type": "stream",
     "text": [
      "Test Average Loss: 1.904470 | Test Sample Accuracy: 0.0000% | Test Pixel Accuracy: 8.44%\n"
     ]
    },
    {
     "name": "stderr",
     "output_type": "stream",
     "text": [
      "                                                                            \r"
     ]
    },
    {
     "name": "stdout",
     "output_type": "stream",
     "text": [
      "Epoch [325/1000] Complete | Average Loss: 1.895198 | Training Sample Accuracy: 0.0000% | Training Pixel Accuracy: 5.98%\n"
     ]
    },
    {
     "name": "stderr",
     "output_type": "stream",
     "text": [
      "                                                                     \r"
     ]
    },
    {
     "name": "stdout",
     "output_type": "stream",
     "text": [
      "Test Average Loss: 1.902890 | Test Sample Accuracy: 0.0000% | Test Pixel Accuracy: 8.44%\n"
     ]
    },
    {
     "name": "stderr",
     "output_type": "stream",
     "text": [
      "                                                                            \r"
     ]
    },
    {
     "name": "stdout",
     "output_type": "stream",
     "text": [
      "Epoch [326/1000] Complete | Average Loss: 1.879152 | Training Sample Accuracy: 0.0000% | Training Pixel Accuracy: 5.98%\n"
     ]
    },
    {
     "name": "stderr",
     "output_type": "stream",
     "text": [
      "                                                                     \r"
     ]
    },
    {
     "name": "stdout",
     "output_type": "stream",
     "text": [
      "Test Average Loss: 1.903514 | Test Sample Accuracy: 0.0000% | Test Pixel Accuracy: 8.44%\n"
     ]
    },
    {
     "name": "stderr",
     "output_type": "stream",
     "text": [
      "                                                                            \r"
     ]
    },
    {
     "name": "stdout",
     "output_type": "stream",
     "text": [
      "Epoch [327/1000] Complete | Average Loss: 1.910873 | Training Sample Accuracy: 0.0000% | Training Pixel Accuracy: 5.98%\n"
     ]
    },
    {
     "name": "stderr",
     "output_type": "stream",
     "text": [
      "                                                                     \r"
     ]
    },
    {
     "name": "stdout",
     "output_type": "stream",
     "text": [
      "Test Average Loss: 1.903705 | Test Sample Accuracy: 0.0000% | Test Pixel Accuracy: 8.44%\n"
     ]
    },
    {
     "name": "stderr",
     "output_type": "stream",
     "text": [
      "                                                                            \r"
     ]
    },
    {
     "name": "stdout",
     "output_type": "stream",
     "text": [
      "Epoch [328/1000] Complete | Average Loss: 1.876978 | Training Sample Accuracy: 0.0000% | Training Pixel Accuracy: 5.98%\n"
     ]
    },
    {
     "name": "stderr",
     "output_type": "stream",
     "text": [
      "                                                                     \r"
     ]
    },
    {
     "name": "stdout",
     "output_type": "stream",
     "text": [
      "Test Average Loss: 1.904147 | Test Sample Accuracy: 0.0000% | Test Pixel Accuracy: 8.44%\n"
     ]
    },
    {
     "name": "stderr",
     "output_type": "stream",
     "text": [
      "                                                                            \r"
     ]
    },
    {
     "name": "stdout",
     "output_type": "stream",
     "text": [
      "Epoch [329/1000] Complete | Average Loss: 1.902234 | Training Sample Accuracy: 0.0000% | Training Pixel Accuracy: 5.98%\n"
     ]
    },
    {
     "name": "stderr",
     "output_type": "stream",
     "text": [
      "                                                                     \r"
     ]
    },
    {
     "name": "stdout",
     "output_type": "stream",
     "text": [
      "Test Average Loss: 1.904255 | Test Sample Accuracy: 0.0000% | Test Pixel Accuracy: 8.44%\n"
     ]
    },
    {
     "name": "stderr",
     "output_type": "stream",
     "text": [
      "                                                                            \r"
     ]
    },
    {
     "name": "stdout",
     "output_type": "stream",
     "text": [
      "Epoch [330/1000] Complete | Average Loss: 1.892230 | Training Sample Accuracy: 0.0000% | Training Pixel Accuracy: 5.98%\n"
     ]
    },
    {
     "name": "stderr",
     "output_type": "stream",
     "text": [
      "                                                                     \r"
     ]
    },
    {
     "name": "stdout",
     "output_type": "stream",
     "text": [
      "Test Average Loss: 1.902550 | Test Sample Accuracy: 0.0000% | Test Pixel Accuracy: 8.44%\n"
     ]
    },
    {
     "name": "stderr",
     "output_type": "stream",
     "text": [
      "                                                                            \r"
     ]
    },
    {
     "name": "stdout",
     "output_type": "stream",
     "text": [
      "Epoch [331/1000] Complete | Average Loss: 1.897801 | Training Sample Accuracy: 0.0000% | Training Pixel Accuracy: 5.98%\n"
     ]
    },
    {
     "name": "stderr",
     "output_type": "stream",
     "text": [
      "                                                                     \r"
     ]
    },
    {
     "name": "stdout",
     "output_type": "stream",
     "text": [
      "Test Average Loss: 1.902173 | Test Sample Accuracy: 0.0000% | Test Pixel Accuracy: 8.44%\n"
     ]
    },
    {
     "name": "stderr",
     "output_type": "stream",
     "text": [
      "                                                                            \r"
     ]
    },
    {
     "name": "stdout",
     "output_type": "stream",
     "text": [
      "Epoch [332/1000] Complete | Average Loss: 1.901130 | Training Sample Accuracy: 0.0000% | Training Pixel Accuracy: 5.98%\n"
     ]
    },
    {
     "name": "stderr",
     "output_type": "stream",
     "text": [
      "                                                                     \r"
     ]
    },
    {
     "name": "stdout",
     "output_type": "stream",
     "text": [
      "Test Average Loss: 1.901516 | Test Sample Accuracy: 0.0000% | Test Pixel Accuracy: 8.44%\n"
     ]
    },
    {
     "name": "stderr",
     "output_type": "stream",
     "text": [
      "                                                                            \r"
     ]
    },
    {
     "name": "stdout",
     "output_type": "stream",
     "text": [
      "Epoch [333/1000] Complete | Average Loss: 1.889025 | Training Sample Accuracy: 0.0000% | Training Pixel Accuracy: 5.98%\n"
     ]
    },
    {
     "name": "stderr",
     "output_type": "stream",
     "text": [
      "                                                                     \r"
     ]
    },
    {
     "name": "stdout",
     "output_type": "stream",
     "text": [
      "Test Average Loss: 1.902065 | Test Sample Accuracy: 0.0000% | Test Pixel Accuracy: 8.44%\n"
     ]
    },
    {
     "name": "stderr",
     "output_type": "stream",
     "text": [
      "                                                                            \r"
     ]
    },
    {
     "name": "stdout",
     "output_type": "stream",
     "text": [
      "Epoch [334/1000] Complete | Average Loss: 1.870676 | Training Sample Accuracy: 0.0000% | Training Pixel Accuracy: 5.98%\n"
     ]
    },
    {
     "name": "stderr",
     "output_type": "stream",
     "text": [
      "                                                                     \r"
     ]
    },
    {
     "name": "stdout",
     "output_type": "stream",
     "text": [
      "Test Average Loss: 1.903947 | Test Sample Accuracy: 0.0000% | Test Pixel Accuracy: 8.44%\n"
     ]
    },
    {
     "name": "stderr",
     "output_type": "stream",
     "text": [
      "                                                                            \r"
     ]
    },
    {
     "name": "stdout",
     "output_type": "stream",
     "text": [
      "Epoch [335/1000] Complete | Average Loss: 1.879362 | Training Sample Accuracy: 0.0000% | Training Pixel Accuracy: 5.98%\n"
     ]
    },
    {
     "name": "stderr",
     "output_type": "stream",
     "text": [
      "                                                                     \r"
     ]
    },
    {
     "name": "stdout",
     "output_type": "stream",
     "text": [
      "Test Average Loss: 1.902810 | Test Sample Accuracy: 0.0000% | Test Pixel Accuracy: 8.44%\n"
     ]
    },
    {
     "name": "stderr",
     "output_type": "stream",
     "text": [
      "                                                                            \r"
     ]
    },
    {
     "name": "stdout",
     "output_type": "stream",
     "text": [
      "Epoch [336/1000] Complete | Average Loss: 1.885838 | Training Sample Accuracy: 0.0000% | Training Pixel Accuracy: 5.98%\n"
     ]
    },
    {
     "name": "stderr",
     "output_type": "stream",
     "text": [
      "                                                                     \r"
     ]
    },
    {
     "name": "stdout",
     "output_type": "stream",
     "text": [
      "Test Average Loss: 1.902102 | Test Sample Accuracy: 0.0000% | Test Pixel Accuracy: 8.44%\n"
     ]
    },
    {
     "name": "stderr",
     "output_type": "stream",
     "text": [
      "                                                                            \r"
     ]
    },
    {
     "name": "stdout",
     "output_type": "stream",
     "text": [
      "Epoch [337/1000] Complete | Average Loss: 1.904195 | Training Sample Accuracy: 0.0000% | Training Pixel Accuracy: 5.98%\n"
     ]
    },
    {
     "name": "stderr",
     "output_type": "stream",
     "text": [
      "                                                                     \r"
     ]
    },
    {
     "name": "stdout",
     "output_type": "stream",
     "text": [
      "Test Average Loss: 1.903342 | Test Sample Accuracy: 0.0000% | Test Pixel Accuracy: 8.44%\n"
     ]
    },
    {
     "name": "stderr",
     "output_type": "stream",
     "text": [
      "                                                                            \r"
     ]
    },
    {
     "name": "stdout",
     "output_type": "stream",
     "text": [
      "Epoch [338/1000] Complete | Average Loss: 1.893027 | Training Sample Accuracy: 0.0000% | Training Pixel Accuracy: 5.98%\n"
     ]
    },
    {
     "name": "stderr",
     "output_type": "stream",
     "text": [
      "                                                                     \r"
     ]
    },
    {
     "name": "stdout",
     "output_type": "stream",
     "text": [
      "Test Average Loss: 1.904202 | Test Sample Accuracy: 0.0000% | Test Pixel Accuracy: 8.44%\n"
     ]
    },
    {
     "name": "stderr",
     "output_type": "stream",
     "text": [
      "                                                                            \r"
     ]
    },
    {
     "name": "stdout",
     "output_type": "stream",
     "text": [
      "Epoch [339/1000] Complete | Average Loss: 1.904992 | Training Sample Accuracy: 0.0000% | Training Pixel Accuracy: 5.98%\n"
     ]
    },
    {
     "name": "stderr",
     "output_type": "stream",
     "text": [
      "                                                                     \r"
     ]
    },
    {
     "name": "stdout",
     "output_type": "stream",
     "text": [
      "Test Average Loss: 1.902014 | Test Sample Accuracy: 0.0000% | Test Pixel Accuracy: 8.44%\n"
     ]
    },
    {
     "name": "stderr",
     "output_type": "stream",
     "text": [
      "                                                                            \r"
     ]
    },
    {
     "name": "stdout",
     "output_type": "stream",
     "text": [
      "Epoch [340/1000] Complete | Average Loss: 1.894965 | Training Sample Accuracy: 0.0000% | Training Pixel Accuracy: 5.98%\n"
     ]
    },
    {
     "name": "stderr",
     "output_type": "stream",
     "text": [
      "                                                                     \r"
     ]
    },
    {
     "name": "stdout",
     "output_type": "stream",
     "text": [
      "Test Average Loss: 1.902875 | Test Sample Accuracy: 0.0000% | Test Pixel Accuracy: 8.44%\n"
     ]
    },
    {
     "name": "stderr",
     "output_type": "stream",
     "text": [
      "                                                                            \r"
     ]
    },
    {
     "name": "stdout",
     "output_type": "stream",
     "text": [
      "Epoch [341/1000] Complete | Average Loss: 1.893946 | Training Sample Accuracy: 0.0000% | Training Pixel Accuracy: 5.98%\n"
     ]
    },
    {
     "name": "stderr",
     "output_type": "stream",
     "text": [
      "                                                                     \r"
     ]
    },
    {
     "name": "stdout",
     "output_type": "stream",
     "text": [
      "Test Average Loss: 1.901673 | Test Sample Accuracy: 0.0000% | Test Pixel Accuracy: 8.44%\n"
     ]
    },
    {
     "name": "stderr",
     "output_type": "stream",
     "text": [
      "                                                                            \r"
     ]
    },
    {
     "name": "stdout",
     "output_type": "stream",
     "text": [
      "Epoch [342/1000] Complete | Average Loss: 1.901625 | Training Sample Accuracy: 0.0000% | Training Pixel Accuracy: 5.98%\n"
     ]
    },
    {
     "name": "stderr",
     "output_type": "stream",
     "text": [
      "                                                                     \r"
     ]
    },
    {
     "name": "stdout",
     "output_type": "stream",
     "text": [
      "Test Average Loss: 1.904419 | Test Sample Accuracy: 0.0000% | Test Pixel Accuracy: 8.44%\n"
     ]
    },
    {
     "name": "stderr",
     "output_type": "stream",
     "text": [
      "                                                                            \r"
     ]
    },
    {
     "name": "stdout",
     "output_type": "stream",
     "text": [
      "Epoch [343/1000] Complete | Average Loss: 1.885967 | Training Sample Accuracy: 0.0000% | Training Pixel Accuracy: 5.98%\n"
     ]
    },
    {
     "name": "stderr",
     "output_type": "stream",
     "text": [
      "                                                                     \r"
     ]
    },
    {
     "name": "stdout",
     "output_type": "stream",
     "text": [
      "Test Average Loss: 1.901818 | Test Sample Accuracy: 0.0000% | Test Pixel Accuracy: 8.44%\n"
     ]
    },
    {
     "name": "stderr",
     "output_type": "stream",
     "text": [
      "                                                                            \r"
     ]
    },
    {
     "name": "stdout",
     "output_type": "stream",
     "text": [
      "Epoch [344/1000] Complete | Average Loss: 1.897209 | Training Sample Accuracy: 0.0000% | Training Pixel Accuracy: 5.98%\n"
     ]
    },
    {
     "name": "stderr",
     "output_type": "stream",
     "text": [
      "                                                                     \r"
     ]
    },
    {
     "name": "stdout",
     "output_type": "stream",
     "text": [
      "Test Average Loss: 1.903077 | Test Sample Accuracy: 0.0000% | Test Pixel Accuracy: 8.44%\n"
     ]
    },
    {
     "name": "stderr",
     "output_type": "stream",
     "text": [
      "Epoch 345/1000:  22%|██▏       | 14/63 [00:05<00:16,  2.91it/s, loss=1.8449]"
     ]
    }
   ],
   "source": [
    "import matplotlib.pyplot as plt\n",
    "import torchvision.utils as vutils\n",
    "from tqdm import tqdm\n",
    "import torch\n",
    "import torch.nn.functional as F\n",
    "import torch.optim as optim\n",
    "from torch.utils.data import DataLoader\n",
    "from tqdm import tqdm\n",
    "import wandb\n",
    "\n",
    "train_challenge = './kaggle/input/arc-prize-2024/arc-agi_training_challenges.json'\n",
    "train_solution = \"./kaggle/input/arc-prize-2024/arc-agi_training_solutions.json\"\n",
    "eval_challenge = \"./kaggle/input/arc-prize-2024/arc-agi_evaluation_challenges.json\"\n",
    "eval_solution = \"./kaggle/input/arc-prize-2024/arc-agi_evaluation_solutions.json\"\n",
    "\n",
    "train_args = {\n",
    "    'challenges': train_challenge,\n",
    "    'solution': train_solution,\n",
    "    'num_classes': 11,\n",
    "    'batch_size': 16,\n",
    "    'epochs': 1000,\n",
    "    'learning_rate': 0.001,\n",
    "}\n",
    "\n",
    "model_args = {\n",
    "    'dims': (16,32,64,128),\n",
    "    'heads': 4,\n",
    "    'ff_expansion': 4,\n",
    "    'reduction_ratio': (4,2,2,2),\n",
    "    'num_layers': (1,2,4,4),\n",
    "    'channels': 11,\n",
    "    'num_classes': 11,\n",
    "    'kernel_stride_paddings': ((3, 1, 1),(3, 1, 1),(3, 2, 1),(3, 2, 1))\n",
    "    }\n",
    "# WandB 설정\n",
    "wandb.init(project=\"arc-agi-training\")\n",
    "\n",
    "# train_args와 model_args를 config에 추가\n",
    "wandb.config.update(train_args)\n",
    "wandb.config.update(model_args)\n",
    "\n",
    "best_test_accuracy = 0  # 최고 test 정확도를 기록할 변수\n",
    "\n",
    "# 모델 저장 함수\n",
    "def save_checkpoint(state, filename=\"best_model.pth\"):\n",
    "    torch.save(state, filename)\n",
    "    \n",
    "def criterion(y_pred, y):\n",
    "    y = y.long().squeeze(1)\n",
    "    weight = torch.ones(train_args['num_classes']).to(y.device)\n",
    "    weight[0] = 0.008\n",
    "    weight[1] = 0.08\n",
    "    ce = F.cross_entropy(y_pred, y, weight=weight) \n",
    "    return ce\n",
    "\n",
    "\n",
    "# CUDA 사용 가능 여부 확인\n",
    "device = 'mps' if torch.backends.mps.is_available() else 'cpu'\n",
    "device = 'cuda' if torch.cuda.is_available() else device\n",
    "print(f'Using {device} device')\n",
    "\n",
    "# 데이터셋 및 데이터로더 생성\n",
    "train_dataset = ARC_Dataset(train_challenge, train_solution)\n",
    "train_loader = DataLoader(train_dataset, batch_size=train_args['batch_size'], shuffle=True)\n",
    "\n",
    "eval_dataset = ARC_Dataset(eval_challenge, eval_solution)\n",
    "eval_loader = DataLoader(eval_dataset, batch_size=train_args['batch_size'], shuffle=False)\n",
    "\n",
    "# 모델 정의\n",
    "model = ARC_Net(**model_args).to(device)\n",
    "\n",
    "# 옵티마이저 정의\n",
    "optimizer = optim.AdamW(model.parameters(), lr=train_args['learning_rate'])\n",
    "\n",
    "# train 함수 수정\n",
    "def train(epoch):\n",
    "    model.train()\n",
    "    total_loss = 0\n",
    "    total_correct_samples = 0\n",
    "    total_samples = 0\n",
    "    total_correct_pixels = 0\n",
    "    total_pixels = 0\n",
    "\n",
    "    last_task_inputs = None\n",
    "    last_task_outputs = None\n",
    "    last_output = None\n",
    "\n",
    "    progress_bar = tqdm(enumerate(train_loader), total=len(train_loader), desc=f'Epoch {epoch+1}/{train_args[\"epochs\"]}', leave=False)\n",
    "\n",
    "    for batch_idx, (task_inputs, task_outputs, ex_inputs, ex_outputs) in progress_bar:\n",
    "        task_inputs = task_inputs.to(device, non_blocking=True)\n",
    "        task_outputs = task_outputs.to(device, non_blocking=True)\n",
    "        ex_inputs = ex_inputs.to(device, non_blocking=True)\n",
    "        ex_outputs = ex_outputs.to(device, non_blocking=True)\n",
    "\n",
    "        optimizer.zero_grad()\n",
    "        output = model(task_inputs, ex_inputs, ex_outputs)\n",
    "\n",
    "        # 손실 함수 계산\n",
    "        loss = criterion(output, task_outputs)\n",
    "        loss.backward()\n",
    "        optimizer.step()\n",
    "        total_loss += loss.item()\n",
    "        \n",
    "        # 정확도 계산\n",
    "        correct_samples, batch_total_samples, correct_pixels, batch_total_pixels = calculate_accuracy(output, task_outputs)\n",
    "        total_correct_samples += correct_samples\n",
    "        total_samples += batch_total_samples\n",
    "        total_correct_pixels += correct_pixels\n",
    "        total_pixels += batch_total_pixels\n",
    "\n",
    "        # 마지막 배치의 데이터 저장 (clone 제거)\n",
    "        last_task_inputs = task_inputs.detach()\n",
    "        last_task_outputs = task_outputs.detach()\n",
    "        last_output = output.detach()\n",
    "        \n",
    "        # 프로그레스 바 업데이트\n",
    "        progress_bar.set_postfix(loss=f'{loss.item():.4f}')\n",
    "    \n",
    "    avg_sample_accuracy = 100. * float(total_correct_samples) / float(total_samples)\n",
    "    avg_pixel_accuracy = 100. * float(total_correct_pixels) / float(total_pixels)\n",
    "    avg_loss = total_loss / len(train_loader)\n",
    "\n",
    "    # WandB 로그 기록\n",
    "    wandb.log({\n",
    "        \"train_loss\": avg_loss,\n",
    "        \"train_sample_accuracy\": avg_sample_accuracy,\n",
    "        \"train_pixel_accuracy\": avg_pixel_accuracy,\n",
    "        \"epoch\": epoch+1\n",
    "    })\n",
    "\n",
    "    print(f'Epoch [{epoch+1}/{train_args[\"epochs\"]}] Complete | Average Loss: {avg_loss:.6f} | Training Sample Accuracy: {avg_sample_accuracy:.4f}% | Training Pixel Accuracy: {avg_pixel_accuracy:.2f}%')\n",
    "\n",
    "    if (epoch + 1) % 50 == 0:\n",
    "        visualize_predictions(last_task_inputs, last_task_outputs, last_output, condition=True)\n",
    "\n",
    "# test 함수 수정\n",
    "def test(epoch):\n",
    "    global best_test_accuracy\n",
    "    model.eval()\n",
    "    total_loss = 0\n",
    "    total_correct_samples = 0\n",
    "    total_samples = 0\n",
    "    total_correct_pixels = 0\n",
    "    total_pixels = 0\n",
    "\n",
    "    last_task_inputs = None\n",
    "    last_task_outputs = None\n",
    "    last_output = None\n",
    "\n",
    "    progress_bar = tqdm(enumerate(eval_loader), total=len(eval_loader), desc='Testing', leave=False)\n",
    "\n",
    "    with torch.no_grad():\n",
    "        for batch_idx, (task_inputs, task_outputs, ex_inputs, ex_outputs) in progress_bar:\n",
    "            task_inputs = task_inputs.to(device, non_blocking=True)\n",
    "            task_outputs = task_outputs.to(device, non_blocking=True)\n",
    "            ex_inputs = ex_inputs.to(device, non_blocking=True)\n",
    "            ex_outputs = ex_outputs.to(device, non_blocking=True)\n",
    "\n",
    "            output = model(task_inputs, ex_inputs, ex_outputs)\n",
    "\n",
    "            # 손실 함수 계산\n",
    "            loss = criterion(output, task_outputs)\n",
    "            total_loss += loss.item()\n",
    "\n",
    "            # 정확도 계산\n",
    "            correct_samples, batch_total_samples, correct_pixels, batch_total_pixels = calculate_accuracy(output, task_outputs)\n",
    "            total_correct_samples += correct_samples\n",
    "            total_samples += batch_total_samples\n",
    "            total_correct_pixels += correct_pixels\n",
    "            total_pixels += batch_total_pixels\n",
    "\n",
    "            # 마지막 배치의 데이터 저장 (clone 제거)\n",
    "            last_task_inputs = task_inputs.detach()\n",
    "            last_task_outputs = task_outputs.detach()\n",
    "            last_output = output.detach()\n",
    "            \n",
    "            # 프로그레스 바 업데이트\n",
    "            progress_bar.set_postfix(loss=f'{loss.item():.4f}')\n",
    "    \n",
    "    avg_sample_accuracy = 100. * float(total_correct_samples) / float(total_samples)\n",
    "    avg_pixel_accuracy = 100. * float(total_correct_pixels) / float(total_pixels)\n",
    "    avg_loss = total_loss / len(eval_loader)\n",
    "\n",
    "    # WandB 로그 기록\n",
    "    wandb.log({\n",
    "        \"test_loss\": avg_loss,\n",
    "        \"test_sample_accuracy\": avg_sample_accuracy,\n",
    "        \"test_pixel_accuracy\": avg_pixel_accuracy,\n",
    "        \"epoch\": epoch+1\n",
    "    })\n",
    "\n",
    "    print(f'Test Average Loss: {avg_loss:.6f} | Test Sample Accuracy: {avg_sample_accuracy:.4f}% | Test Pixel Accuracy: {avg_pixel_accuracy:.2f}%')\n",
    "\n",
    "    # 최고 성능 모델 저장\n",
    "    if avg_sample_accuracy > best_test_accuracy:\n",
    "        print(f\"New best model found! Saving model with accuracy {avg_sample_accuracy:.4f}%\")\n",
    "        best_test_accuracy = avg_sample_accuracy\n",
    "        save_checkpoint({\n",
    "            'epoch': epoch + 1,\n",
    "            'state_dict': model.state_dict(),\n",
    "            'best_test_accuracy': best_test_accuracy,\n",
    "            'optimizer': optimizer.state_dict(),\n",
    "        }, filename=\"best_model.pth\")\n",
    "\n",
    "    if (epoch + 1) % 50 == 0:\n",
    "        visualize_predictions(last_task_inputs, last_task_outputs, last_output, condition=True)\n",
    "\n",
    "# 학습 실행\n",
    "for epoch in range(train_args['epochs']):  \n",
    "    train(epoch)\n",
    "    test(epoch)\n",
    "\n",
    "# WandB 종료\n",
    "wandb.finish()"
   ]
  }
 ],
 "metadata": {
  "kernelspec": {
   "display_name": "dust",
   "language": "python",
   "name": "python3"
  },
  "language_info": {
   "codemirror_mode": {
    "name": "ipython",
    "version": 3
   },
   "file_extension": ".py",
   "mimetype": "text/x-python",
   "name": "python",
   "nbconvert_exporter": "python",
   "pygments_lexer": "ipython3",
   "version": "3.12.2"
  }
 },
 "nbformat": 4,
 "nbformat_minor": 2
}
