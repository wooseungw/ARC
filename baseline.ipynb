{
 "cells": [
  {
   "cell_type": "code",
   "execution_count": 3,
   "metadata": {},
   "outputs": [
    {
     "name": "stdout",
     "output_type": "stream",
     "text": [
      "Created ARC files in './kaggle/working/abstraction-and-reasoning-challenge/test':\n",
      "['23581191.json', '4258a5f9.json', '25ff71a9.json', '39e1d7f9.json', '025d127b.json', '017c7c7b.json', '28bf18c6.json', '264363fd.json', '36d67576.json', '1f876c06.json', '1c786137.json', '3bd67248.json', '2013d3e2.json', '2dc579da.json', '2281f1f4.json', '1a07d186.json', '32597951.json', '363442ee.json', '29623171.json', '29c11459.json', '2dd70a9a.json', '25d487eb.json', '3906de3d.json', '4290ef0e.json', '1190e5a7.json', '3af2c5a8.json', '239be575.json', '1e0a9b12.json', '10fcaaa3.json', '4093f84a.json', '150deff5.json', '1b2d62fb.json', '3de23699.json', '39a8645d.json', '22233c11.json', '3e980e27.json', '1e32b0e9.json', '4347f46a.json', '253bf280.json', '1f85a75f.json', '05f2a901.json', '3c9b0459.json', '2dee498d.json', '3ac3eb23.json', '08ed6ac7.json', '22eb0ac0.json', '25d8a9c8.json', '1b60fb0c.json', '178fcbfb.json', '3bdb4ada.json', '27a28665.json', '0520fde7.json', '1caeab9d.json', '3befdf3e.json', '1f0c79e5.json', '0b148d64.json', '0a938d79.json', '321b1fc6.json', '445eab21.json', '42a50994.json', '28e73c20.json', '234bbc79.json', '09629e4f.json', '1f642eb9.json', '1fad071e.json', '3eda0437.json', '1cf80156.json', '3618c87e.json', '007bbfb7.json', '2c608aff.json', '3aa6fb7a.json', '0ca9ddb6.json', '05269061.json', '0dfd9992.json', '40853293.json', '36fdfd69.json', '3428a4f5.json', '0d3d703e.json', '272f95fa.json', '06df4c85.json', '41e4d17e.json', '1bfc4729.json', '3345333e.json', '045e512c.json', '11852cab.json', '444801d8.json', '3631a71a.json', '3f7978a0.json', '0962bcdd.json', '2204b7a8.json', '31aa019c.json', '0e206a2e.json', '00d62c1b.json', '23b5c85d.json', '29ec7d0e.json', '137eaa0f.json', '2bcee788.json', '22168020.json', '228f6490.json', '2bee17df.json']\n"
     ]
    }
   ],
   "source": [
    "from glob import glob\n",
    "import os\n",
    "import json\n",
    "# Set the base path for the data\n",
    "base_path = './kaggle/input/arc-prize-2024/'\n",
    "# Copied from the starter EDA notebook\n",
    "def load_json(file_path):\n",
    "    with open(file_path) as f:\n",
    "        data = json.load(f)\n",
    "    return data"
   ]
  },
  {
   "cell_type": "code",
   "execution_count": null,
   "metadata": {},
   "outputs": [],
   "source": [
    "training_challenges = load_json(base_path + 'arc-agi_training_challenges.json')\n",
    "training_solutions = load_json(base_path + 'arc-agi_training_solutions.json')"
   ]
  },
  {
   "cell_type": "code",
   "execution_count": null,
   "metadata": {},
   "outputs": [],
   "source": [
    "import torch\n"
   ]
  }
 ],
 "metadata": {
  "kernelspec": {
   "display_name": "dust",
   "language": "python",
   "name": "python3"
  },
  "language_info": {
   "codemirror_mode": {
    "name": "ipython",
    "version": 3
   },
   "file_extension": ".py",
   "mimetype": "text/x-python",
   "name": "python",
   "nbconvert_exporter": "python",
   "pygments_lexer": "ipython3",
   "version": "3.12.2"
  }
 },
 "nbformat": 4,
 "nbformat_minor": 2
}
